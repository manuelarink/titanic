{
 "cells": [
  {
   "cell_type": "markdown",
   "id": "b0dc5a8f",
   "metadata": {},
   "source": [
    "# Exploratory Data Analysis of the Titanic training set"
   ]
  },
  {
   "cell_type": "code",
   "execution_count": 1,
   "id": "82222eac",
   "metadata": {},
   "outputs": [],
   "source": [
    "import pandas as pd\n",
    "import numpy as np\n",
    "import matplotlib.pyplot as plt\n",
    "import seaborn as sns\n",
    "\n",
    "sns.set_theme(style='whitegrid')"
   ]
  },
  {
   "cell_type": "markdown",
   "id": "70e93423",
   "metadata": {},
   "source": [
    "## 1. Load the training set"
   ]
  },
  {
   "cell_type": "code",
   "execution_count": 2,
   "id": "9002ed81",
   "metadata": {},
   "outputs": [],
   "source": [
    "titanic = pd.read_csv('../00_data/train.csv')"
   ]
  },
  {
   "cell_type": "markdown",
   "id": "c6b5e388",
   "metadata": {},
   "source": [
    "## 2. Explore features of the training set"
   ]
  },
  {
   "cell_type": "code",
   "execution_count": 3,
   "id": "7bb24a21",
   "metadata": {},
   "outputs": [
    {
     "name": "stdout",
     "output_type": "stream",
     "text": [
      "   PassengerId  Survived  Pclass  \\\n",
      "0            1         0       3   \n",
      "1            2         1       1   \n",
      "2            3         1       3   \n",
      "3            4         1       1   \n",
      "4            5         0       3   \n",
      "\n",
      "                                                Name     Sex   Age  SibSp  \\\n",
      "0                            Braund, Mr. Owen Harris    male  22.0      1   \n",
      "1  Cumings, Mrs. John Bradley (Florence Briggs Th...  female  38.0      1   \n",
      "2                             Heikkinen, Miss. Laina  female  26.0      0   \n",
      "3       Futrelle, Mrs. Jacques Heath (Lily May Peel)  female  35.0      1   \n",
      "4                           Allen, Mr. William Henry    male  35.0      0   \n",
      "\n",
      "   Parch            Ticket     Fare Cabin Embarked  \n",
      "0      0         A/5 21171   7.2500   NaN        S  \n",
      "1      0          PC 17599  71.2833   C85        C  \n",
      "2      0  STON/O2. 3101282   7.9250   NaN        S  \n",
      "3      0            113803  53.1000  C123        S  \n",
      "4      0            373450   8.0500   NaN        S  \n"
     ]
    }
   ],
   "source": [
    "print(titanic.head())"
   ]
  },
  {
   "cell_type": "markdown",
   "id": "dcae6007",
   "metadata": {},
   "source": [
    "### 2.1 Features of the dataset"
   ]
  },
  {
   "cell_type": "code",
   "execution_count": 4,
   "id": "40552116",
   "metadata": {},
   "outputs": [
    {
     "name": "stdout",
     "output_type": "stream",
     "text": [
      "<class 'pandas.core.frame.DataFrame'>\n",
      "RangeIndex: 891 entries, 0 to 890\n",
      "Data columns (total 12 columns):\n",
      " #   Column       Non-Null Count  Dtype  \n",
      "---  ------       --------------  -----  \n",
      " 0   PassengerId  891 non-null    int64  \n",
      " 1   Survived     891 non-null    int64  \n",
      " 2   Pclass       891 non-null    int64  \n",
      " 3   Name         891 non-null    object \n",
      " 4   Sex          891 non-null    object \n",
      " 5   Age          714 non-null    float64\n",
      " 6   SibSp        891 non-null    int64  \n",
      " 7   Parch        891 non-null    int64  \n",
      " 8   Ticket       891 non-null    object \n",
      " 9   Fare         891 non-null    float64\n",
      " 10  Cabin        204 non-null    object \n",
      " 11  Embarked     889 non-null    object \n",
      "dtypes: float64(2), int64(5), object(5)\n",
      "memory usage: 83.7+ KB\n",
      "None\n"
     ]
    }
   ],
   "source": [
    "print(titanic.info())"
   ]
  },
  {
   "cell_type": "markdown",
   "id": "8264b0c7",
   "metadata": {},
   "source": [
    "- 'Survived': survival of passenger (0 = No, 1 = Yes)\n",
    "- 'Pclass': ticket class of passenger (1 = 1st, 2 = 2nd, 3 = 3rd)\n",
    "- 'Name': name of passenger\n",
    "- 'Sex': sex of passenger\n",
    "- 'Age': age in years of passenger\n",
    "- 'SibSp': # of siblings / spouses aboard the Titanic\t\n",
    "- 'Parch': # of parents / children aboard the Titanic\t\n",
    "- 'Ticket': Ticket number\n",
    "- 'Fare': Passenger fare\n",
    "- 'Cabin': Cabin number\n",
    "- 'Embarked': Port of Embarkation (C = Cherbourg, Q = Queenstown, S = Southampton)"
   ]
  },
  {
   "cell_type": "markdown",
   "id": "1b494429",
   "metadata": {},
   "source": [
    "### 2.2 Missing values"
   ]
  },
  {
   "cell_type": "code",
   "execution_count": 5,
   "id": "00b53aab",
   "metadata": {},
   "outputs": [
    {
     "name": "stdout",
     "output_type": "stream",
     "text": [
      "PassengerId      0\n",
      "Survived         0\n",
      "Pclass           0\n",
      "Name             0\n",
      "Sex              0\n",
      "Age            177\n",
      "SibSp            0\n",
      "Parch            0\n",
      "Ticket           0\n",
      "Fare             0\n",
      "Cabin          687\n",
      "Embarked         2\n",
      "dtype: int64\n"
     ]
    }
   ],
   "source": [
    "print(titanic.isna().sum())"
   ]
  },
  {
   "cell_type": "markdown",
   "id": "a9503c79",
   "metadata": {},
   "source": [
    "Column age and especially cabin have many missing values! We have to take this into account during further investigations and ml model development."
   ]
  },
  {
   "cell_type": "markdown",
   "id": "42526757",
   "metadata": {},
   "source": [
    "### 2.3 Statistics of features with numerical values"
   ]
  },
  {
   "cell_type": "code",
   "execution_count": 6,
   "id": "7d63488a",
   "metadata": {},
   "outputs": [
    {
     "name": "stdout",
     "output_type": "stream",
     "text": [
      "              Age       SibSp       Parch        Fare\n",
      "count  714.000000  891.000000  891.000000  891.000000\n",
      "mean    29.699118    0.523008    0.381594   32.204208\n",
      "std     14.526497    1.102743    0.806057   49.693429\n",
      "min      0.420000    0.000000    0.000000    0.000000\n",
      "25%     20.125000    0.000000    0.000000    7.910400\n",
      "50%     28.000000    0.000000    0.000000   14.454200\n",
      "75%     38.000000    1.000000    0.000000   31.000000\n",
      "max     80.000000    8.000000    6.000000  512.329200\n"
     ]
    }
   ],
   "source": [
    "print(titanic[['Age', 'SibSp', 'Parch', 'Fare']].describe())"
   ]
  },
  {
   "cell_type": "markdown",
   "id": "744289d2",
   "metadata": {},
   "source": [
    "## 3. Questions for EDA"
   ]
  },
  {
   "cell_type": "markdown",
   "id": "d90f917b",
   "metadata": {},
   "source": [
    "In the following the Titanic training set will be analyzed regarding the following questions:\n",
    "- How many passengers survived in total, how many died?\n",
    "- How many male and how many female passengers survived?\n",
    "- How many passengers in 1st, 2nd, and 3rd class survived?\n",
    "- How many male and how many female passengers in 1st, 2nd, and 3rd class survived?\n",
    "- Are passengers with higher rank (a title in Name) more likely to survive?\n",
    "- How is the distribution of age for those passengers that survived and those who died?\n",
    "- Are passengers with siblings / spouses aboard more likely to survive or not?\n",
    "- Are passengers with children / parents aboard more likely to survive or not?"
   ]
  },
  {
   "cell_type": "markdown",
   "id": "74d67f95",
   "metadata": {},
   "source": [
    "### 3.1 How many passengers survived, how many died?"
   ]
  },
  {
   "cell_type": "code",
   "execution_count": 7,
   "id": "c5a472f2",
   "metadata": {},
   "outputs": [
    {
     "name": "stdout",
     "output_type": "stream",
     "text": [
      "0    549\n",
      "1    342\n",
      "Name: Survived, dtype: int64\n",
      "0    0.616162\n",
      "1    0.383838\n",
      "Name: Survived, dtype: float64\n"
     ]
    }
   ],
   "source": [
    "print(titanic['Survived'].value_counts())\n",
    "print(titanic['Survived'].value_counts(normalize=True))"
   ]
  },
  {
   "cell_type": "code",
   "execution_count": 8,
   "id": "6dcbfd82",
   "metadata": {},
   "outputs": [
    {
     "data": {
      "image/png": "[encoded data removed]",
      "text/plain": [
       "<Figure size 576x360 with 1 Axes>"
      ]
     },
     "metadata": {},
     "output_type": "display_data"
    }
   ],
   "source": [
    "fig, ax = plt.subplots(figsize=(8, 5))\n",
    "sns.countplot(data=titanic, x='Survived')\n",
    "plt.title('Survival count')\n",
    "plt.show()"
   ]
  },
  {
   "cell_type": "markdown",
   "id": "2a863df8",
   "metadata": {},
   "source": [
    "###  3.2 How many male and how many female passengers survived?"
   ]
  },
  {
   "cell_type": "code",
   "execution_count": 9,
   "id": "f6b66c45",
   "metadata": {},
   "outputs": [
    {
     "name": "stdout",
     "output_type": "stream",
     "text": [
      "male      577\n",
      "female    314\n",
      "Name: Sex, dtype: int64\n"
     ]
    }
   ],
   "source": [
    "print(titanic['Sex'].value_counts())"
   ]
  },
  {
   "cell_type": "code",
   "execution_count": 10,
   "id": "6857ed86",
   "metadata": {},
   "outputs": [
    {
     "name": "stdout",
     "output_type": "stream",
     "text": [
      "Survived    0    1\n",
      "Sex               \n",
      "female     81  233\n",
      "male      468  109\n"
     ]
    }
   ],
   "source": [
    "sex_survived = pd.crosstab(titanic['Sex'], titanic['Survived'])\n",
    "print(sex_survived)"
   ]
  },
  {
   "cell_type": "code",
   "execution_count": 11,
   "id": "c81805fb",
   "metadata": {},
   "outputs": [
    {
     "data": {
      "image/png": "[encoded data removed]",
      "text/plain": [
       "<Figure size 720x360 with 1 Axes>"
      ]
     },
     "metadata": {},
     "output_type": "display_data"
    }
   ],
   "source": [
    "fig, ax = plt.subplots(figsize=(10, 5))\n",
    "sns.countplot(data=titanic, x='Sex', hue='Survived')\n",
    "plt.title('Survival count of female and male passengers')\n",
    "plt.show()"
   ]
  },
  {
   "cell_type": "markdown",
   "id": "c03a7902",
   "metadata": {},
   "source": [
    "Obviously the female passengers had a much better chance to survive than the male passengers."
   ]
  },
  {
   "cell_type": "markdown",
   "id": "0900ad44",
   "metadata": {},
   "source": [
    "### 3.2 How many passengers in 1st, 2nd, and 3rd class survived?"
   ]
  },
  {
   "cell_type": "code",
   "execution_count": 12,
   "id": "04eaee64",
   "metadata": {},
   "outputs": [
    {
     "name": "stdout",
     "output_type": "stream",
     "text": [
      "Survived    0    1\n",
      "Pclass            \n",
      "1          80  136\n",
      "2          97   87\n",
      "3         372  119\n"
     ]
    }
   ],
   "source": [
    "class_survived = pd.crosstab(titanic['Pclass'], titanic['Survived'])\n",
    "print(class_survived)"
   ]
  },
  {
   "cell_type": "code",
   "execution_count": 13,
   "id": "26f624c9",
   "metadata": {},
   "outputs": [
    {
     "data": {
      "image/png": "[encoded data removed]",
      "text/plain": [
       "<Figure size 720x360 with 1 Axes>"
      ]
     },
     "metadata": {},
     "output_type": "display_data"
    }
   ],
   "source": [
    "fig, ax = plt.subplots(figsize=(10, 5))\n",
    "sns.countplot(data=titanic, x='Pclass', hue='Survived')\n",
    "plt.title('Survival count and class')\n",
    "plt.show()"
   ]
  },
  {
   "cell_type": "markdown",
   "id": "5591e727",
   "metadata": {},
   "source": [
    "The passengers in first class were more likely to survive than the ones in the other two classes. The most passengers who died came from third class."
   ]
  },
  {
   "cell_type": "markdown",
   "id": "5ddf0e13",
   "metadata": {},
   "source": [
    "### 3.3 How is the distribution of age for those passengers that survived and those who died?"
   ]
  },
  {
   "cell_type": "code",
   "execution_count": 14,
   "id": "58d76d6c",
   "metadata": {},
   "outputs": [
    {
     "name": "stdout",
     "output_type": "stream",
     "text": [
      "Survived  0  1\n",
      "Age           \n",
      "0.42      0  1\n",
      "0.67      0  1\n",
      "0.75      0  2\n",
      "0.83      0  2\n",
      "0.92      0  1\n",
      "...      .. ..\n",
      "70.00     2  0\n",
      "70.50     1  0\n",
      "71.00     2  0\n",
      "74.00     1  0\n",
      "80.00     0  1\n",
      "\n",
      "[88 rows x 2 columns]\n"
     ]
    }
   ],
   "source": [
    "age_survived = pd.crosstab(titanic['Age'], titanic['Survived'])\n",
    "print(age_survived)"
   ]
  },
  {
   "cell_type": "code",
   "execution_count": 15,
   "id": "0db2eccb",
   "metadata": {},
   "outputs": [
    {
     "data": {
      "image/png": "[encoded data removed]",
      "text/plain": [
       "<Figure size 1440x720 with 1 Axes>"
      ]
     },
     "metadata": {},
     "output_type": "display_data"
    }
   ],
   "source": [
    "fig, ax = plt.subplots(figsize=(20, 10))\n",
    "sns.histplot(data=titanic, x='Age', hue='Survived', bins=160, multiple='stack', ax=ax)\n",
    "plt.title('Survival count and Age')\n",
    "plt.show()"
   ]
  },
  {
   "cell_type": "markdown",
   "id": "9f1c7003",
   "metadata": {},
   "source": [
    "Age doesn't seem to have a great impact on how a passenger survived or not. Exception are babies under 1 year, who all survived. "
   ]
  },
  {
   "cell_type": "markdown",
   "id": "bb14d442",
   "metadata": {},
   "source": [
    "### 3.4 Family size and survival "
   ]
  },
  {
   "cell_type": "code",
   "execution_count": 16,
   "id": "89eafbab",
   "metadata": {},
   "outputs": [
    {
     "data": {
      "image/png": "[encoded data removed]",
      "text/plain": [
       "<Figure size 1224x360 with 1 Axes>"
      ]
     },
     "metadata": {},
     "output_type": "display_data"
    }
   ],
   "source": [
    "fig, ax = plt.subplots(figsize=(17, 5))\n",
    "sns.histplot(data=titanic, y='Parch', ax=ax, multiple='stack', hue='Survived', bins=10)\n",
    "plt.title('Survival count for number of parents / children (Parch)')\n",
    "plt.show()"
   ]
  },
  {
   "cell_type": "code",
   "execution_count": 17,
   "id": "27479760",
   "metadata": {},
   "outputs": [
    {
     "data": {
      "image/png": "[encoded data removed]",
      "text/plain": [
       "<Figure size 1224x360 with 1 Axes>"
      ]
     },
     "metadata": {},
     "output_type": "display_data"
    }
   ],
   "source": [
    "fig, ax = plt.subplots(figsize=(17, 5))\n",
    "sns.histplot(data=titanic, y='SibSp', ax=ax, hue='Survived', multiple='stack', bins=10)\n",
    "plt.title('Survival count for number of siblings / spouses (SibSp)')\n",
    "plt.show()"
   ]
  },
  {
   "cell_type": "code",
   "execution_count": 18,
   "id": "0339ec66",
   "metadata": {},
   "outputs": [
    {
     "name": "stdout",
     "output_type": "stream",
     "text": [
      "Survived    0    1\n",
      "Parch             \n",
      "0         445  233\n",
      "1          53   65\n",
      "2          40   40\n",
      "3           2    3\n",
      "4           4    0\n",
      "5           4    1\n",
      "6           1    0\n"
     ]
    }
   ],
   "source": [
    "print(pd.crosstab(titanic['Parch'], titanic['Survived']))"
   ]
  },
  {
   "cell_type": "code",
   "execution_count": 19,
   "id": "672b529a",
   "metadata": {},
   "outputs": [
    {
     "name": "stdout",
     "output_type": "stream",
     "text": [
      "Survived    0    1\n",
      "SibSp             \n",
      "0         398  210\n",
      "1          97  112\n",
      "2          15   13\n",
      "3          12    4\n",
      "4          15    3\n",
      "5           5    0\n",
      "8           7    0\n"
     ]
    }
   ],
   "source": [
    "print(pd.crosstab(titanic['SibSp'], titanic['Survived']))"
   ]
  },
  {
   "cell_type": "markdown",
   "id": "41be858e",
   "metadata": {},
   "source": [
    "It seems, that the best chances to survive had passengers who travelled with 1 or 2 relatives, whereas bigger family size is rather an indicator for not surviving the desaster."
   ]
  },
  {
   "cell_type": "markdown",
   "id": "fae8c839",
   "metadata": {},
   "source": [
    "#### Family Size and Class"
   ]
  },
  {
   "cell_type": "markdown",
   "id": "fc6a0f77",
   "metadata": {},
   "source": [
    "An explanation for the relationship between family size and survival as displayed above might be, that bigger families travelled rather in third class and had therefore a smaller chance to survive than passengers in first and second class (this relationship was already figured out earlier). Let's see, if this hypothesis proves right."
   ]
  },
  {
   "cell_type": "code",
   "execution_count": 20,
   "id": "326e4207",
   "metadata": {},
   "outputs": [
    {
     "name": "stdout",
     "output_type": "stream",
     "text": [
      "Pclass    1    2    3\n",
      "Parch                \n",
      "0       163  134  381\n",
      "1        31   32   55\n",
      "2        21   16   43\n",
      "3         0    2    3\n",
      "4         1    0    3\n",
      "5         0    0    5\n",
      "6         0    0    1\n"
     ]
    }
   ],
   "source": [
    "print(pd.crosstab(titanic['Parch'], titanic['Pclass']))"
   ]
  },
  {
   "cell_type": "code",
   "execution_count": 21,
   "id": "69df5905",
   "metadata": {},
   "outputs": [
    {
     "name": "stdout",
     "output_type": "stream",
     "text": [
      "Pclass    1    2    3\n",
      "SibSp                \n",
      "0       137  120  351\n",
      "1        71   55   83\n",
      "2         5    8   15\n",
      "3         3    1   12\n",
      "4         0    0   18\n",
      "5         0    0    5\n",
      "8         0    0    7\n"
     ]
    }
   ],
   "source": [
    "print(pd.crosstab(titanic['SibSp'], titanic['Pclass']))"
   ]
  },
  {
   "cell_type": "code",
   "execution_count": 22,
   "id": "f277e187",
   "metadata": {},
   "outputs": [
    {
     "data": {
      "image/png": "[encoded data removed]",
      "text/plain": [
       "<Figure size 1224x360 with 1 Axes>"
      ]
     },
     "metadata": {},
     "output_type": "display_data"
    }
   ],
   "source": [
    "fig, ax = plt.subplots(figsize=(17, 5))\n",
    "sns.histplot(data=titanic, y='Parch', ax=ax, multiple='stack', hue='Pclass', bins=10)\n",
    "plt.title('Number of parents / children (Parch) per class')\n",
    "plt.show()"
   ]
  },
  {
   "cell_type": "code",
   "execution_count": 23,
   "id": "ba8857a0",
   "metadata": {},
   "outputs": [
    {
     "data": {
      "image/png": "[encoded data removed]",
      "text/plain": [
       "<Figure size 1224x360 with 1 Axes>"
      ]
     },
     "metadata": {},
     "output_type": "display_data"
    }
   ],
   "source": [
    "fig, ax = plt.subplots(figsize=(17, 5))\n",
    "sns.histplot(data=titanic, y='SibSp', ax=ax, hue='Pclass', multiple='stack', bins=10)\n",
    "plt.title('Number of siblings / spouses (SibSp) and class')\n",
    "plt.show()"
   ]
  },
  {
   "cell_type": "code",
   "execution_count": 24,
   "id": "a21879c2",
   "metadata": {},
   "outputs": [
    {
     "name": "stdout",
     "output_type": "stream",
     "text": [
      "Parch  Pclass  Survived\n",
      "0      1       0            64\n",
      "               1            99\n",
      "       2       0            86\n",
      "               1            48\n",
      "       3       0           295\n",
      "               1            86\n",
      "1      1       0            10\n",
      "               1            21\n",
      "       2       0             8\n",
      "               1            24\n",
      "       3       0            35\n",
      "               1            20\n",
      "2      1       0             5\n",
      "               1            16\n",
      "       2       0             3\n",
      "               1            13\n",
      "       3       0            32\n",
      "               1            11\n",
      "3      2       1             2\n",
      "       3       0             2\n",
      "               1             1\n",
      "4      1       0             1\n",
      "       3       0             3\n",
      "5      3       0             4\n",
      "               1             1\n",
      "6      3       0             1\n",
      "Name: PassengerId, dtype: int64\n"
     ]
    }
   ],
   "source": [
    "print(titanic.groupby(['Parch', 'Pclass', 'Survived']).count()['PassengerId'])"
   ]
  },
  {
   "cell_type": "code",
   "execution_count": 25,
   "id": "ac8770a5",
   "metadata": {},
   "outputs": [
    {
     "name": "stdout",
     "output_type": "stream",
     "text": [
      "SibSp  Pclass  Survived\n",
      "0      1       0            60\n",
      "               1            77\n",
      "       2       0            70\n",
      "               1            50\n",
      "       3       0           268\n",
      "               1            83\n",
      "1      1       0            18\n",
      "               1            53\n",
      "       2       0            23\n",
      "               1            32\n",
      "       3       0            56\n",
      "               1            27\n",
      "2      1       0             1\n",
      "               1             4\n",
      "       2       0             4\n",
      "               1             4\n",
      "       3       0            10\n",
      "               1             5\n",
      "3      1       0             1\n",
      "               1             2\n",
      "       2       1             1\n",
      "       3       0            11\n",
      "               1             1\n",
      "4      3       0            15\n",
      "               1             3\n",
      "5      3       0             5\n",
      "8      3       0             7\n",
      "Name: PassengerId, dtype: int64\n"
     ]
    }
   ],
   "source": [
    "print(titanic.groupby(['SibSp', 'Pclass', 'Survived']).count()['PassengerId'])"
   ]
  },
  {
   "cell_type": "markdown",
   "id": "e3c83ca1",
   "metadata": {},
   "source": [
    "As we can see, the hypothesis that bigger families travelled mostly in third class and therefore died more often in the desaster is right. So in general the features Parch and SibSp implicate Pclass."
   ]
  },
  {
   "cell_type": "markdown",
   "id": "4dc21beb",
   "metadata": {},
   "source": [
    "### 3.5 What about Embarked - is there a correlation to survival?"
   ]
  },
  {
   "cell_type": "code",
   "execution_count": 26,
   "id": "5a5dcc5d",
   "metadata": {},
   "outputs": [],
   "source": [
    "embarked_survived = pd.crosstab(titanic['Embarked'], titanic['Survived'])"
   ]
  },
  {
   "cell_type": "code",
   "execution_count": 27,
   "id": "89fb3338",
   "metadata": {},
   "outputs": [
    {
     "name": "stdout",
     "output_type": "stream",
     "text": [
      "Survived    0    1\n",
      "Embarked          \n",
      "C          75   93\n",
      "Q          47   30\n",
      "S         427  217\n"
     ]
    }
   ],
   "source": [
    "print(embarked_survived)"
   ]
  },
  {
   "cell_type": "code",
   "execution_count": 28,
   "id": "433f68e9",
   "metadata": {},
   "outputs": [
    {
     "data": {
      "image/png": "[encoded data removed]",
      "text/plain": [
       "<Figure size 1224x360 with 1 Axes>"
      ]
     },
     "metadata": {},
     "output_type": "display_data"
    }
   ],
   "source": [
    "fig, ax = plt.subplots(figsize=(17, 5))\n",
    "sns.histplot(data=titanic, y='Embarked', ax=ax, hue='Survived', multiple='stack', bins=10)\n",
    "plt.title('Embarked vs Survived')\n",
    "plt.show()"
   ]
  }
 ],
 "metadata": {
  "kernelspec": {
   "display_name": "Python 3 (ipykernel)",
   "language": "python",
   "name": "python3"
  },
  "language_info": {
   "codemirror_mode": {
    "name": "ipython",
    "version": 3
   },
   "file_extension": ".py",
   "mimetype": "text/x-python",
   "name": "python",
   "nbconvert_exporter": "python",
   "pygments_lexer": "ipython3",
   "version": "3.9.7"
  }
 },
 "nbformat": 4,
 "nbformat_minor": 5
}
