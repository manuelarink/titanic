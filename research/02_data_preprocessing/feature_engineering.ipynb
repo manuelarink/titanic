{
 "cells": [
  {
   "cell_type": "markdown",
   "id": "2b6a3280",
   "metadata": {},
   "source": [
    "# Prediction for Survival of the Titanic disaster - Feature Engineering"
   ]
  },
  {
   "cell_type": "code",
   "execution_count": 1,
   "id": "0479f3fd",
   "metadata": {},
   "outputs": [],
   "source": [
    "import re\n",
    "\n",
    "import numpy as np\n",
    "import pandas as pd\n",
    "import matplotlib.pyplot as plt\n",
    "\n",
    "from sklearn.model_selection import train_test_split\n",
    "\n",
    "from sklearn.metrics import accuracy_score\n",
    "\n",
    "from autofeatselect import CorrelationCalculator, FeatureSelector, AutoFeatureSelect"
   ]
  },
  {
   "cell_type": "markdown",
   "id": "abc4be40",
   "metadata": {},
   "source": [
    "## Prepare the data set"
   ]
  },
  {
   "cell_type": "code",
   "execution_count": 2,
   "id": "60b9b81d",
   "metadata": {},
   "outputs": [],
   "source": [
    "# load the train and evaluation set\n",
    "train = pd.read_csv('../00_data/train.csv')\n",
    "pred = pd.read_csv('../00_data/test.csv')"
   ]
  },
  {
   "cell_type": "code",
   "execution_count": 3,
   "id": "3d299d1e",
   "metadata": {},
   "outputs": [
    {
     "name": "stdout",
     "output_type": "stream",
     "text": [
      "   PassengerId  Survived  Pclass  \\\n",
      "0            1         0       3   \n",
      "1            2         1       1   \n",
      "2            3         1       3   \n",
      "3            4         1       1   \n",
      "4            5         0       3   \n",
      "\n",
      "                                                Name     Sex   Age  SibSp  \\\n",
      "0                            Braund, Mr. Owen Harris    male  22.0      1   \n",
      "1  Cumings, Mrs. John Bradley (Florence Briggs Th...  female  38.0      1   \n",
      "2                             Heikkinen, Miss. Laina  female  26.0      0   \n",
      "3       Futrelle, Mrs. Jacques Heath (Lily May Peel)  female  35.0      1   \n",
      "4                           Allen, Mr. William Henry    male  35.0      0   \n",
      "\n",
      "   Parch            Ticket     Fare Cabin Embarked  \n",
      "0      0         A/5 21171   7.2500   NaN        S  \n",
      "1      0          PC 17599  71.2833   C85        C  \n",
      "2      0  STON/O2. 3101282   7.9250   NaN        S  \n",
      "3      0            113803  53.1000  C123        S  \n",
      "4      0            373450   8.0500   NaN        S  \n"
     ]
    }
   ],
   "source": [
    "# display the training data\n",
    "print(train.head())"
   ]
  },
  {
   "cell_type": "code",
   "execution_count": 4,
   "id": "a04f80e2",
   "metadata": {},
   "outputs": [
    {
     "name": "stdout",
     "output_type": "stream",
     "text": [
      "   PassengerId  Pclass                                          Name     Sex  \\\n",
      "0          892       3                              Kelly, Mr. James    male   \n",
      "1          893       3              Wilkes, Mrs. James (Ellen Needs)  female   \n",
      "2          894       2                     Myles, Mr. Thomas Francis    male   \n",
      "3          895       3                              Wirz, Mr. Albert    male   \n",
      "4          896       3  Hirvonen, Mrs. Alexander (Helga E Lindqvist)  female   \n",
      "\n",
      "    Age  SibSp  Parch   Ticket     Fare Cabin Embarked  \n",
      "0  34.5      0      0   330911   7.8292   NaN        Q  \n",
      "1  47.0      1      0   363272   7.0000   NaN        S  \n",
      "2  62.0      0      0   240276   9.6875   NaN        Q  \n",
      "3  27.0      0      0   315154   8.6625   NaN        S  \n",
      "4  22.0      1      1  3101298  12.2875   NaN        S  \n"
     ]
    }
   ],
   "source": [
    "# display the evaluation set\n",
    "print(pred.head())"
   ]
  },
  {
   "cell_type": "code",
   "execution_count": 5,
   "id": "dd52aa14",
   "metadata": {},
   "outputs": [
    {
     "name": "stdout",
     "output_type": "stream",
     "text": [
      "<class 'pandas.core.frame.DataFrame'>\n",
      "RangeIndex: 891 entries, 0 to 890\n",
      "Data columns (total 12 columns):\n",
      " #   Column       Non-Null Count  Dtype  \n",
      "---  ------       --------------  -----  \n",
      " 0   PassengerId  891 non-null    int64  \n",
      " 1   Survived     891 non-null    int64  \n",
      " 2   Pclass       891 non-null    int64  \n",
      " 3   Name         891 non-null    object \n",
      " 4   Sex          891 non-null    object \n",
      " 5   Age          714 non-null    float64\n",
      " 6   SibSp        891 non-null    int64  \n",
      " 7   Parch        891 non-null    int64  \n",
      " 8   Ticket       891 non-null    object \n",
      " 9   Fare         891 non-null    float64\n",
      " 10  Cabin        204 non-null    object \n",
      " 11  Embarked     889 non-null    object \n",
      "dtypes: float64(2), int64(5), object(5)\n",
      "memory usage: 83.7+ KB\n",
      "None\n",
      "<class 'pandas.core.frame.DataFrame'>\n",
      "RangeIndex: 418 entries, 0 to 417\n",
      "Data columns (total 11 columns):\n",
      " #   Column       Non-Null Count  Dtype  \n",
      "---  ------       --------------  -----  \n",
      " 0   PassengerId  418 non-null    int64  \n",
      " 1   Pclass       418 non-null    int64  \n",
      " 2   Name         418 non-null    object \n",
      " 3   Sex          418 non-null    object \n",
      " 4   Age          332 non-null    float64\n",
      " 5   SibSp        418 non-null    int64  \n",
      " 6   Parch        418 non-null    int64  \n",
      " 7   Ticket       418 non-null    object \n",
      " 8   Fare         417 non-null    float64\n",
      " 9   Cabin        91 non-null     object \n",
      " 10  Embarked     418 non-null    object \n",
      "dtypes: float64(2), int64(4), object(5)\n",
      "memory usage: 36.1+ KB\n",
      "None\n"
     ]
    }
   ],
   "source": [
    "# display info\n",
    "print(train.info())\n",
    "print(pred.info())"
   ]
  },
  {
   "cell_type": "code",
   "execution_count": 6,
   "id": "8ef65bb5",
   "metadata": {},
   "outputs": [
    {
     "name": "stdout",
     "output_type": "stream",
     "text": [
      "   PassengerId  Survived  Pclass  \\\n",
      "0            1         0       3   \n",
      "1            2         1       1   \n",
      "2            3         1       3   \n",
      "3            4         1       1   \n",
      "4            5         0       3   \n",
      "\n",
      "                                                Name     Sex   Age  SibSp  \\\n",
      "0                            Braund, Mr. Owen Harris    male  22.0      1   \n",
      "1  Cumings, Mrs. John Bradley (Florence Briggs Th...  female  38.0      1   \n",
      "2                             Heikkinen, Miss. Laina  female  26.0      0   \n",
      "3       Futrelle, Mrs. Jacques Heath (Lily May Peel)  female  35.0      1   \n",
      "4                           Allen, Mr. William Henry    male  35.0      0   \n",
      "\n",
      "   Parch            Ticket     Fare Cabin Embarked Title  \n",
      "0      0         A/5 21171   7.2500   NaN        S    Mr  \n",
      "1      0          PC 17599  71.2833   C85        C    Mr  \n",
      "2      0  STON/O2. 3101282   7.9250   NaN        S  Miss  \n",
      "3      0            113803  53.1000  C123        S    Mr  \n",
      "4      0            373450   8.0500   NaN        S    Mr  \n",
      "   PassengerId  Pclass                                          Name     Sex  \\\n",
      "0          892       3                              Kelly, Mr. James    male   \n",
      "1          893       3              Wilkes, Mrs. James (Ellen Needs)  female   \n",
      "2          894       2                     Myles, Mr. Thomas Francis    male   \n",
      "3          895       3                              Wirz, Mr. Albert    male   \n",
      "4          896       3  Hirvonen, Mrs. Alexander (Helga E Lindqvist)  female   \n",
      "\n",
      "    Age  SibSp  Parch   Ticket     Fare Cabin Embarked Title  \n",
      "0  34.5      0      0   330911   7.8292   NaN        Q    Mr  \n",
      "1  47.0      1      0   363272   7.0000   NaN        S    Mr  \n",
      "2  62.0      0      0   240276   9.6875   NaN        Q    Mr  \n",
      "3  27.0      0      0   315154   8.6625   NaN        S    Mr  \n",
      "4  22.0      1      1  3101298  12.2875   NaN        S    Mr  \n"
     ]
    }
   ],
   "source": [
    "# extracts the title (Mr, Ms, etc) from the name variable\n",
    "def get_title(passenger):\n",
    "    if re.search('Mr', passenger):\n",
    "        return 'Mr'\n",
    "    elif re.search('Mrs', passenger):\n",
    "        return 'Mrs'\n",
    "    elif re.search('Miss', passenger):\n",
    "        return 'Miss'\n",
    "    elif re.search('Master', passenger):\n",
    "        return 'Master'\n",
    "    else:\n",
    "        return 'Other'\n",
    "\n",
    "train['Title'] = train['Name'].apply(get_title)\n",
    "pred['Title'] = pred['Name'].apply(get_title)\n",
    "\n",
    "print(train.head())\n",
    "print(pred.head())"
   ]
  },
  {
   "cell_type": "code",
   "execution_count": 7,
   "id": "7d602b5a",
   "metadata": {},
   "outputs": [
    {
     "name": "stdout",
     "output_type": "stream",
     "text": [
      "   Survived  Pclass     Sex   Age  SibSp  Parch     Fare Cabin Embarked Title\n",
      "0         0       3    male  22.0      1      0   7.2500   NaN        S    Mr\n",
      "1         1       1  female  38.0      1      0  71.2833   C85        C    Mr\n",
      "2         1       3  female  26.0      0      0   7.9250   NaN        S  Miss\n",
      "3         1       1  female  35.0      1      0  53.1000  C123        S    Mr\n",
      "4         0       3    male  35.0      0      0   8.0500   NaN        S    Mr\n",
      "   PassengerId  Pclass     Sex   Age  SibSp  Parch     Fare Cabin Embarked  \\\n",
      "0          892       3    male  34.5      0      0   7.8292   NaN        Q   \n",
      "1          893       3  female  47.0      1      0   7.0000   NaN        S   \n",
      "2          894       2    male  62.0      0      0   9.6875   NaN        Q   \n",
      "3          895       3    male  27.0      0      0   8.6625   NaN        S   \n",
      "4          896       3  female  22.0      1      1  12.2875   NaN        S   \n",
      "\n",
      "  Title  \n",
      "0    Mr  \n",
      "1    Mr  \n",
      "2    Mr  \n",
      "3    Mr  \n",
      "4    Mr  \n"
     ]
    }
   ],
   "source": [
    "# drop unnecessary variables\n",
    "train.drop(['PassengerId', 'Name', 'Ticket'], axis=1, inplace=True)\n",
    "pred.drop(['Name', 'Ticket'], axis=1, inplace=True)\n",
    "\n",
    "print(train.head())\n",
    "print(pred.head())"
   ]
  },
  {
   "cell_type": "code",
   "execution_count": 8,
   "id": "a1ef5a13",
   "metadata": {},
   "outputs": [],
   "source": [
    "# save the train and the evaluation set\n",
    "train.to_csv('titanic_train.csv', index=False)\n",
    "pred.to_csv('titanic_test.csv', index=False)"
   ]
  },
  {
   "cell_type": "markdown",
   "id": "e1c0183d",
   "metadata": {},
   "source": [
    "## Data exploration"
   ]
  },
  {
   "cell_type": "markdown",
   "id": "63dbdacd",
   "metadata": {},
   "source": [
    "### Find numerical and categorical variables"
   ]
  },
  {
   "cell_type": "code",
   "execution_count": 9,
   "id": "74853d1a",
   "metadata": {},
   "outputs": [],
   "source": [
    "target = 'Survived'"
   ]
  },
  {
   "cell_type": "code",
   "execution_count": 10,
   "id": "e1f412cf",
   "metadata": {},
   "outputs": [
    {
     "name": "stdout",
     "output_type": "stream",
     "text": [
      "number of numerical variables in train set: 5: ['Pclass', 'Age', 'SibSp', 'Parch', 'Fare']\n",
      "number of categorical variables in train set: 4: ['Sex', 'Cabin', 'Embarked', 'Title']\n"
     ]
    }
   ],
   "source": [
    "# train set\n",
    "vars_num = [var for var in train.columns if train[var].dtype != object and var != target]\n",
    "\n",
    "vars_cat = [var for var in train.columns if train[var].dtype == object]\n",
    "\n",
    "print(f'number of numerical variables in train set: {len(vars_num)}: {vars_num}')\n",
    "print(f'number of categorical variables in train set: {len(vars_cat)}: {vars_cat}')"
   ]
  },
  {
   "cell_type": "code",
   "execution_count": 11,
   "id": "93466c01",
   "metadata": {},
   "outputs": [
    {
     "name": "stdout",
     "output_type": "stream",
     "text": [
      "number of numerical variables in evaluation set: 6: ['PassengerId', 'Pclass', 'Age', 'SibSp', 'Parch', 'Fare']\n",
      "number of categorical variables in evaluation set: 4: ['Sex', 'Cabin', 'Embarked', 'Title']\n"
     ]
    }
   ],
   "source": [
    "# evaluation set\n",
    "pred_vars_num = [var for var in pred.columns if pred[var].dtype != object and var != target]\n",
    "\n",
    "pred_vars_cat = [var for var in pred.columns if pred[var].dtype == object]\n",
    "\n",
    "print(f'number of numerical variables in evaluation set: {len(pred_vars_num)}: {pred_vars_num}')\n",
    "print(f'number of categorical variables in evaluation set: {len(pred_vars_cat)}: {pred_vars_cat}')"
   ]
  },
  {
   "cell_type": "markdown",
   "id": "f5fe7c57",
   "metadata": {},
   "source": [
    "### Find missing values in variables"
   ]
  },
  {
   "cell_type": "code",
   "execution_count": 12,
   "id": "84412159",
   "metadata": {},
   "outputs": [
    {
     "name": "stdout",
     "output_type": "stream",
     "text": [
      "Train set: Missing values in numerical vars\n",
      "Pclass    0.000000\n",
      "Age       0.198653\n",
      "SibSp     0.000000\n",
      "Parch     0.000000\n",
      "Fare      0.000000\n",
      "dtype: float64\n",
      "['Age']\n",
      "Train set: Missing values in categorical vars\n",
      "Sex         0.000000\n",
      "Cabin       0.771044\n",
      "Embarked    0.002245\n",
      "Title       0.000000\n",
      "dtype: float64\n",
      "['Cabin', 'Embarked']\n"
     ]
    }
   ],
   "source": [
    "# train set\n",
    "# first in numerical variables\n",
    "print('Train set: Missing values in numerical vars')\n",
    "print(train[vars_num].isnull().mean())\n",
    "vars_num_nan = [var for var in vars_num if train[var].isna().sum() > 0]\n",
    "print(vars_num_nan)\n",
    "\n",
    "# then in categorical variables\n",
    "print('Train set: Missing values in categorical vars')\n",
    "print(train[vars_cat].isnull().mean())\n",
    "vars_cat_nan = [var for var in vars_cat if train[var].isna().sum() > 0]\n",
    "print(vars_cat_nan)"
   ]
  },
  {
   "cell_type": "code",
   "execution_count": 13,
   "id": "3b041488",
   "metadata": {},
   "outputs": [
    {
     "name": "stdout",
     "output_type": "stream",
     "text": [
      "Evaluation set: Missing values in numerical vars\n",
      "PassengerId    0.000000\n",
      "Pclass         0.000000\n",
      "Age            0.205742\n",
      "SibSp          0.000000\n",
      "Parch          0.000000\n",
      "Fare           0.002392\n",
      "dtype: float64\n",
      "['Age', 'Fare']\n",
      "Evaluation set: Missing values in categorical vars\n",
      "Sex         0.000000\n",
      "Cabin       0.782297\n",
      "Embarked    0.000000\n",
      "Title       0.000000\n",
      "dtype: float64\n",
      "['Cabin']\n"
     ]
    }
   ],
   "source": [
    "# evaluation set\n",
    "# first in numerical variables\n",
    "print('Evaluation set: Missing values in numerical vars')\n",
    "print(pred[pred_vars_num].isnull().mean())\n",
    "pred_vars_num_nan = [var for var in pred_vars_num if pred[var].isna().sum() > 0]\n",
    "print(pred_vars_num_nan)\n",
    "\n",
    "# then in categorical variables\n",
    "print('Evaluation set: Missing values in categorical vars')\n",
    "print(pred[pred_vars_cat].isnull().mean())\n",
    "pred_vars_cat_nan = [var for var in pred_vars_cat if pred[var].isna().sum() > 0]\n",
    "print(pred_vars_cat_nan)"
   ]
  },
  {
   "cell_type": "markdown",
   "id": "7a5342e5",
   "metadata": {},
   "source": [
    "### Determine cardinality of categorical variables"
   ]
  },
  {
   "cell_type": "code",
   "execution_count": 14,
   "id": "ccbe9cd7",
   "metadata": {},
   "outputs": [
    {
     "name": "stdout",
     "output_type": "stream",
     "text": [
      "Sex           2\n",
      "Cabin       147\n",
      "Embarked      3\n",
      "Title         4\n",
      "dtype: int64\n"
     ]
    }
   ],
   "source": [
    "# train set\n",
    "print(train[vars_cat].nunique())"
   ]
  },
  {
   "cell_type": "code",
   "execution_count": 15,
   "id": "9b631187",
   "metadata": {},
   "outputs": [
    {
     "name": "stdout",
     "output_type": "stream",
     "text": [
      "Sex           2\n",
      "Cabin       147\n",
      "Embarked      3\n",
      "Title         4\n",
      "dtype: int64\n"
     ]
    }
   ],
   "source": [
    "# evaluation set\n",
    "print(train[pred_vars_cat].nunique())"
   ]
  },
  {
   "cell_type": "markdown",
   "id": "7e1f8781",
   "metadata": {},
   "source": [
    "### Determine the distribution of numerical variables"
   ]
  },
  {
   "cell_type": "code",
   "execution_count": 16,
   "id": "b99124a8",
   "metadata": {},
   "outputs": [
    {
     "data": {
      "image/png": "[encoded data removed]",
      "text/plain": [
       "<Figure size 1000x1000 with 6 Axes>"
      ]
     },
     "metadata": {},
     "output_type": "display_data"
    }
   ],
   "source": [
    "# train set\n",
    "train[vars_num].hist(bins=30, figsize=(10, 10))\n",
    "plt.show()"
   ]
  },
  {
   "cell_type": "code",
   "execution_count": 17,
   "id": "10371d14",
   "metadata": {},
   "outputs": [
    {
     "data": {
      "image/png": "[encoded data removed]",
      "text/plain": [
       "<Figure size 1000x1000 with 6 Axes>"
      ]
     },
     "metadata": {},
     "output_type": "display_data"
    }
   ],
   "source": [
    "# evaluation set\n",
    "pred[pred_vars_num].hist(bins=30, figsize=(10, 10))\n",
    "plt.show()"
   ]
  },
  {
   "cell_type": "markdown",
   "id": "eebfab64",
   "metadata": {},
   "source": [
    "## Separate data into train and test"
   ]
  },
  {
   "cell_type": "code",
   "execution_count": 18,
   "id": "614e232e",
   "metadata": {},
   "outputs": [
    {
     "name": "stdout",
     "output_type": "stream",
     "text": [
      "(712, 9)\n",
      "(712,)\n",
      "(179, 9)\n",
      "(179,)\n"
     ]
    }
   ],
   "source": [
    "## Separate data (train data) into train and test (the evaluation set is not labeled and the real data to predict)\n",
    "X_train, X_test, y_train, y_test = train_test_split(\n",
    "    train.drop('Survived', axis=1), train['Survived'], test_size=0.2, random_state=0)\n",
    "\n",
    "print(X_train.shape)\n",
    "print(y_train.shape)\n",
    "print(X_test.shape)\n",
    "print(y_test.shape)"
   ]
  },
  {
   "cell_type": "code",
   "execution_count": 19,
   "id": "1320050b",
   "metadata": {},
   "outputs": [],
   "source": [
    "X_pred = pred.copy()"
   ]
  },
  {
   "cell_type": "markdown",
   "id": "4a4d2168",
   "metadata": {},
   "source": [
    "## Feature Engineering"
   ]
  },
  {
   "cell_type": "markdown",
   "id": "5024eca0",
   "metadata": {},
   "source": [
    "### Extract only the letter (and drop the number) from the variable Cabin"
   ]
  },
  {
   "cell_type": "code",
   "execution_count": 20,
   "id": "29505ff0",
   "metadata": {},
   "outputs": [
    {
     "data": {
      "text/plain": [
       "array([nan, 'C', 'B', 'A', 'G', 'E', 'D', 'F', 'T'], dtype=object)"
      ]
     },
     "execution_count": 20,
     "metadata": {},
     "output_type": "execute_result"
    }
   ],
   "source": [
    "# train and test set\n",
    "X_train['Cabin'] = X_train['Cabin'].str[0] # captures the first letter\n",
    "X_test['Cabin'] = X_test['Cabin'].str[0] # captures the first letter\n",
    "\n",
    "X_train['Cabin'].unique()"
   ]
  },
  {
   "cell_type": "code",
   "execution_count": 21,
   "id": "653468be",
   "metadata": {},
   "outputs": [
    {
     "data": {
      "text/plain": [
       "array([nan, 'B', 'E', 'A', 'C', 'D', 'F', 'G'], dtype=object)"
      ]
     },
     "execution_count": 21,
     "metadata": {},
     "output_type": "execute_result"
    }
   ],
   "source": [
    "# evaluation set\n",
    "X_pred['Cabin'] = X_pred['Cabin'].str[0] # captures the first letter\n",
    "\n",
    "X_pred['Cabin'].unique()"
   ]
  },
  {
   "cell_type": "markdown",
   "id": "c9000365",
   "metadata": {},
   "source": [
    "### Fill in Missing data in numerical variables:"
   ]
  },
  {
   "cell_type": "code",
   "execution_count": 22,
   "id": "2e07cd33",
   "metadata": {},
   "outputs": [
    {
     "name": "stdout",
     "output_type": "stream",
     "text": [
      "Age     0\n",
      "Fare    0\n",
      "dtype: int64\n",
      "Age     0\n",
      "Fare    0\n",
      "dtype: int64\n",
      "Age     0\n",
      "Fare    0\n",
      "dtype: int64\n"
     ]
    }
   ],
   "source": [
    "# train, test, pred\n",
    "for var in ['Age', 'Fare']:\n",
    "\n",
    "    # add missing indicator\n",
    "    X_train[var+'_NA'] = np.where(X_train[var].isnull(), 1, 0)\n",
    "    X_test[var+'_NA'] = np.where(X_test[var].isnull(), 1, 0)\n",
    "    X_pred[var+'_NA'] = np.where(X_pred[var].isnull(), 1, 0)\n",
    "\n",
    "    # replace NaN by median\n",
    "    median_val = X_train[var].median()\n",
    "\n",
    "    X_train[var].fillna(median_val, inplace=True)\n",
    "    X_test[var].fillna(median_val, inplace=True)\n",
    "    X_pred[var].fillna(median_val, inplace=True)\n",
    "\n",
    "print(X_train[['Age', 'Fare']].isnull().sum())\n",
    "print(X_test[['Age', 'Fare']].isnull().sum())\n",
    "print(X_pred[['Age', 'Fare']].isnull().sum())"
   ]
  },
  {
   "cell_type": "markdown",
   "id": "3fcfb6c4",
   "metadata": {},
   "source": [
    "### Replace Missing data in categorical variables with the string **Missing**"
   ]
  },
  {
   "cell_type": "code",
   "execution_count": 23,
   "id": "f21c6c0a",
   "metadata": {},
   "outputs": [
    {
     "name": "stdout",
     "output_type": "stream",
     "text": [
      "Pclass      0\n",
      "Sex         0\n",
      "Age         0\n",
      "SibSp       0\n",
      "Parch       0\n",
      "Fare        0\n",
      "Cabin       0\n",
      "Embarked    0\n",
      "Title       0\n",
      "Age_NA      0\n",
      "Fare_NA     0\n",
      "dtype: int64\n",
      "Pclass      0\n",
      "Sex         0\n",
      "Age         0\n",
      "SibSp       0\n",
      "Parch       0\n",
      "Fare        0\n",
      "Cabin       0\n",
      "Embarked    0\n",
      "Title       0\n",
      "Age_NA      0\n",
      "Fare_NA     0\n",
      "dtype: int64\n",
      "PassengerId    0\n",
      "Pclass         0\n",
      "Sex            0\n",
      "Age            0\n",
      "SibSp          0\n",
      "Parch          0\n",
      "Fare           0\n",
      "Cabin          0\n",
      "Embarked       0\n",
      "Title          0\n",
      "Age_NA         0\n",
      "Fare_NA        0\n",
      "dtype: int64\n"
     ]
    }
   ],
   "source": [
    "for var in vars_cat_nan:\n",
    "    X_train[var] = X_train[var].fillna('Missing')\n",
    "    X_test[var] = X_test[var].fillna('Missing')\n",
    "    \n",
    "for var in pred_vars_cat_nan:\n",
    "    X_pred[var] = X_pred[var].fillna('Missing')\n",
    "    \n",
    "print(X_train.isna().sum())\n",
    "print(X_test.isna().sum())\n",
    "print(X_pred.isna().sum())"
   ]
  },
  {
   "cell_type": "markdown",
   "id": "44f3c223",
   "metadata": {},
   "source": [
    "### Remove rare labels in categorical variables\n",
    "\n",
    "- remove labels present in less than 5 % of the passengers"
   ]
  },
  {
   "cell_type": "code",
   "execution_count": 24,
   "id": "87cf8e13",
   "metadata": {},
   "outputs": [
    {
     "data": {
      "text/html": [
       "<div>\n",
       "<style scoped>\n",
       "    .dataframe tbody tr th:only-of-type {\n",
       "        vertical-align: middle;\n",
       "    }\n",
       "\n",
       "    .dataframe tbody tr th {\n",
       "        vertical-align: top;\n",
       "    }\n",
       "\n",
       "    .dataframe thead th {\n",
       "        text-align: right;\n",
       "    }\n",
       "</style>\n",
       "<table border=\"1\" class=\"dataframe\">\n",
       "  <thead>\n",
       "    <tr style=\"text-align: right;\">\n",
       "      <th></th>\n",
       "      <th>Pclass</th>\n",
       "      <th>Sex</th>\n",
       "      <th>Age</th>\n",
       "      <th>SibSp</th>\n",
       "      <th>Parch</th>\n",
       "      <th>Fare</th>\n",
       "      <th>Cabin</th>\n",
       "      <th>Embarked</th>\n",
       "      <th>Title</th>\n",
       "      <th>Age_NA</th>\n",
       "      <th>Fare_NA</th>\n",
       "    </tr>\n",
       "  </thead>\n",
       "  <tbody>\n",
       "    <tr>\n",
       "      <th>140</th>\n",
       "      <td>3</td>\n",
       "      <td>female</td>\n",
       "      <td>29.0</td>\n",
       "      <td>0</td>\n",
       "      <td>2</td>\n",
       "      <td>15.2458</td>\n",
       "      <td>Missing</td>\n",
       "      <td>C</td>\n",
       "      <td>Mr</td>\n",
       "      <td>1</td>\n",
       "      <td>0</td>\n",
       "    </tr>\n",
       "    <tr>\n",
       "      <th>439</th>\n",
       "      <td>2</td>\n",
       "      <td>male</td>\n",
       "      <td>31.0</td>\n",
       "      <td>0</td>\n",
       "      <td>0</td>\n",
       "      <td>10.5000</td>\n",
       "      <td>Missing</td>\n",
       "      <td>S</td>\n",
       "      <td>Mr</td>\n",
       "      <td>0</td>\n",
       "      <td>0</td>\n",
       "    </tr>\n",
       "    <tr>\n",
       "      <th>817</th>\n",
       "      <td>2</td>\n",
       "      <td>male</td>\n",
       "      <td>31.0</td>\n",
       "      <td>1</td>\n",
       "      <td>1</td>\n",
       "      <td>37.0042</td>\n",
       "      <td>Missing</td>\n",
       "      <td>C</td>\n",
       "      <td>Mr</td>\n",
       "      <td>0</td>\n",
       "      <td>0</td>\n",
       "    </tr>\n",
       "    <tr>\n",
       "      <th>378</th>\n",
       "      <td>3</td>\n",
       "      <td>male</td>\n",
       "      <td>20.0</td>\n",
       "      <td>0</td>\n",
       "      <td>0</td>\n",
       "      <td>4.0125</td>\n",
       "      <td>Missing</td>\n",
       "      <td>C</td>\n",
       "      <td>Mr</td>\n",
       "      <td>0</td>\n",
       "      <td>0</td>\n",
       "    </tr>\n",
       "    <tr>\n",
       "      <th>491</th>\n",
       "      <td>3</td>\n",
       "      <td>male</td>\n",
       "      <td>21.0</td>\n",
       "      <td>0</td>\n",
       "      <td>0</td>\n",
       "      <td>7.2500</td>\n",
       "      <td>Missing</td>\n",
       "      <td>S</td>\n",
       "      <td>Mr</td>\n",
       "      <td>0</td>\n",
       "      <td>0</td>\n",
       "    </tr>\n",
       "  </tbody>\n",
       "</table>\n",
       "</div>"
      ],
      "text/plain": [
       "     Pclass     Sex   Age  SibSp  Parch     Fare    Cabin Embarked Title  \\\n",
       "140       3  female  29.0      0      2  15.2458  Missing        C    Mr   \n",
       "439       2    male  31.0      0      0  10.5000  Missing        S    Mr   \n",
       "817       2    male  31.0      1      1  37.0042  Missing        C    Mr   \n",
       "378       3    male  20.0      0      0   4.0125  Missing        C    Mr   \n",
       "491       3    male  21.0      0      0   7.2500  Missing        S    Mr   \n",
       "\n",
       "     Age_NA  Fare_NA  \n",
       "140       1        0  \n",
       "439       0        0  \n",
       "817       0        0  \n",
       "378       0        0  \n",
       "491       0        0  "
      ]
     },
     "execution_count": 24,
     "metadata": {},
     "output_type": "execute_result"
    }
   ],
   "source": [
    "X_train.head()"
   ]
  },
  {
   "cell_type": "code",
   "execution_count": 25,
   "id": "66a79495",
   "metadata": {},
   "outputs": [
    {
     "data": {
      "text/html": [
       "<div>\n",
       "<style scoped>\n",
       "    .dataframe tbody tr th:only-of-type {\n",
       "        vertical-align: middle;\n",
       "    }\n",
       "\n",
       "    .dataframe tbody tr th {\n",
       "        vertical-align: top;\n",
       "    }\n",
       "\n",
       "    .dataframe thead th {\n",
       "        text-align: right;\n",
       "    }\n",
       "</style>\n",
       "<table border=\"1\" class=\"dataframe\">\n",
       "  <thead>\n",
       "    <tr style=\"text-align: right;\">\n",
       "      <th></th>\n",
       "      <th>Pclass</th>\n",
       "      <th>Sex</th>\n",
       "      <th>Age</th>\n",
       "      <th>SibSp</th>\n",
       "      <th>Parch</th>\n",
       "      <th>Fare</th>\n",
       "      <th>Cabin</th>\n",
       "      <th>Embarked</th>\n",
       "      <th>Title</th>\n",
       "      <th>Age_NA</th>\n",
       "      <th>Fare_NA</th>\n",
       "    </tr>\n",
       "  </thead>\n",
       "  <tbody>\n",
       "    <tr>\n",
       "      <th>495</th>\n",
       "      <td>3</td>\n",
       "      <td>male</td>\n",
       "      <td>29.0</td>\n",
       "      <td>0</td>\n",
       "      <td>0</td>\n",
       "      <td>14.4583</td>\n",
       "      <td>Missing</td>\n",
       "      <td>C</td>\n",
       "      <td>Mr</td>\n",
       "      <td>1</td>\n",
       "      <td>0</td>\n",
       "    </tr>\n",
       "    <tr>\n",
       "      <th>648</th>\n",
       "      <td>3</td>\n",
       "      <td>male</td>\n",
       "      <td>29.0</td>\n",
       "      <td>0</td>\n",
       "      <td>0</td>\n",
       "      <td>7.5500</td>\n",
       "      <td>Missing</td>\n",
       "      <td>S</td>\n",
       "      <td>Mr</td>\n",
       "      <td>1</td>\n",
       "      <td>0</td>\n",
       "    </tr>\n",
       "    <tr>\n",
       "      <th>278</th>\n",
       "      <td>3</td>\n",
       "      <td>male</td>\n",
       "      <td>7.0</td>\n",
       "      <td>4</td>\n",
       "      <td>1</td>\n",
       "      <td>29.1250</td>\n",
       "      <td>Missing</td>\n",
       "      <td>Q</td>\n",
       "      <td>Master</td>\n",
       "      <td>0</td>\n",
       "      <td>0</td>\n",
       "    </tr>\n",
       "    <tr>\n",
       "      <th>31</th>\n",
       "      <td>1</td>\n",
       "      <td>female</td>\n",
       "      <td>29.0</td>\n",
       "      <td>1</td>\n",
       "      <td>0</td>\n",
       "      <td>146.5208</td>\n",
       "      <td>B</td>\n",
       "      <td>C</td>\n",
       "      <td>Mr</td>\n",
       "      <td>1</td>\n",
       "      <td>0</td>\n",
       "    </tr>\n",
       "    <tr>\n",
       "      <th>255</th>\n",
       "      <td>3</td>\n",
       "      <td>female</td>\n",
       "      <td>29.0</td>\n",
       "      <td>0</td>\n",
       "      <td>2</td>\n",
       "      <td>15.2458</td>\n",
       "      <td>Missing</td>\n",
       "      <td>C</td>\n",
       "      <td>Mr</td>\n",
       "      <td>0</td>\n",
       "      <td>0</td>\n",
       "    </tr>\n",
       "  </tbody>\n",
       "</table>\n",
       "</div>"
      ],
      "text/plain": [
       "     Pclass     Sex   Age  SibSp  Parch      Fare    Cabin Embarked   Title  \\\n",
       "495       3    male  29.0      0      0   14.4583  Missing        C      Mr   \n",
       "648       3    male  29.0      0      0    7.5500  Missing        S      Mr   \n",
       "278       3    male   7.0      4      1   29.1250  Missing        Q  Master   \n",
       "31        1  female  29.0      1      0  146.5208        B        C      Mr   \n",
       "255       3  female  29.0      0      2   15.2458  Missing        C      Mr   \n",
       "\n",
       "     Age_NA  Fare_NA  \n",
       "495       1        0  \n",
       "648       1        0  \n",
       "278       0        0  \n",
       "31        1        0  \n",
       "255       0        0  "
      ]
     },
     "execution_count": 25,
     "metadata": {},
     "output_type": "execute_result"
    }
   ],
   "source": [
    "X_test.head()"
   ]
  },
  {
   "cell_type": "code",
   "execution_count": 26,
   "id": "79945595",
   "metadata": {},
   "outputs": [
    {
     "data": {
      "text/html": [
       "<div>\n",
       "<style scoped>\n",
       "    .dataframe tbody tr th:only-of-type {\n",
       "        vertical-align: middle;\n",
       "    }\n",
       "\n",
       "    .dataframe tbody tr th {\n",
       "        vertical-align: top;\n",
       "    }\n",
       "\n",
       "    .dataframe thead th {\n",
       "        text-align: right;\n",
       "    }\n",
       "</style>\n",
       "<table border=\"1\" class=\"dataframe\">\n",
       "  <thead>\n",
       "    <tr style=\"text-align: right;\">\n",
       "      <th></th>\n",
       "      <th>PassengerId</th>\n",
       "      <th>Pclass</th>\n",
       "      <th>Sex</th>\n",
       "      <th>Age</th>\n",
       "      <th>SibSp</th>\n",
       "      <th>Parch</th>\n",
       "      <th>Fare</th>\n",
       "      <th>Cabin</th>\n",
       "      <th>Embarked</th>\n",
       "      <th>Title</th>\n",
       "      <th>Age_NA</th>\n",
       "      <th>Fare_NA</th>\n",
       "    </tr>\n",
       "  </thead>\n",
       "  <tbody>\n",
       "    <tr>\n",
       "      <th>0</th>\n",
       "      <td>892</td>\n",
       "      <td>3</td>\n",
       "      <td>male</td>\n",
       "      <td>34.5</td>\n",
       "      <td>0</td>\n",
       "      <td>0</td>\n",
       "      <td>7.8292</td>\n",
       "      <td>Missing</td>\n",
       "      <td>Q</td>\n",
       "      <td>Mr</td>\n",
       "      <td>0</td>\n",
       "      <td>0</td>\n",
       "    </tr>\n",
       "    <tr>\n",
       "      <th>1</th>\n",
       "      <td>893</td>\n",
       "      <td>3</td>\n",
       "      <td>female</td>\n",
       "      <td>47.0</td>\n",
       "      <td>1</td>\n",
       "      <td>0</td>\n",
       "      <td>7.0000</td>\n",
       "      <td>Missing</td>\n",
       "      <td>S</td>\n",
       "      <td>Mr</td>\n",
       "      <td>0</td>\n",
       "      <td>0</td>\n",
       "    </tr>\n",
       "    <tr>\n",
       "      <th>2</th>\n",
       "      <td>894</td>\n",
       "      <td>2</td>\n",
       "      <td>male</td>\n",
       "      <td>62.0</td>\n",
       "      <td>0</td>\n",
       "      <td>0</td>\n",
       "      <td>9.6875</td>\n",
       "      <td>Missing</td>\n",
       "      <td>Q</td>\n",
       "      <td>Mr</td>\n",
       "      <td>0</td>\n",
       "      <td>0</td>\n",
       "    </tr>\n",
       "    <tr>\n",
       "      <th>3</th>\n",
       "      <td>895</td>\n",
       "      <td>3</td>\n",
       "      <td>male</td>\n",
       "      <td>27.0</td>\n",
       "      <td>0</td>\n",
       "      <td>0</td>\n",
       "      <td>8.6625</td>\n",
       "      <td>Missing</td>\n",
       "      <td>S</td>\n",
       "      <td>Mr</td>\n",
       "      <td>0</td>\n",
       "      <td>0</td>\n",
       "    </tr>\n",
       "    <tr>\n",
       "      <th>4</th>\n",
       "      <td>896</td>\n",
       "      <td>3</td>\n",
       "      <td>female</td>\n",
       "      <td>22.0</td>\n",
       "      <td>1</td>\n",
       "      <td>1</td>\n",
       "      <td>12.2875</td>\n",
       "      <td>Missing</td>\n",
       "      <td>S</td>\n",
       "      <td>Mr</td>\n",
       "      <td>0</td>\n",
       "      <td>0</td>\n",
       "    </tr>\n",
       "  </tbody>\n",
       "</table>\n",
       "</div>"
      ],
      "text/plain": [
       "   PassengerId  Pclass     Sex   Age  SibSp  Parch     Fare    Cabin Embarked  \\\n",
       "0          892       3    male  34.5      0      0   7.8292  Missing        Q   \n",
       "1          893       3  female  47.0      1      0   7.0000  Missing        S   \n",
       "2          894       2    male  62.0      0      0   9.6875  Missing        Q   \n",
       "3          895       3    male  27.0      0      0   8.6625  Missing        S   \n",
       "4          896       3  female  22.0      1      1  12.2875  Missing        S   \n",
       "\n",
       "  Title  Age_NA  Fare_NA  \n",
       "0    Mr       0        0  \n",
       "1    Mr       0        0  \n",
       "2    Mr       0        0  \n",
       "3    Mr       0        0  \n",
       "4    Mr       0        0  "
      ]
     },
     "execution_count": 26,
     "metadata": {},
     "output_type": "execute_result"
    }
   ],
   "source": [
    "X_pred.head()"
   ]
  },
  {
   "cell_type": "markdown",
   "id": "2733dadf",
   "metadata": {},
   "source": [
    "#### TODO"
   ]
  },
  {
   "cell_type": "markdown",
   "id": "da630d19",
   "metadata": {},
   "source": [
    "### Selecting the most important features - approach 1"
   ]
  },
  {
   "cell_type": "markdown",
   "id": "9636f145",
   "metadata": {},
   "source": [
    "#### Detect highly correlated numerical and categorcial features and remove them"
   ]
  },
  {
   "cell_type": "code",
   "execution_count": 33,
   "id": "39936122",
   "metadata": {},
   "outputs": [
    {
     "name": "stdout",
     "output_type": "stream",
     "text": [
      "        i       j  correlation_score\n",
      "4    Fare  Pclass           0.534776\n",
      "13  Parch   SibSp           0.423676\n",
      "1     Age  Pclass           0.337849\n",
      "7   SibSp     Age           0.222256\n",
      "19   Fare   Parch           0.213608\n",
      "8   Parch     Age           0.167534\n",
      "14   Fare   SibSp           0.145538\n",
      "9    Fare     Age           0.098592\n",
      "2   SibSp  Pclass           0.093648\n",
      "3   Parch  Pclass           0.017336\n",
      "[]\n"
     ]
    }
   ],
   "source": [
    "# detect correlated numerical features\n",
    "print(vars_num)\n",
    "num_static_vars = ['Pclass']\n",
    "corr_vars_num, num_remove_list = CorrelationCalculator.numeric_correlations(X_train, \n",
    "                                                                            features=vars_num, \n",
    "                                                                            static_features=num_static_vars, \n",
    "                                                                            threshold=0.9)\n",
    "print(corr_vars_num)\n",
    "print(num_remove_list)"
   ]
  },
  {
   "cell_type": "code",
   "execution_count": 35,
   "id": "958168e1",
   "metadata": {},
   "outputs": [
    {
     "name": "stdout",
     "output_type": "stream",
     "text": [
      "['Sex', 'Cabin', 'Embarked', 'Title']\n",
      "          i         j  correlation_score\n",
      "0     Cabin       Sex           0.191139\n",
      "1  Embarked       Sex           0.136405\n",
      "2  Embarked     Cabin           0.173942\n",
      "3     Title       Sex           0.691407\n",
      "4     Title     Cabin           0.124394\n",
      "5     Title  Embarked           0.102817\n",
      "[]\n"
     ]
    }
   ],
   "source": [
    "# detect correlated categorical features\n",
    "print(vars_cat)\n",
    "cat_static_vars = ['Sex', 'Title','Cabin']\n",
    "corr_vars_cat, cat_remove_list = CorrelationCalculator.categorical_correlations(X_train, \n",
    "                                                                            features=vars_cat, \n",
    "                                                                            static_features=cat_static_vars, \n",
    "                                                                            threshold=0.9)\n",
    "print(corr_vars_cat)\n",
    "print(cat_remove_list)"
   ]
  },
  {
   "cell_type": "code",
   "execution_count": 36,
   "id": "4b483ad1",
   "metadata": {},
   "outputs": [],
   "source": [
    "# remove correlated features\n",
    "num_feats = [v for v in vars_num if v not in num_remove_list]\n",
    "cat_feats = [v for v in vars_cat if v not in cat_remove_list]"
   ]
  },
  {
   "cell_type": "code",
   "execution_count": 37,
   "id": "77af7503",
   "metadata": {},
   "outputs": [
    {
     "name": "stdout",
     "output_type": "stream",
     "text": [
      "['Pclass', 'Age', 'SibSp', 'Parch', 'Fare']\n",
      "['Sex', 'Cabin', 'Embarked', 'Title']\n"
     ]
    }
   ],
   "source": [
    "print(num_feats)\n",
    "print(cat_feats)"
   ]
  },
  {
   "cell_type": "markdown",
   "id": "02434946",
   "metadata": {},
   "source": [
    "#### Apply feature selection by calculation of importance scores"
   ]
  },
  {
   "cell_type": "markdown",
   "id": "05410d44",
   "metadata": {},
   "source": [
    "##### LightGBM"
   ]
  },
  {
   "cell_type": "code",
   "execution_count": 38,
   "id": "101f0742",
   "metadata": {},
   "outputs": [
    {
     "data": {
      "image/png": "[encoded data removed]",
      "text/plain": [
       "<Figure size 2000x1000 with 1 Axes>"
      ]
     },
     "metadata": {},
     "output_type": "display_data"
    }
   ],
   "source": [
    "#Create Feature Selector Object\n",
    "feat_selector = FeatureSelector(modeling_type='classification',\n",
    "                                X_train=X_train, y_train=y_train,\n",
    "                                X_test=X_test, y_test=y_test,\n",
    "                                numeric_columns=num_feats,\n",
    "                                categorical_columns=cat_feats,\n",
    "                                seed=24)\n",
    "\n",
    "#Note: Hyperparameters and objective function of LightGBM can be changed.\n",
    "lgbm_importance_df = feat_selector.lgbm_importance(hyperparam_dict=None,\n",
    "                                                   objective=None,\n",
    "                                                   return_plot=True)"
   ]
  },
  {
   "cell_type": "markdown",
   "id": "f01a891a",
   "metadata": {},
   "source": [
    "##### RecursiveFeatureElimination"
   ]
  },
  {
   "cell_type": "code",
   "execution_count": 42,
   "id": "5758484c",
   "metadata": {},
   "outputs": [
    {
     "name": "stdout",
     "output_type": "stream",
     "text": [
      "    feature  importance\n",
      "0    Pclass           1\n",
      "1       Age           1\n",
      "2     SibSp           1\n",
      "3     Parch           1\n",
      "4      Fare           1\n",
      "5       Sex           1\n",
      "6     Cabin           1\n",
      "7  Embarked           1\n",
      "8     Title           1\n"
     ]
    }
   ],
   "source": [
    "rfecv_importance_df = feat_selector.rfecv_importance(lgbm_hyperparams=None,\n",
    "                                                     rfecv_hyperparams=None,\n",
    "                                                     return_plot=False)\n",
    "print(rfecv_importance_df)"
   ]
  },
  {
   "cell_type": "markdown",
   "id": "f24d3f01",
   "metadata": {},
   "source": [
    "### Selecting the most important features - approach 2"
   ]
  },
  {
   "cell_type": "code",
   "execution_count": 43,
   "id": "9fd6de02",
   "metadata": {},
   "outputs": [
    {
     "name": "stdout",
     "output_type": "stream",
     "text": [
      "LightGBM Feature Importance is finished\n",
      "XGBoost Feature Importance is finished\n",
      "Random Forest Feature Importance is finished\n",
      "Permutation Importance Feature Importance is finished\n",
      "RFECV Feature Importance is finished\n",
      "An error occurred: module 'numpy' has no attribute 'int'.\n",
      "`np.int` was a deprecated alias for the builtin `int`. To avoid this error in existing code, use `int` by itself. Doing this will not modify any behavior and is safe. When replacing `np.int`, you may wish to use e.g. `np.int64` or `np.int32` to specify the precision. If you wish to review your current use, check the release note link for additional information.\n",
      "The aliases was originally deprecated in NumPy 1.20; for more details and guidance see the original release note at:\n",
      "    https://numpy.org/devdocs/release/1.20.0-notes.html#deprecations\n"
     ]
    },
    {
     "data": {
      "text/html": [
       "<div>\n",
       "<style scoped>\n",
       "    .dataframe tbody tr th:only-of-type {\n",
       "        vertical-align: middle;\n",
       "    }\n",
       "\n",
       "    .dataframe tbody tr th {\n",
       "        vertical-align: top;\n",
       "    }\n",
       "\n",
       "    .dataframe thead th {\n",
       "        text-align: right;\n",
       "    }\n",
       "</style>\n",
       "<table border=\"1\" class=\"dataframe\">\n",
       "  <thead>\n",
       "    <tr style=\"text-align: right;\">\n",
       "      <th></th>\n",
       "      <th>feature</th>\n",
       "      <th>lgbm_importance</th>\n",
       "      <th>xgb_importance</th>\n",
       "      <th>rf_importance</th>\n",
       "      <th>permutation_importance</th>\n",
       "      <th>rfecv_rankings</th>\n",
       "    </tr>\n",
       "  </thead>\n",
       "  <tbody>\n",
       "    <tr>\n",
       "      <th>0</th>\n",
       "      <td>Sex</td>\n",
       "      <td>1207.890333</td>\n",
       "      <td>0.333235</td>\n",
       "      <td>0.371168</td>\n",
       "      <td>0.160894</td>\n",
       "      <td>1</td>\n",
       "    </tr>\n",
       "    <tr>\n",
       "      <th>1</th>\n",
       "      <td>Fare</td>\n",
       "      <td>862.082288</td>\n",
       "      <td>0.222344</td>\n",
       "      <td>0.121148</td>\n",
       "      <td>0.048045</td>\n",
       "      <td>1</td>\n",
       "    </tr>\n",
       "    <tr>\n",
       "      <th>2</th>\n",
       "      <td>Age</td>\n",
       "      <td>818.113069</td>\n",
       "      <td>0.177542</td>\n",
       "      <td>0.075491</td>\n",
       "      <td>0.042458</td>\n",
       "      <td>1</td>\n",
       "    </tr>\n",
       "    <tr>\n",
       "      <th>3</th>\n",
       "      <td>Pclass</td>\n",
       "      <td>364.347350</td>\n",
       "      <td>0.092186</td>\n",
       "      <td>0.115687</td>\n",
       "      <td>0.077095</td>\n",
       "      <td>1</td>\n",
       "    </tr>\n",
       "    <tr>\n",
       "      <th>4</th>\n",
       "      <td>SibSp</td>\n",
       "      <td>115.787649</td>\n",
       "      <td>0.057584</td>\n",
       "      <td>0.064606</td>\n",
       "      <td>0.003352</td>\n",
       "      <td>1</td>\n",
       "    </tr>\n",
       "  </tbody>\n",
       "</table>\n",
       "</div>"
      ],
      "text/plain": [
       "  feature  lgbm_importance  xgb_importance  rf_importance  \\\n",
       "0     Sex      1207.890333        0.333235       0.371168   \n",
       "1    Fare       862.082288        0.222344       0.121148   \n",
       "2     Age       818.113069        0.177542       0.075491   \n",
       "3  Pclass       364.347350        0.092186       0.115687   \n",
       "4   SibSp       115.787649        0.057584       0.064606   \n",
       "\n",
       "   permutation_importance  rfecv_rankings  \n",
       "0                0.160894               1  \n",
       "1                0.048045               1  \n",
       "2                0.042458               1  \n",
       "3                0.077095               1  \n",
       "4                0.003352               1  "
      ]
     },
     "execution_count": 43,
     "metadata": {},
     "output_type": "execute_result"
    }
   ],
   "source": [
    "#Create AutoFeatureSelect class\n",
    "feat_selector = AutoFeatureSelect(modeling_type='classification',\n",
    "                                  X_train=X_train,\n",
    "                                  y_train=y_train,\n",
    "                                  X_test=X_test,\n",
    "                                  y_test=y_test,\n",
    "                                  numeric_columns=vars_num,\n",
    "                                  categorical_columns=vars_cat,\n",
    "                                  seed=24)\n",
    "\n",
    "#Detect Correlated Features\n",
    "corr_features = feat_selector.calculate_correlated_features(static_features=None,\n",
    "                                                            num_threshold=0.9,\n",
    "                                                            cat_threshold=0.9)\n",
    "#Drop Correlated Features\n",
    "feat_selector.drop_correlated_features()\n",
    "\n",
    "#Determine Selection Methods to Apply\n",
    "#Options: 'lgbm', 'xgb', 'rf','perimp', 'rfecv', 'boruta', 'lassocv'\n",
    "#Note: Hyperparameters of all methods can be changed\n",
    "selection_methods = ['lgbm', 'xgb', 'rf','perimp', 'rfecv', 'boruta']\n",
    "final_importance_df = feat_selector.apply_feature_selection(selection_methods=selection_methods,\n",
    "                                                            lgbm_hyperparams=None,\n",
    "                                                            xgb_hyperparams=None,\n",
    "                                                            rf_hyperparams=None,\n",
    "                                                            lassocv_hyperparams=None,\n",
    "                                                            perimp_hyperparams=None,\n",
    "                                                            rfecv_hyperparams=None,\n",
    "                                                            boruta_hyperparams=None)\n",
    "\n",
    "#Print Results\n",
    "final_importance_df.head()"
   ]
  },
  {
   "cell_type": "code",
   "execution_count": null,
   "id": "0fc83035",
   "metadata": {},
   "outputs": [],
   "source": []
  }
 ],
 "metadata": {
  "kernelspec": {
   "display_name": "nlp_test",
   "language": "python",
   "name": "nlp_test"
  },
  "language_info": {
   "codemirror_mode": {
    "name": "ipython",
    "version": 3
   },
   "file_extension": ".py",
   "mimetype": "text/x-python",
   "name": "python",
   "nbconvert_exporter": "python",
   "pygments_lexer": "ipython3",
   "version": "3.11.5"
  }
 },
 "nbformat": 4,
 "nbformat_minor": 5
}
