{
 "cells": [
  {
   "cell_type": "markdown",
   "id": "0a4b92ea",
   "metadata": {},
   "source": [
    "# Prediction for Survival of the Titanic desaster with Random Forest Tree Model"
   ]
  },
  {
   "cell_type": "markdown",
   "id": "d2036d07",
   "metadata": {},
   "source": [
    "## 1. Importing the libraries"
   ]
  },
  {
   "cell_type": "code",
   "execution_count": 1,
   "id": "a79fa952",
   "metadata": {},
   "outputs": [],
   "source": [
    "import pandas as pd\n",
    "import numpy as np\n",
    "from sklearn.impute import SimpleImputer\n",
    "from sklearn.preprocessing import LabelEncoder, OneHotEncoder, StandardScaler\n",
    "from sklearn.compose import ColumnTransformer\n",
    "from sklearn.model_selection import train_test_split\n",
    "from sklearn.preprocessing import StandardScaler\n",
    "from sklearn.ensemble import RandomForestClassifier\n",
    "from sklearn.metrics import confusion_matrix, accuracy_score"
   ]
  },
  {
   "cell_type": "markdown",
   "id": "b6d941d0",
   "metadata": {},
   "source": [
    "## 2. Reading the datasets "
   ]
  },
  {
   "cell_type": "code",
   "execution_count": 2,
   "id": "9e31ab97",
   "metadata": {},
   "outputs": [],
   "source": [
    "train = pd.read_csv('../00_data/train.csv')\n",
    "test = pd.read_csv('../00_data/test.csv')"
   ]
  },
  {
   "cell_type": "markdown",
   "id": "5dc5c297",
   "metadata": {},
   "source": [
    "## 3. Exploring the datasets"
   ]
  },
  {
   "cell_type": "markdown",
   "id": "18ee3805",
   "metadata": {},
   "source": [
    "### 3.1 Training set"
   ]
  },
  {
   "cell_type": "code",
   "execution_count": 3,
   "id": "6ed21fe0",
   "metadata": {},
   "outputs": [
    {
     "name": "stdout",
     "output_type": "stream",
     "text": [
      "   PassengerId  Survived  Pclass  \\\n",
      "0            1         0       3   \n",
      "1            2         1       1   \n",
      "2            3         1       3   \n",
      "3            4         1       1   \n",
      "4            5         0       3   \n",
      "\n",
      "                                                Name     Sex   Age  SibSp  \\\n",
      "0                            Braund, Mr. Owen Harris    male  22.0      1   \n",
      "1  Cumings, Mrs. John Bradley (Florence Briggs Th...  female  38.0      1   \n",
      "2                             Heikkinen, Miss. Laina  female  26.0      0   \n",
      "3       Futrelle, Mrs. Jacques Heath (Lily May Peel)  female  35.0      1   \n",
      "4                           Allen, Mr. William Henry    male  35.0      0   \n",
      "\n",
      "   Parch            Ticket     Fare Cabin Embarked  \n",
      "0      0         A/5 21171   7.2500   NaN        S  \n",
      "1      0          PC 17599  71.2833   C85        C  \n",
      "2      0  STON/O2. 3101282   7.9250   NaN        S  \n",
      "3      0            113803  53.1000  C123        S  \n",
      "4      0            373450   8.0500   NaN        S  \n"
     ]
    }
   ],
   "source": [
    "print(train.head())"
   ]
  },
  {
   "cell_type": "code",
   "execution_count": 4,
   "id": "7b5d134b",
   "metadata": {},
   "outputs": [
    {
     "name": "stdout",
     "output_type": "stream",
     "text": [
      "<class 'pandas.core.frame.DataFrame'>\n",
      "RangeIndex: 891 entries, 0 to 890\n",
      "Data columns (total 12 columns):\n",
      " #   Column       Non-Null Count  Dtype  \n",
      "---  ------       --------------  -----  \n",
      " 0   PassengerId  891 non-null    int64  \n",
      " 1   Survived     891 non-null    int64  \n",
      " 2   Pclass       891 non-null    int64  \n",
      " 3   Name         891 non-null    object \n",
      " 4   Sex          891 non-null    object \n",
      " 5   Age          714 non-null    float64\n",
      " 6   SibSp        891 non-null    int64  \n",
      " 7   Parch        891 non-null    int64  \n",
      " 8   Ticket       891 non-null    object \n",
      " 9   Fare         891 non-null    float64\n",
      " 10  Cabin        204 non-null    object \n",
      " 11  Embarked     889 non-null    object \n",
      "dtypes: float64(2), int64(5), object(5)\n",
      "memory usage: 83.7+ KB\n",
      "None\n"
     ]
    }
   ],
   "source": [
    "print(train.info())"
   ]
  },
  {
   "cell_type": "code",
   "execution_count": 5,
   "id": "c659af0a",
   "metadata": {},
   "outputs": [
    {
     "name": "stdout",
     "output_type": "stream",
     "text": [
      "PassengerId      0\n",
      "Survived         0\n",
      "Pclass           0\n",
      "Name             0\n",
      "Sex              0\n",
      "Age            177\n",
      "SibSp            0\n",
      "Parch            0\n",
      "Ticket           0\n",
      "Fare             0\n",
      "Cabin          687\n",
      "Embarked         2\n",
      "dtype: int64\n"
     ]
    }
   ],
   "source": [
    "print(train.isna().sum())"
   ]
  },
  {
   "cell_type": "markdown",
   "id": "c9e7e44f",
   "metadata": {},
   "source": [
    "### 3.2 Test set"
   ]
  },
  {
   "cell_type": "code",
   "execution_count": 6,
   "id": "98e79137",
   "metadata": {},
   "outputs": [
    {
     "name": "stdout",
     "output_type": "stream",
     "text": [
      "   PassengerId  Pclass                                          Name     Sex  \\\n",
      "0          892       3                              Kelly, Mr. James    male   \n",
      "1          893       3              Wilkes, Mrs. James (Ellen Needs)  female   \n",
      "2          894       2                     Myles, Mr. Thomas Francis    male   \n",
      "3          895       3                              Wirz, Mr. Albert    male   \n",
      "4          896       3  Hirvonen, Mrs. Alexander (Helga E Lindqvist)  female   \n",
      "\n",
      "    Age  SibSp  Parch   Ticket     Fare Cabin Embarked  \n",
      "0  34.5      0      0   330911   7.8292   NaN        Q  \n",
      "1  47.0      1      0   363272   7.0000   NaN        S  \n",
      "2  62.0      0      0   240276   9.6875   NaN        Q  \n",
      "3  27.0      0      0   315154   8.6625   NaN        S  \n",
      "4  22.0      1      1  3101298  12.2875   NaN        S  \n"
     ]
    }
   ],
   "source": [
    "print(test.head())"
   ]
  },
  {
   "cell_type": "code",
   "execution_count": 7,
   "id": "ae64f8a9",
   "metadata": {},
   "outputs": [
    {
     "name": "stdout",
     "output_type": "stream",
     "text": [
      "<class 'pandas.core.frame.DataFrame'>\n",
      "RangeIndex: 418 entries, 0 to 417\n",
      "Data columns (total 11 columns):\n",
      " #   Column       Non-Null Count  Dtype  \n",
      "---  ------       --------------  -----  \n",
      " 0   PassengerId  418 non-null    int64  \n",
      " 1   Pclass       418 non-null    int64  \n",
      " 2   Name         418 non-null    object \n",
      " 3   Sex          418 non-null    object \n",
      " 4   Age          332 non-null    float64\n",
      " 5   SibSp        418 non-null    int64  \n",
      " 6   Parch        418 non-null    int64  \n",
      " 7   Ticket       418 non-null    object \n",
      " 8   Fare         417 non-null    float64\n",
      " 9   Cabin        91 non-null     object \n",
      " 10  Embarked     418 non-null    object \n",
      "dtypes: float64(2), int64(4), object(5)\n",
      "memory usage: 36.0+ KB\n",
      "None\n"
     ]
    }
   ],
   "source": [
    "print(test.info())"
   ]
  },
  {
   "cell_type": "code",
   "execution_count": 8,
   "id": "76f0907b",
   "metadata": {},
   "outputs": [
    {
     "name": "stdout",
     "output_type": "stream",
     "text": [
      "PassengerId      0\n",
      "Pclass           0\n",
      "Name             0\n",
      "Sex              0\n",
      "Age             86\n",
      "SibSp            0\n",
      "Parch            0\n",
      "Ticket           0\n",
      "Fare             1\n",
      "Cabin          327\n",
      "Embarked         0\n",
      "dtype: int64\n"
     ]
    }
   ],
   "source": [
    "print(test.isna().sum())"
   ]
  },
  {
   "cell_type": "markdown",
   "id": "160a5d2e",
   "metadata": {},
   "source": [
    "## 4. Preprocessing"
   ]
  },
  {
   "cell_type": "markdown",
   "id": "e9c16898",
   "metadata": {},
   "source": [
    "### 4.1 Drop unnecessary columns"
   ]
  },
  {
   "cell_type": "markdown",
   "id": "83b75d00",
   "metadata": {},
   "source": [
    "#### 4.1.1 Training set"
   ]
  },
  {
   "cell_type": "code",
   "execution_count": 9,
   "id": "33d10c8d",
   "metadata": {},
   "outputs": [
    {
     "name": "stdout",
     "output_type": "stream",
     "text": [
      "0             A/5 21171\n",
      "1              PC 17599\n",
      "2      STON/O2. 3101282\n",
      "3                113803\n",
      "4                373450\n",
      "             ...       \n",
      "886              211536\n",
      "887              112053\n",
      "888          W./C. 6607\n",
      "889              111369\n",
      "890              370376\n",
      "Name: Ticket, Length: 891, dtype: object\n",
      "681\n"
     ]
    }
   ],
   "source": [
    "print(train['Ticket'])\n",
    "print(train['Ticket'].nunique())"
   ]
  },
  {
   "cell_type": "markdown",
   "id": "1225fc94",
   "metadata": {},
   "source": [
    "Drop PassengerId, Name, Ticket and Embarked as these features don't supply useful information for the prediction of survival.\n",
    "Drop Cabin, too, as there are too many missing values."
   ]
  },
  {
   "cell_type": "code",
   "execution_count": 10,
   "id": "73071f7c",
   "metadata": {},
   "outputs": [],
   "source": [
    "train.drop(columns=['PassengerId', 'Name', 'Ticket', 'Cabin', 'Embarked'], inplace=True)"
   ]
  },
  {
   "cell_type": "markdown",
   "id": "293984b8",
   "metadata": {},
   "source": [
    "#### 4.1.2 Test set"
   ]
  },
  {
   "cell_type": "markdown",
   "id": "97babbfa",
   "metadata": {},
   "source": [
    "For the test set we keep the PassengerId, as we need it for the construction of the result dataframe containing the predictions for survival of a passenger made by the model."
   ]
  },
  {
   "cell_type": "code",
   "execution_count": 11,
   "id": "cdb1f8b1",
   "metadata": {},
   "outputs": [],
   "source": [
    "test.drop(columns=['Name', 'Ticket', 'Cabin', 'Embarked'], inplace=True)"
   ]
  },
  {
   "cell_type": "markdown",
   "id": "0c72d896",
   "metadata": {},
   "source": [
    "### 4.2 Splitting the Training set in train and test data"
   ]
  },
  {
   "cell_type": "code",
   "execution_count": 12,
   "id": "0d11b629",
   "metadata": {},
   "outputs": [],
   "source": [
    "train_train, train_test = train_test_split(train, test_size=0.2, random_state=0)"
   ]
  },
  {
   "cell_type": "markdown",
   "id": "f35516a6",
   "metadata": {},
   "source": [
    "### 4.3 Creating X and y for model development"
   ]
  },
  {
   "cell_type": "code",
   "execution_count": 13,
   "id": "adf8a09b",
   "metadata": {},
   "outputs": [
    {
     "data": {
      "text/html": [
       "<div>\n",
       "<style scoped>\n",
       "    .dataframe tbody tr th:only-of-type {\n",
       "        vertical-align: middle;\n",
       "    }\n",
       "\n",
       "    .dataframe tbody tr th {\n",
       "        vertical-align: top;\n",
       "    }\n",
       "\n",
       "    .dataframe thead th {\n",
       "        text-align: right;\n",
       "    }\n",
       "</style>\n",
       "<table border=\"1\" class=\"dataframe\">\n",
       "  <thead>\n",
       "    <tr style=\"text-align: right;\">\n",
       "      <th></th>\n",
       "      <th>Survived</th>\n",
       "      <th>Pclass</th>\n",
       "      <th>Sex</th>\n",
       "      <th>Age</th>\n",
       "      <th>SibSp</th>\n",
       "      <th>Parch</th>\n",
       "      <th>Fare</th>\n",
       "    </tr>\n",
       "  </thead>\n",
       "  <tbody>\n",
       "    <tr>\n",
       "      <th>140</th>\n",
       "      <td>0</td>\n",
       "      <td>3</td>\n",
       "      <td>female</td>\n",
       "      <td>NaN</td>\n",
       "      <td>0</td>\n",
       "      <td>2</td>\n",
       "      <td>15.2458</td>\n",
       "    </tr>\n",
       "    <tr>\n",
       "      <th>439</th>\n",
       "      <td>0</td>\n",
       "      <td>2</td>\n",
       "      <td>male</td>\n",
       "      <td>31.0</td>\n",
       "      <td>0</td>\n",
       "      <td>0</td>\n",
       "      <td>10.5000</td>\n",
       "    </tr>\n",
       "    <tr>\n",
       "      <th>817</th>\n",
       "      <td>0</td>\n",
       "      <td>2</td>\n",
       "      <td>male</td>\n",
       "      <td>31.0</td>\n",
       "      <td>1</td>\n",
       "      <td>1</td>\n",
       "      <td>37.0042</td>\n",
       "    </tr>\n",
       "    <tr>\n",
       "      <th>378</th>\n",
       "      <td>0</td>\n",
       "      <td>3</td>\n",
       "      <td>male</td>\n",
       "      <td>20.0</td>\n",
       "      <td>0</td>\n",
       "      <td>0</td>\n",
       "      <td>4.0125</td>\n",
       "    </tr>\n",
       "    <tr>\n",
       "      <th>491</th>\n",
       "      <td>0</td>\n",
       "      <td>3</td>\n",
       "      <td>male</td>\n",
       "      <td>21.0</td>\n",
       "      <td>0</td>\n",
       "      <td>0</td>\n",
       "      <td>7.2500</td>\n",
       "    </tr>\n",
       "  </tbody>\n",
       "</table>\n",
       "</div>"
      ],
      "text/plain": [
       "     Survived  Pclass     Sex   Age  SibSp  Parch     Fare\n",
       "140         0       3  female   NaN      0      2  15.2458\n",
       "439         0       2    male  31.0      0      0  10.5000\n",
       "817         0       2    male  31.0      1      1  37.0042\n",
       "378         0       3    male  20.0      0      0   4.0125\n",
       "491         0       3    male  21.0      0      0   7.2500"
      ]
     },
     "execution_count": 13,
     "metadata": {},
     "output_type": "execute_result"
    }
   ],
   "source": [
    "train_train.head()"
   ]
  },
  {
   "cell_type": "code",
   "execution_count": 14,
   "id": "b3cbc87e",
   "metadata": {},
   "outputs": [],
   "source": [
    "X_train = train_train.iloc[:, 1:].values\n",
    "y_train = train_train.iloc[:, 0].values"
   ]
  },
  {
   "cell_type": "code",
   "execution_count": 15,
   "id": "8a7d60e9",
   "metadata": {},
   "outputs": [
    {
     "name": "stdout",
     "output_type": "stream",
     "text": [
      "[[3 'female' nan 0 2 15.2458]\n",
      " [2 'male' 31.0 0 0 10.5]\n",
      " [2 'male' 31.0 1 1 37.0042]\n",
      " ...\n",
      " [3 'male' nan 0 0 7.7333]\n",
      " [3 'female' 36.0 1 0 17.4]\n",
      " [2 'male' 60.0 1 1 39.0]]\n",
      "[0 0 0 0 0 0 0 1 0 0 1 0 0 1 1 0 0 0 1 1 0 1 0 0 1 1 0 0 0 1 0 0 1 0 0 0 0\n",
      " 0 1 0 1 0 1 1 0 1 0 0 1 1 0 0 1 1 0 0 0 1 1 1 0 0 1 0 0 1 1 0 0 0 1 0 0 0\n",
      " 0 0 0 1 1 1 0 0 0 0 0 0 0 1 0 1 1 0 0 0 1 0 0 0 1 1 0 0 1 0 1 0 0 0 0 0 0\n",
      " 1 0 1 1 1 0 0 0 1 0 1 0 0 1 1 1 0 0 1 0 1 0 0 0 0 1 0 1 0 1 0 1 1 1 0 0 0\n",
      " 0 0 0 1 0 1 0 0 0 1 0 1 0 0 0 1 0 1 1 1 0 0 0 1 1 0 0 1 0 1 0 0 0 0 1 1 1\n",
      " 0 1 0 1 0 1 0 0 1 0 0 0 0 0 1 0 1 0 1 0 0 0 0 0 1 0 0 1 0 0 0 1 0 0 1 0 0\n",
      " 1 0 1 0 0 0 0 1 0 0 0 1 0 0 0 0 0 0 0 0 0 1 1 0 0 0 1 0 0 0 0 1 1 0 1 0 1\n",
      " 0 0 0 1 1 0 0 0 0 0 0 1 0 0 1 1 0 0 0 1 0 1 0 0 1 0 0 1 1 0 0 1 1 1 0 1 0\n",
      " 0 1 0 0 0 0 0 1 0 0 0 1 0 0 1 1 0 0 0 0 0 0 1 0 0 0 0 0 1 0 0 0 1 0 1 0 0\n",
      " 1 0 1 0 1 0 0 0 1 1 1 1 0 0 0 0 0 0 0 1 1 1 0 0 0 1 0 1 1 1 0 0 0 0 1 1 0\n",
      " 0 1 0 1 1 0 0 0 0 1 1 0 1 0 1 0 1 0 0 0 1 0 0 0 1 0 0 0 0 0 1 1 0 0 0 0 1\n",
      " 1 0 0 0 1 0 0 0 1 1 0 0 1 0 0 0 0 0 0 1 1 1 1 1 1 1 1 0 0 0 1 1 0 0 1 1 0\n",
      " 0 0 0 0 0 0 1 1 1 0 0 0 0 1 1 0 0 0 1 0 1 0 1 0 1 1 1 1 0 0 1 0 1 0 0 1 1\n",
      " 1 0 0 0 1 0 0 1 0 0 0 0 0 0 0 0 0 0 0 0 0 0 0 1 1 0 0 0 1 1 0 0 1 1 1 0 0\n",
      " 0 1 0 0 1 0 1 0 1 0 0 1 0 0 0 0 0 1 0 0 0 0 1 1 1 0 0 1 1 1 0 1 1 0 0 0 0\n",
      " 1 0 0 1 1 0 0 0 1 1 0 1 0 1 1 1 0 1 1 1 0 0 0 1 0 0 0 1 0 0 1 0 0 0 1 0 0\n",
      " 1 1 1 0 1 1 0 1 0 1 1 0 0 0 0 0 0 1 1 0 0 0 0 0 1 0 0 0 1 1 1 0 0 1 0 0 0\n",
      " 0 0 1 1 1 0 1 0 0 1 0 0 0 0 0 0 0 0 0 1 1 1 1 1 1 1 0 1 0 1 0 0 1 0 0 1 0\n",
      " 1 0 0 0 1 1 0 0 0 1 1 0 1 1 0 1 0 0 1 1 1 1 0 0 0 1 0 0 0 1 1 0 1 1 1 0 0\n",
      " 1 1 1 1 1 1 0 1 0]\n"
     ]
    }
   ],
   "source": [
    "print(X_train)\n",
    "print(y_train)"
   ]
  },
  {
   "cell_type": "code",
   "execution_count": 16,
   "id": "d2068a8d",
   "metadata": {},
   "outputs": [],
   "source": [
    "X_test = train_test.iloc[:, 1:].values\n",
    "y_test = train_test.iloc[:, 0].values"
   ]
  },
  {
   "cell_type": "code",
   "execution_count": 17,
   "id": "f2e93207",
   "metadata": {},
   "outputs": [
    {
     "name": "stdout",
     "output_type": "stream",
     "text": [
      "[[3 'male' nan 0 0 14.4583]\n",
      " [3 'male' nan 0 0 7.55]\n",
      " [3 'male' 7.0 4 1 29.125]\n",
      " ...\n",
      " [1 'female' 31.0 1 0 113.275]\n",
      " [3 'male' 23.0 0 0 7.8542]\n",
      " [3 'male' 19.0 0 0 8.05]]\n",
      "[0 0 0 1 1 1 1 1 1 1 0 1 0 1 1 0 0 0 0 1 0 1 0 0 0 1 0 1 1 0 0 1 0 1 0 1 0\n",
      " 0 0 0 1 0 0 0 1 0 0 1 0 0 1 1 1 0 1 0 0 0 0 1 0 0 1 0 1 0 1 0 1 1 1 1 0 0\n",
      " 0 1 0 0 0 0 0 1 0 0 0 1 1 1 1 0 0 0 1 1 0 0 1 0 0 1 0 0 0 0 0 1 1 0 0 1 0\n",
      " 1 1 0 1 1 1 1 0 1 1 0 0 0 0 0 0 1 0 0 0 0 0 0 0 0 0 0 0 0 0 1 0 0 1 0 0 1\n",
      " 1 0 0 1 0 0 1 0 0 1 0 1 0 1 1 1 0 0 0 0 0 0 0 1 0 0 1 0 1 0 0]\n"
     ]
    }
   ],
   "source": [
    "print(X_test)\n",
    "print(y_test)"
   ]
  },
  {
   "cell_type": "markdown",
   "id": "e81a47ba",
   "metadata": {},
   "source": [
    "### 4.4 Creating X as input for prediction"
   ]
  },
  {
   "cell_type": "code",
   "execution_count": 18,
   "id": "26493256",
   "metadata": {},
   "outputs": [
    {
     "name": "stdout",
     "output_type": "stream",
     "text": [
      "   PassengerId  Pclass     Sex   Age  SibSp  Parch     Fare\n",
      "0          892       3    male  34.5      0      0   7.8292\n",
      "1          893       3  female  47.0      1      0   7.0000\n",
      "2          894       2    male  62.0      0      0   9.6875\n",
      "3          895       3    male  27.0      0      0   8.6625\n",
      "4          896       3  female  22.0      1      1  12.2875\n"
     ]
    }
   ],
   "source": [
    "print(test.head())"
   ]
  },
  {
   "cell_type": "code",
   "execution_count": 19,
   "id": "71534b34",
   "metadata": {},
   "outputs": [],
   "source": [
    "X_pred = test.iloc[:, 1:].values"
   ]
  },
  {
   "cell_type": "code",
   "execution_count": 20,
   "id": "e518491b",
   "metadata": {},
   "outputs": [
    {
     "name": "stdout",
     "output_type": "stream",
     "text": [
      "[[3 'male' 34.5 0 0 7.8292]\n",
      " [3 'female' 47.0 1 0 7.0]\n",
      " [2 'male' 62.0 0 0 9.6875]\n",
      " ...\n",
      " [3 'male' 38.5 0 0 7.25]\n",
      " [3 'male' nan 0 0 8.05]\n",
      " [3 'male' nan 1 1 22.3583]]\n"
     ]
    }
   ],
   "source": [
    "print(X_pred)"
   ]
  },
  {
   "cell_type": "markdown",
   "id": "e9e95565",
   "metadata": {},
   "source": [
    "### 4.5 Handle missing data "
   ]
  },
  {
   "cell_type": "markdown",
   "id": "3e24461b",
   "metadata": {},
   "source": [
    "#### 4.5.1 Training set (model development)"
   ]
  },
  {
   "cell_type": "code",
   "execution_count": 21,
   "id": "72e2fc62",
   "metadata": {},
   "outputs": [
    {
     "name": "stdout",
     "output_type": "stream",
     "text": [
      "Survived      0\n",
      "Pclass        0\n",
      "Sex           0\n",
      "Age         141\n",
      "SibSp         0\n",
      "Parch         0\n",
      "Fare          0\n",
      "dtype: int64\n"
     ]
    }
   ],
   "source": [
    "print(train_train.isna().sum())"
   ]
  },
  {
   "cell_type": "markdown",
   "id": "9034afd6",
   "metadata": {},
   "source": [
    "##### Calculate treshold for missing values"
   ]
  },
  {
   "cell_type": "code",
   "execution_count": 22,
   "id": "41b38a18",
   "metadata": {},
   "outputs": [
    {
     "name": "stdout",
     "output_type": "stream",
     "text": [
      "35.6\n",
      "712\n"
     ]
    }
   ],
   "source": [
    "treshold = len(train_train) * 0.05\n",
    "print(treshold)\n",
    "print(len(train_train))"
   ]
  },
  {
   "cell_type": "markdown",
   "id": "4ba38545",
   "metadata": {},
   "source": [
    "As it is already obvious, the number of missing values in Age is far above the treshold so we cannot simply drop them. "
   ]
  },
  {
   "cell_type": "markdown",
   "id": "9d4fc5b2",
   "metadata": {},
   "source": [
    "We have now two options: \n",
    "- drop feature Age as there are many missing values in it\n",
    "- handle missing data by imputing mean e.g."
   ]
  },
  {
   "cell_type": "markdown",
   "id": "6df30f14",
   "metadata": {},
   "source": [
    "First we try building the model with feature Age and imputed values. "
   ]
  },
  {
   "cell_type": "markdown",
   "id": "1547f4f9",
   "metadata": {},
   "source": [
    "##### Keep Age and impute missing values"
   ]
  },
  {
   "cell_type": "code",
   "execution_count": 23,
   "id": "73285c69",
   "metadata": {},
   "outputs": [],
   "source": [
    "imputer = SimpleImputer(missing_values=np.nan, strategy='most_frequent')\n",
    "imputer.fit(np.reshape(X_train[:, 2], (len(X_train[:, 2]), 1)))\n",
    "X_train[:, 2] = imputer.transform(np.reshape(X_train[:, 2], (len(X_train[:, 2]), 1))).reshape(-1)"
   ]
  },
  {
   "cell_type": "code",
   "execution_count": 24,
   "id": "000ee84d",
   "metadata": {},
   "outputs": [
    {
     "name": "stdout",
     "output_type": "stream",
     "text": [
      "[[3 'female' 24.0 0 2 15.2458]\n",
      " [2 'male' 31.0 0 0 10.5]\n",
      " [2 'male' 31.0 1 1 37.0042]\n",
      " ...\n",
      " [3 'male' 24.0 0 0 7.7333]\n",
      " [3 'female' 36.0 1 0 17.4]\n",
      " [2 'male' 60.0 1 1 39.0]]\n"
     ]
    }
   ],
   "source": [
    "print(X_train)"
   ]
  },
  {
   "cell_type": "markdown",
   "id": "ca548c96",
   "metadata": {},
   "source": [
    "#### 4.5.2 Test set (model development)"
   ]
  },
  {
   "cell_type": "code",
   "execution_count": 25,
   "id": "4fa1685f",
   "metadata": {},
   "outputs": [
    {
     "name": "stdout",
     "output_type": "stream",
     "text": [
      "Survived     0\n",
      "Pclass       0\n",
      "Sex          0\n",
      "Age         36\n",
      "SibSp        0\n",
      "Parch        0\n",
      "Fare         0\n",
      "dtype: int64\n"
     ]
    }
   ],
   "source": [
    "print(train_test.isna().sum())"
   ]
  },
  {
   "cell_type": "code",
   "execution_count": 26,
   "id": "f462577b",
   "metadata": {},
   "outputs": [],
   "source": [
    "X_test[:, 2] = imputer.transform(np.reshape(X_test[:, 2], (len(X_test[:, 2]), 1))).reshape(-1)"
   ]
  },
  {
   "cell_type": "code",
   "execution_count": 27,
   "id": "404a3821",
   "metadata": {},
   "outputs": [
    {
     "name": "stdout",
     "output_type": "stream",
     "text": [
      "[[3 'male' 24.0 0 0 14.4583]\n",
      " [3 'male' 24.0 0 0 7.55]\n",
      " [3 'male' 7.0 4 1 29.125]\n",
      " ...\n",
      " [1 'female' 31.0 1 0 113.275]\n",
      " [3 'male' 23.0 0 0 7.8542]\n",
      " [3 'male' 19.0 0 0 8.05]]\n"
     ]
    }
   ],
   "source": [
    "print(X_test)"
   ]
  },
  {
   "cell_type": "markdown",
   "id": "dcddf240",
   "metadata": {},
   "source": [
    "#### 4.5.3 Test set (test set to predict)"
   ]
  },
  {
   "cell_type": "code",
   "execution_count": 28,
   "id": "3c48c444",
   "metadata": {},
   "outputs": [
    {
     "name": "stdout",
     "output_type": "stream",
     "text": [
      "PassengerId     0\n",
      "Pclass          0\n",
      "Sex             0\n",
      "Age            86\n",
      "SibSp           0\n",
      "Parch           0\n",
      "Fare            1\n",
      "dtype: int64\n"
     ]
    }
   ],
   "source": [
    "print(test.isna().sum())"
   ]
  },
  {
   "cell_type": "markdown",
   "id": "327d55e9",
   "metadata": {},
   "source": [
    "Here we have one additional column with missing values in Fare."
   ]
  },
  {
   "cell_type": "markdown",
   "id": "0c410c6f",
   "metadata": {},
   "source": [
    "##### Calculate treshold for missing values"
   ]
  },
  {
   "cell_type": "code",
   "execution_count": 29,
   "id": "01698014",
   "metadata": {},
   "outputs": [
    {
     "name": "stdout",
     "output_type": "stream",
     "text": [
      "20.900000000000002\n",
      "418\n"
     ]
    }
   ],
   "source": [
    "treshold = len(test) * 0.05\n",
    "print(treshold)\n",
    "print(len(test))"
   ]
  },
  {
   "cell_type": "markdown",
   "id": "b6c2b80e",
   "metadata": {},
   "source": [
    "The missing value in Fare is below the treshold and the observation could be dropped. But as this observation belongs to the test set to predict, we have to deal with it and impute the missing value instead. The missing values in Age are filled by the imputer used for the training set."
   ]
  },
  {
   "cell_type": "markdown",
   "id": "f6c046eb",
   "metadata": {},
   "source": [
    "##### Impute missing values for Age"
   ]
  },
  {
   "cell_type": "code",
   "execution_count": 30,
   "id": "9e7139e8",
   "metadata": {},
   "outputs": [],
   "source": [
    "X_pred[:, 2] = imputer.transform(np.reshape(X_pred[:, 2], (len(X_pred[:, 2]), 1))).reshape(-1)"
   ]
  },
  {
   "cell_type": "code",
   "execution_count": 31,
   "id": "2b091bc9",
   "metadata": {},
   "outputs": [
    {
     "name": "stdout",
     "output_type": "stream",
     "text": [
      "[[3 'male' 34.5 0 0 7.8292]\n",
      " [3 'female' 47.0 1 0 7.0]\n",
      " [2 'male' 62.0 0 0 9.6875]\n",
      " ...\n",
      " [3 'male' 38.5 0 0 7.25]\n",
      " [3 'male' 24.0 0 0 8.05]\n",
      " [3 'male' 24.0 1 1 22.3583]]\n"
     ]
    }
   ],
   "source": [
    "print(X_pred)"
   ]
  },
  {
   "cell_type": "code",
   "execution_count": 32,
   "id": "f7a4ec05",
   "metadata": {},
   "outputs": [],
   "source": [
    "##### Impute missing values for Fare"
   ]
  },
  {
   "cell_type": "code",
   "execution_count": 33,
   "id": "95c42931",
   "metadata": {},
   "outputs": [],
   "source": [
    "imputer_fare = SimpleImputer(missing_values=np.nan, strategy='most_frequent')\n",
    "imputer_fare.fit(np.reshape(X_pred[:, 5], (len(X_pred[:, 5]), 1)))\n",
    "X_pred[:, 5] = imputer.transform(np.reshape(X_pred[:, 5], (len(X_pred[:, 5]), 1))).reshape(-1)"
   ]
  },
  {
   "cell_type": "markdown",
   "id": "aa253daa",
   "metadata": {},
   "source": [
    "### 4.6 Encode categorical values"
   ]
  },
  {
   "cell_type": "markdown",
   "id": "12ae374a",
   "metadata": {},
   "source": [
    "#### 4.6.1 Training set (model development)"
   ]
  },
  {
   "cell_type": "code",
   "execution_count": 34,
   "id": "72b595d1",
   "metadata": {},
   "outputs": [
    {
     "name": "stdout",
     "output_type": "stream",
     "text": [
      "[[3 'female' 24.0 0 2 15.2458]\n",
      " [2 'male' 31.0 0 0 10.5]\n",
      " [2 'male' 31.0 1 1 37.0042]\n",
      " ...\n",
      " [3 'male' 24.0 0 0 7.7333]\n",
      " [3 'female' 36.0 1 0 17.4]\n",
      " [2 'male' 60.0 1 1 39.0]]\n"
     ]
    }
   ],
   "source": [
    "print(X_train)"
   ]
  },
  {
   "cell_type": "markdown",
   "id": "53fc95d3",
   "metadata": {},
   "source": [
    "Encode values in PClass (col 0) and Sex (col 1)."
   ]
  },
  {
   "cell_type": "code",
   "execution_count": 35,
   "id": "3598f7d1",
   "metadata": {},
   "outputs": [],
   "source": [
    "ct_X = ColumnTransformer(transformers=[('encoder', OneHotEncoder(handle_unknown='ignore'), [0, 1])], remainder='passthrough')\n",
    "ct_X.fit(X_train)\n",
    "X_train = ct_X.transform(X_train)"
   ]
  },
  {
   "cell_type": "code",
   "execution_count": 36,
   "id": "b99d7a1b",
   "metadata": {},
   "outputs": [
    {
     "name": "stdout",
     "output_type": "stream",
     "text": [
      "[[0.0 0.0 1.0 ... 0 2 15.2458]\n",
      " [0.0 1.0 0.0 ... 0 0 10.5]\n",
      " [0.0 1.0 0.0 ... 1 1 37.0042]\n",
      " ...\n",
      " [0.0 0.0 1.0 ... 0 0 7.7333]\n",
      " [0.0 0.0 1.0 ... 1 0 17.4]\n",
      " [0.0 1.0 0.0 ... 1 1 39.0]]\n"
     ]
    }
   ],
   "source": [
    "print(X_train)"
   ]
  },
  {
   "cell_type": "markdown",
   "id": "6f16824f",
   "metadata": {},
   "source": [
    "#### 4.6.2 Test set (model input)"
   ]
  },
  {
   "cell_type": "code",
   "execution_count": 37,
   "id": "cd145d81",
   "metadata": {},
   "outputs": [],
   "source": [
    "X_test = ct_X.transform(X_test)"
   ]
  },
  {
   "cell_type": "code",
   "execution_count": 38,
   "id": "9fd056cc",
   "metadata": {},
   "outputs": [
    {
     "name": "stdout",
     "output_type": "stream",
     "text": [
      "[[0.0 0.0 1.0 ... 0 0 14.4583]\n",
      " [0.0 0.0 1.0 ... 0 0 7.55]\n",
      " [0.0 0.0 1.0 ... 4 1 29.125]\n",
      " ...\n",
      " [1.0 0.0 0.0 ... 1 0 113.275]\n",
      " [0.0 0.0 1.0 ... 0 0 7.8542]\n",
      " [0.0 0.0 1.0 ... 0 0 8.05]]\n"
     ]
    }
   ],
   "source": [
    "print(X_test)"
   ]
  },
  {
   "cell_type": "markdown",
   "id": "683b3857",
   "metadata": {},
   "source": [
    "#### 4.6.3 Test set (test set to predict)"
   ]
  },
  {
   "cell_type": "code",
   "execution_count": 39,
   "id": "a5cd3de1",
   "metadata": {},
   "outputs": [],
   "source": [
    "X_pred = ct_X.transform(X_pred)"
   ]
  },
  {
   "cell_type": "code",
   "execution_count": 40,
   "id": "96dad7d4",
   "metadata": {},
   "outputs": [
    {
     "name": "stdout",
     "output_type": "stream",
     "text": [
      "[[0.0 0.0 1.0 ... 0 0 7.8292]\n",
      " [0.0 0.0 1.0 ... 1 0 7.0]\n",
      " [0.0 1.0 0.0 ... 0 0 9.6875]\n",
      " ...\n",
      " [0.0 0.0 1.0 ... 0 0 7.25]\n",
      " [0.0 0.0 1.0 ... 0 0 8.05]\n",
      " [0.0 0.0 1.0 ... 1 1 22.3583]]\n"
     ]
    }
   ],
   "source": [
    "print(X_pred)"
   ]
  },
  {
   "cell_type": "markdown",
   "id": "305244db",
   "metadata": {},
   "source": [
    "### 4.7 Feature Scaling"
   ]
  },
  {
   "cell_type": "markdown",
   "id": "29a2a413",
   "metadata": {},
   "source": [
    "#### 4.7.1 Training set (model development)"
   ]
  },
  {
   "cell_type": "code",
   "execution_count": 41,
   "id": "372f9cf9",
   "metadata": {},
   "outputs": [],
   "source": [
    "sc = StandardScaler()\n",
    "X_train[:, 2:] = sc.fit_transform(X_train[:, 2:])"
   ]
  },
  {
   "cell_type": "code",
   "execution_count": 42,
   "id": "95a968bc",
   "metadata": {},
   "outputs": [
    {
     "name": "stdout",
     "output_type": "stream",
     "text": [
      "[[0.0 0.0 0.8932971498777942 ... -0.46445233851359824 1.9592640285249252\n",
      "  -0.3316790433256366]\n",
      " [0.0 1.0 -1.119448327062046 ... -0.46445233851359824 -0.4774101868632787\n",
      "  -0.4264054204191258]\n",
      " [0.0 1.0 -1.119448327062046 ... 0.41270963767123453 0.7409269208308232\n",
      "  0.10261957931985559]\n",
      " ...\n",
      " [0.0 0.0 0.8932971498777942 ... -0.46445233851359824 -0.4774101868632787\n",
      "  -0.4816288743161625]\n",
      " [0.0 0.0 0.8932971498777942 ... 0.41270963767123453 -0.4774101868632787\n",
      "  -0.2886811164145163]\n",
      " [0.0 1.0 -1.119448327062046 ... 0.41270963767123453 0.7409269208308232\n",
      "  0.1424558352520875]]\n"
     ]
    }
   ],
   "source": [
    "print(X_train)"
   ]
  },
  {
   "cell_type": "markdown",
   "id": "636017cf",
   "metadata": {},
   "source": [
    "#### 4.7.2 Test set (model development)"
   ]
  },
  {
   "cell_type": "code",
   "execution_count": 43,
   "id": "f58c2161",
   "metadata": {},
   "outputs": [],
   "source": [
    "X_test[:, 2:] = sc.transform(X_test[:, 2:])"
   ]
  },
  {
   "cell_type": "code",
   "execution_count": 44,
   "id": "83dda8c5",
   "metadata": {},
   "outputs": [
    {
     "name": "stdout",
     "output_type": "stream",
     "text": [
      "[[0.0 0.0 0.8932971498777942 ... -0.46445233851359824 -0.4774101868632787\n",
      "  -0.3473975780218148]\n",
      " [0.0 0.0 0.8932971498777942 ... -0.46445233851359824 -0.4774101868632787\n",
      "  -0.485287550392111]\n",
      " [0.0 0.0 0.8932971498777942 ... 3.0441955662257327 0.7409269208308232\n",
      "  -0.05464959982697327]\n",
      " ...\n",
      " [1.0 0.0 -1.119448327062046 ... 0.41270963767123453 -0.4774101868632787\n",
      "  1.6249881077075041]\n",
      " [0.0 0.0 0.8932971498777942 ... -0.46445233851359824 -0.4774101868632787\n",
      "  -0.4792157049894731]\n",
      " [0.0 0.0 0.8932971498777942 ... -0.46445233851359824 -0.4774101868632787\n",
      "  -0.4753075283627915]]\n"
     ]
    }
   ],
   "source": [
    "print(X_test)"
   ]
  },
  {
   "cell_type": "markdown",
   "id": "f70e8448",
   "metadata": {},
   "source": [
    "#### 4.7.3 Test set (test set to predict)"
   ]
  },
  {
   "cell_type": "code",
   "execution_count": 45,
   "id": "64a9ee6e",
   "metadata": {},
   "outputs": [],
   "source": [
    "X_pred[:, 2:] = sc.transform(X_pred[:, 2:])"
   ]
  },
  {
   "cell_type": "code",
   "execution_count": 46,
   "id": "c9582eb2",
   "metadata": {},
   "outputs": [
    {
     "name": "stdout",
     "output_type": "stream",
     "text": [
      "[[0.0 0.0 0.8932971498777942 ... -0.46445233851359824 -0.4774101868632787\n",
      "  -0.479714706090939]\n",
      " [0.0 0.0 0.8932971498777942 ... 0.41270963767123453 -0.4774101868632787\n",
      "  -0.49626557462436255]\n",
      " [0.0 1.0 -1.119448327062046 ... -0.46445233851359824 -0.4774101868632787\n",
      "  -0.44262295621677006]\n",
      " ...\n",
      " [0.0 0.0 0.8932971498777942 ... -0.46445233851359824 -0.4774101868632787\n",
      "  -0.49127556360970276]\n",
      " [0.0 0.0 0.8932971498777942 ... -0.46445233851359824 -0.4774101868632787\n",
      "  -0.4753075283627915]\n",
      " [0.0 0.0 0.8932971498777942 ... 0.41270963767123453 0.7409269208308232\n",
      "  -0.1897132299585662]]\n"
     ]
    }
   ],
   "source": [
    "print(X_pred)"
   ]
  },
  {
   "cell_type": "markdown",
   "id": "c0b3b75a",
   "metadata": {},
   "source": [
    "### 4.8 Build the Random Forest Tree model"
   ]
  },
  {
   "cell_type": "code",
   "execution_count": 47,
   "id": "3396085e",
   "metadata": {},
   "outputs": [
    {
     "data": {
      "text/plain": [
       "RandomForestClassifier(criterion='entropy', random_state=1000)"
      ]
     },
     "execution_count": 47,
     "metadata": {},
     "output_type": "execute_result"
    }
   ],
   "source": [
    "classifier = RandomForestClassifier(criterion='entropy', n_estimators=100, random_state=1000)\n",
    "classifier.fit(X_train, y_train)"
   ]
  },
  {
   "cell_type": "markdown",
   "id": "b746e244",
   "metadata": {},
   "source": [
    "### 4.9. Predict Test set (model development )"
   ]
  },
  {
   "cell_type": "code",
   "execution_count": 48,
   "id": "22c74ebd",
   "metadata": {},
   "outputs": [],
   "source": [
    "y_model_pred = classifier.predict(X_test)"
   ]
  },
  {
   "cell_type": "code",
   "execution_count": 49,
   "id": "4d2112cd",
   "metadata": {},
   "outputs": [
    {
     "name": "stdout",
     "output_type": "stream",
     "text": [
      "[[0 0]\n",
      " [0 0]\n",
      " [0 0]\n",
      " [1 1]\n",
      " [0 1]\n",
      " [0 1]\n",
      " [1 1]\n",
      " [1 1]\n",
      " [1 1]\n",
      " [1 1]\n",
      " [0 0]\n",
      " [1 1]\n",
      " [0 0]\n",
      " [1 1]\n",
      " [1 1]\n",
      " [1 0]\n",
      " [0 0]\n",
      " [0 0]\n",
      " [0 0]\n",
      " [1 1]\n",
      " [0 0]\n",
      " [1 1]\n",
      " [0 0]\n",
      " [0 0]\n",
      " [0 0]\n",
      " [1 1]\n",
      " [0 0]\n",
      " [1 1]\n",
      " [1 1]\n",
      " [0 0]\n",
      " [0 0]\n",
      " [1 1]\n",
      " [0 0]\n",
      " [0 1]\n",
      " [0 0]\n",
      " [1 1]\n",
      " [0 0]\n",
      " [0 0]\n",
      " [0 0]\n",
      " [0 0]\n",
      " [0 1]\n",
      " [0 0]\n",
      " [0 0]\n",
      " [0 0]\n",
      " [1 1]\n",
      " [0 0]\n",
      " [0 0]\n",
      " [1 1]\n",
      " [0 0]\n",
      " [0 0]\n",
      " [0 1]\n",
      " [0 1]\n",
      " [1 1]\n",
      " [0 0]\n",
      " [0 1]\n",
      " [0 0]\n",
      " [0 0]\n",
      " [0 0]\n",
      " [0 0]\n",
      " [0 1]\n",
      " [0 0]\n",
      " [1 0]\n",
      " [1 1]\n",
      " [0 0]\n",
      " [0 1]\n",
      " [0 0]\n",
      " [1 1]\n",
      " [0 0]\n",
      " [1 1]\n",
      " [1 1]\n",
      " [1 1]\n",
      " [0 1]\n",
      " [0 0]\n",
      " [0 0]\n",
      " [0 0]\n",
      " [1 1]\n",
      " [1 0]\n",
      " [0 0]\n",
      " [0 0]\n",
      " [0 0]\n",
      " [0 0]\n",
      " [1 1]\n",
      " [1 0]\n",
      " [0 0]\n",
      " [0 0]\n",
      " [1 1]\n",
      " [1 1]\n",
      " [0 1]\n",
      " [1 1]\n",
      " [0 0]\n",
      " [0 0]\n",
      " [0 0]\n",
      " [1 1]\n",
      " [1 1]\n",
      " [0 0]\n",
      " [0 0]\n",
      " [1 1]\n",
      " [0 0]\n",
      " [0 0]\n",
      " [0 1]\n",
      " [0 0]\n",
      " [0 0]\n",
      " [0 0]\n",
      " [0 0]\n",
      " [0 0]\n",
      " [1 1]\n",
      " [1 1]\n",
      " [0 0]\n",
      " [0 0]\n",
      " [1 1]\n",
      " [0 0]\n",
      " [1 1]\n",
      " [1 1]\n",
      " [0 0]\n",
      " [1 1]\n",
      " [1 1]\n",
      " [1 1]\n",
      " [1 1]\n",
      " [0 0]\n",
      " [1 1]\n",
      " [1 1]\n",
      " [0 0]\n",
      " [0 0]\n",
      " [0 0]\n",
      " [0 0]\n",
      " [0 0]\n",
      " [0 0]\n",
      " [0 1]\n",
      " [0 0]\n",
      " [0 0]\n",
      " [1 0]\n",
      " [0 0]\n",
      " [0 0]\n",
      " [0 0]\n",
      " [0 0]\n",
      " [0 0]\n",
      " [0 0]\n",
      " [0 0]\n",
      " [0 0]\n",
      " [0 0]\n",
      " [0 0]\n",
      " [1 1]\n",
      " [0 0]\n",
      " [1 0]\n",
      " [1 1]\n",
      " [0 0]\n",
      " [0 0]\n",
      " [0 1]\n",
      " [1 1]\n",
      " [0 0]\n",
      " [0 0]\n",
      " [0 1]\n",
      " [1 0]\n",
      " [1 0]\n",
      " [1 1]\n",
      " [0 0]\n",
      " [0 0]\n",
      " [0 1]\n",
      " [1 0]\n",
      " [1 1]\n",
      " [0 0]\n",
      " [0 1]\n",
      " [1 1]\n",
      " [0 1]\n",
      " [0 0]\n",
      " [0 0]\n",
      " [0 0]\n",
      " [0 0]\n",
      " [0 0]\n",
      " [0 0]\n",
      " [0 0]\n",
      " [1 1]\n",
      " [0 0]\n",
      " [0 0]\n",
      " [1 1]\n",
      " [0 0]\n",
      " [1 1]\n",
      " [0 0]\n",
      " [1 0]]\n"
     ]
    }
   ],
   "source": [
    "print(np.concatenate((y_model_pred.reshape(len(y_model_pred),1), y_test.reshape(len(y_test),1)),1))"
   ]
  },
  {
   "cell_type": "markdown",
   "id": "391e42d2",
   "metadata": {},
   "source": [
    "### 4.10. Print Confusion Matrix"
   ]
  },
  {
   "cell_type": "code",
   "execution_count": 50,
   "id": "e73e21c9",
   "metadata": {},
   "outputs": [
    {
     "name": "stdout",
     "output_type": "stream",
     "text": [
      "[[100  10]\n",
      " [ 18  51]]\n"
     ]
    }
   ],
   "source": [
    "print(confusion_matrix(y_test, y_model_pred))"
   ]
  },
  {
   "cell_type": "code",
   "execution_count": 51,
   "id": "fa6b096b",
   "metadata": {},
   "outputs": [
    {
     "name": "stdout",
     "output_type": "stream",
     "text": [
      "84.35754189944134\n"
     ]
    }
   ],
   "source": [
    "print(accuracy_score(y_test, y_model_pred) * 100)"
   ]
  },
  {
   "cell_type": "markdown",
   "id": "f66ad118",
   "metadata": {},
   "source": [
    "### 4.11. Predict Test set (with unknown results)"
   ]
  },
  {
   "cell_type": "code",
   "execution_count": 52,
   "id": "6731b1d4",
   "metadata": {},
   "outputs": [],
   "source": [
    "y_pred = classifier.predict(X_pred)"
   ]
  },
  {
   "cell_type": "code",
   "execution_count": 53,
   "id": "d627f12d",
   "metadata": {},
   "outputs": [
    {
     "name": "stdout",
     "output_type": "stream",
     "text": [
      "[0 0 0 1 0 0 0 0 1 0 0 0 1 0 1 1 0 0 0 0 0 1 1 0 1 0 1 1 1 0 0 0 0 0 1 0 0\n",
      " 0 0 1 0 0 0 1 1 0 0 0 1 0 0 0 1 1 0 0 0 0 0 1 0 0 0 1 1 1 1 0 0 1 1 0 0 1\n",
      " 1 0 0 1 0 1 1 0 0 0 0 0 1 1 1 1 0 0 1 0 0 0 1 1 1 0 1 0 0 0 0 0 0 0 0 0 0\n",
      " 1 1 1 1 0 0 1 0 1 1 0 1 0 0 0 0 1 0 0 1 1 0 0 0 0 0 0 0 0 0 1 0 0 1 0 0 0\n",
      " 0 0 1 0 0 0 0 0 1 1 1 0 1 1 1 0 0 1 0 0 1 0 0 0 0 0 0 1 1 0 1 1 0 0 1 0 1\n",
      " 0 1 0 0 0 0 0 1 0 1 0 1 0 0 0 0 1 1 1 0 0 0 0 1 0 0 0 0 0 0 0 1 0 1 0 1 0\n",
      " 1 1 1 0 0 1 0 0 0 1 0 0 0 0 0 0 1 1 1 1 0 0 0 0 1 0 1 0 1 0 1 0 0 0 0 0 1\n",
      " 0 0 0 1 1 0 0 0 0 0 0 0 0 1 1 0 1 0 0 0 0 0 1 1 0 1 0 0 0 0 0 0 0 0 0 0 0\n",
      " 1 0 0 0 0 0 0 0 1 1 0 1 0 0 0 1 0 0 1 1 0 0 0 0 0 0 0 1 1 0 1 0 0 0 1 1 0\n",
      " 0 0 0 1 0 0 0 0 0 0 1 1 1 0 0 1 1 1 0 0 0 1 0 1 0 0 0 0 1 1 1 1 0 0 0 1 0\n",
      " 0 1 0 0 1 1 0 0 0 0 0 0 0 0 0 1 0 0 0 0 0 1 0 0 0 1 0 1 0 0 1 0 1 0 0 0 0\n",
      " 0 1 1 1 1 0 0 1 0 0 0]\n"
     ]
    }
   ],
   "source": [
    "print(y_pred)"
   ]
  },
  {
   "cell_type": "markdown",
   "id": "e1cdf2b6",
   "metadata": {},
   "source": [
    "### 4.12. Create result dataframe and print it to csv"
   ]
  },
  {
   "cell_type": "code",
   "execution_count": 54,
   "id": "43a2f9b6",
   "metadata": {},
   "outputs": [
    {
     "name": "stdout",
     "output_type": "stream",
     "text": [
      "418\n"
     ]
    }
   ],
   "source": [
    "print(len(y_pred))"
   ]
  },
  {
   "cell_type": "code",
   "execution_count": 55,
   "id": "951cf8ec",
   "metadata": {},
   "outputs": [
    {
     "name": "stdout",
     "output_type": "stream",
     "text": [
      "     PassengerId  Survived\n",
      "0            892         0\n",
      "1            893         0\n",
      "2            894         0\n",
      "3            895         1\n",
      "4            896         0\n",
      "..           ...       ...\n",
      "413         1305         0\n",
      "414         1306         1\n",
      "415         1307         0\n",
      "416         1308         0\n",
      "417         1309         0\n",
      "\n",
      "[418 rows x 2 columns]\n"
     ]
    }
   ],
   "source": [
    "result = pd.DataFrame({'PassengerId': test['PassengerId'], 'Survived': y_pred})\n",
    "print(result)"
   ]
  },
  {
   "cell_type": "code",
   "execution_count": 56,
   "id": "22f733bc",
   "metadata": {},
   "outputs": [],
   "source": [
    "result.to_csv('../00_data/pred_rand_forest.csv', index=False)"
   ]
  },
  {
   "cell_type": "code",
   "execution_count": null,
   "id": "52ca1a99",
   "metadata": {},
   "outputs": [],
   "source": []
  }
 ],
 "metadata": {
  "kernelspec": {
   "display_name": "Python 3 (ipykernel)",
   "language": "python",
   "name": "python3"
  },
  "language_info": {
   "codemirror_mode": {
    "name": "ipython",
    "version": 3
   },
   "file_extension": ".py",
   "mimetype": "text/x-python",
   "name": "python",
   "nbconvert_exporter": "python",
   "pygments_lexer": "ipython3",
   "version": "3.9.7"
  }
 },
 "nbformat": 4,
 "nbformat_minor": 5
}
