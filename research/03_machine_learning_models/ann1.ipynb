{
 "cells": [
  {
   "cell_type": "markdown",
   "id": "0a4b92ea",
   "metadata": {},
   "source": [
    "# Prediction for Survival of the Titanic disaster with ANN"
   ]
  },
  {
   "cell_type": "markdown",
   "id": "d2036d07",
   "metadata": {},
   "source": [
    "## 1. Importing the libraries"
   ]
  },
  {
   "cell_type": "code",
   "execution_count": 1,
   "id": "a79fa952",
   "metadata": {},
   "outputs": [],
   "source": [
    "import pandas as pd\n",
    "import numpy as np\n",
    "import matplotlib.pyplot as plt\n",
    "from sklearn.impute import SimpleImputer\n",
    "from sklearn.preprocessing import LabelEncoder, OneHotEncoder, StandardScaler\n",
    "from sklearn.compose import ColumnTransformer\n",
    "from sklearn.model_selection import train_test_split, cross_val_score\n",
    "from sklearn.preprocessing import StandardScaler\n",
    "from sklearn.metrics import confusion_matrix, accuracy_score, silhouette_score\n",
    "import tensorflow as tf"
   ]
  },
  {
   "cell_type": "markdown",
   "id": "b6d941d0",
   "metadata": {},
   "source": [
    "## 2. Reading the datasets "
   ]
  },
  {
   "cell_type": "code",
   "execution_count": 2,
   "id": "9e31ab97",
   "metadata": {},
   "outputs": [],
   "source": [
    "train = pd.read_csv('../00_data/train.csv')\n",
    "test = pd.read_csv('../00_data/test.csv')"
   ]
  },
  {
   "cell_type": "markdown",
   "id": "5dc5c297",
   "metadata": {},
   "source": [
    "## 3. Exploring the datasets"
   ]
  },
  {
   "cell_type": "markdown",
   "id": "18ee3805",
   "metadata": {},
   "source": [
    "### 3.1 Training set"
   ]
  },
  {
   "cell_type": "code",
   "execution_count": 3,
   "id": "6ed21fe0",
   "metadata": {},
   "outputs": [
    {
     "name": "stdout",
     "output_type": "stream",
     "text": [
      "   PassengerId  Survived  Pclass  \\\n",
      "0            1         0       3   \n",
      "1            2         1       1   \n",
      "2            3         1       3   \n",
      "3            4         1       1   \n",
      "4            5         0       3   \n",
      "\n",
      "                                                Name     Sex   Age  SibSp  \\\n",
      "0                            Braund, Mr. Owen Harris    male  22.0      1   \n",
      "1  Cumings, Mrs. John Bradley (Florence Briggs Th...  female  38.0      1   \n",
      "2                             Heikkinen, Miss. Laina  female  26.0      0   \n",
      "3       Futrelle, Mrs. Jacques Heath (Lily May Peel)  female  35.0      1   \n",
      "4                           Allen, Mr. William Henry    male  35.0      0   \n",
      "\n",
      "   Parch            Ticket     Fare Cabin Embarked  \n",
      "0      0         A/5 21171   7.2500   NaN        S  \n",
      "1      0          PC 17599  71.2833   C85        C  \n",
      "2      0  STON/O2. 3101282   7.9250   NaN        S  \n",
      "3      0            113803  53.1000  C123        S  \n",
      "4      0            373450   8.0500   NaN        S  \n"
     ]
    }
   ],
   "source": [
    "print(train.head())"
   ]
  },
  {
   "cell_type": "code",
   "execution_count": 4,
   "id": "7b5d134b",
   "metadata": {},
   "outputs": [
    {
     "name": "stdout",
     "output_type": "stream",
     "text": [
      "<class 'pandas.core.frame.DataFrame'>\n",
      "RangeIndex: 891 entries, 0 to 890\n",
      "Data columns (total 12 columns):\n",
      " #   Column       Non-Null Count  Dtype  \n",
      "---  ------       --------------  -----  \n",
      " 0   PassengerId  891 non-null    int64  \n",
      " 1   Survived     891 non-null    int64  \n",
      " 2   Pclass       891 non-null    int64  \n",
      " 3   Name         891 non-null    object \n",
      " 4   Sex          891 non-null    object \n",
      " 5   Age          714 non-null    float64\n",
      " 6   SibSp        891 non-null    int64  \n",
      " 7   Parch        891 non-null    int64  \n",
      " 8   Ticket       891 non-null    object \n",
      " 9   Fare         891 non-null    float64\n",
      " 10  Cabin        204 non-null    object \n",
      " 11  Embarked     889 non-null    object \n",
      "dtypes: float64(2), int64(5), object(5)\n",
      "memory usage: 83.7+ KB\n",
      "None\n"
     ]
    }
   ],
   "source": [
    "print(train.info())"
   ]
  },
  {
   "cell_type": "markdown",
   "id": "77f2e4ed",
   "metadata": {},
   "source": [
    "##### Explore missing data "
   ]
  },
  {
   "cell_type": "code",
   "execution_count": 5,
   "id": "c659af0a",
   "metadata": {},
   "outputs": [
    {
     "name": "stdout",
     "output_type": "stream",
     "text": [
      "PassengerId      0\n",
      "Survived         0\n",
      "Pclass           0\n",
      "Name             0\n",
      "Sex              0\n",
      "Age            177\n",
      "SibSp            0\n",
      "Parch            0\n",
      "Ticket           0\n",
      "Fare             0\n",
      "Cabin          687\n",
      "Embarked         2\n",
      "dtype: int64\n"
     ]
    }
   ],
   "source": [
    "print(train.isna().sum())"
   ]
  },
  {
   "cell_type": "markdown",
   "id": "bd5b8051",
   "metadata": {},
   "source": [
    "##### Missing data in Age"
   ]
  },
  {
   "cell_type": "code",
   "execution_count": 6,
   "id": "2b6c177d",
   "metadata": {},
   "outputs": [
    {
     "name": "stdout",
     "output_type": "stream",
     "text": [
      "     PassengerId  Survived  Pclass                                      Name  \\\n",
      "5              6         0       3                          Moran, Mr. James   \n",
      "17            18         1       2              Williams, Mr. Charles Eugene   \n",
      "19            20         1       3                   Masselmani, Mrs. Fatima   \n",
      "26            27         0       3                   Emir, Mr. Farred Chehab   \n",
      "28            29         1       3             O'Dwyer, Miss. Ellen \"Nellie\"   \n",
      "..           ...       ...     ...                                       ...   \n",
      "859          860         0       3                          Razi, Mr. Raihed   \n",
      "863          864         0       3         Sage, Miss. Dorothy Edith \"Dolly\"   \n",
      "868          869         0       3               van Melkebeke, Mr. Philemon   \n",
      "878          879         0       3                        Laleff, Mr. Kristo   \n",
      "888          889         0       3  Johnston, Miss. Catherine Helen \"Carrie\"   \n",
      "\n",
      "        Sex  Age  SibSp  Parch      Ticket     Fare Cabin Embarked  \n",
      "5      male  NaN      0      0      330877   8.4583   NaN        Q  \n",
      "17     male  NaN      0      0      244373  13.0000   NaN        S  \n",
      "19   female  NaN      0      0        2649   7.2250   NaN        C  \n",
      "26     male  NaN      0      0        2631   7.2250   NaN        C  \n",
      "28   female  NaN      0      0      330959   7.8792   NaN        Q  \n",
      "..      ...  ...    ...    ...         ...      ...   ...      ...  \n",
      "859    male  NaN      0      0        2629   7.2292   NaN        C  \n",
      "863  female  NaN      8      2    CA. 2343  69.5500   NaN        S  \n",
      "868    male  NaN      0      0      345777   9.5000   NaN        S  \n",
      "878    male  NaN      0      0      349217   7.8958   NaN        S  \n",
      "888  female  NaN      1      2  W./C. 6607  23.4500   NaN        S  \n",
      "\n",
      "[177 rows x 12 columns]\n"
     ]
    }
   ],
   "source": [
    "train_missing_age = train[train['Age'].isna()]\n",
    "print(train_missing_age)"
   ]
  },
  {
   "cell_type": "markdown",
   "id": "9daa3a58",
   "metadata": {},
   "source": [
    "##### Missing data in Cabin"
   ]
  },
  {
   "cell_type": "code",
   "execution_count": 7,
   "id": "f7ce64cf",
   "metadata": {},
   "outputs": [
    {
     "name": "stdout",
     "output_type": "stream",
     "text": [
      "     PassengerId  Survived  Pclass                                      Name  \\\n",
      "0              1         0       3                   Braund, Mr. Owen Harris   \n",
      "2              3         1       3                    Heikkinen, Miss. Laina   \n",
      "4              5         0       3                  Allen, Mr. William Henry   \n",
      "5              6         0       3                          Moran, Mr. James   \n",
      "7              8         0       3            Palsson, Master. Gosta Leonard   \n",
      "..           ...       ...     ...                                       ...   \n",
      "884          885         0       3                    Sutehall, Mr. Henry Jr   \n",
      "885          886         0       3      Rice, Mrs. William (Margaret Norton)   \n",
      "886          887         0       2                     Montvila, Rev. Juozas   \n",
      "888          889         0       3  Johnston, Miss. Catherine Helen \"Carrie\"   \n",
      "890          891         0       3                       Dooley, Mr. Patrick   \n",
      "\n",
      "        Sex   Age  SibSp  Parch            Ticket     Fare Cabin Embarked  \n",
      "0      male  22.0      1      0         A/5 21171   7.2500   NaN        S  \n",
      "2    female  26.0      0      0  STON/O2. 3101282   7.9250   NaN        S  \n",
      "4      male  35.0      0      0            373450   8.0500   NaN        S  \n",
      "5      male   NaN      0      0            330877   8.4583   NaN        Q  \n",
      "7      male   2.0      3      1            349909  21.0750   NaN        S  \n",
      "..      ...   ...    ...    ...               ...      ...   ...      ...  \n",
      "884    male  25.0      0      0   SOTON/OQ 392076   7.0500   NaN        S  \n",
      "885  female  39.0      0      5            382652  29.1250   NaN        Q  \n",
      "886    male  27.0      0      0            211536  13.0000   NaN        S  \n",
      "888  female   NaN      1      2        W./C. 6607  23.4500   NaN        S  \n",
      "890    male  32.0      0      0            370376   7.7500   NaN        Q  \n",
      "\n",
      "[687 rows x 12 columns]\n"
     ]
    }
   ],
   "source": [
    "train_missing_cabin = train[train['Cabin'].isna()]\n",
    "print(train_missing_cabin)"
   ]
  },
  {
   "cell_type": "markdown",
   "id": "0fe2e0b2",
   "metadata": {},
   "source": [
    "##### Missing data in Cabin grouped by Pclass"
   ]
  },
  {
   "cell_type": "code",
   "execution_count": 8,
   "id": "2cefe582",
   "metadata": {},
   "outputs": [
    {
     "name": "stdout",
     "output_type": "stream",
     "text": [
      "Pclass\n",
      "1     40\n",
      "2    168\n",
      "3    479\n",
      "Name: PassengerId, dtype: int64\n"
     ]
    }
   ],
   "source": [
    "print(train_missing_cabin.groupby(['Pclass']).count()['PassengerId'])"
   ]
  },
  {
   "cell_type": "markdown",
   "id": "ae325105",
   "metadata": {},
   "source": [
    "It seems that a missing value in Cabin number is correlated with Pclass as it occurs more often for Pclass 3 and 2."
   ]
  },
  {
   "cell_type": "markdown",
   "id": "151c0232",
   "metadata": {},
   "source": [
    "##### Missing data in Cabin and survival"
   ]
  },
  {
   "cell_type": "code",
   "execution_count": 9,
   "id": "47d8de5a",
   "metadata": {},
   "outputs": [
    {
     "name": "stdout",
     "output_type": "stream",
     "text": [
      "Survived\n",
      "0    481\n",
      "1    206\n",
      "Name: PassengerId, dtype: int64\n"
     ]
    }
   ],
   "source": [
    "print(train_missing_cabin.groupby(['Survived']).count()['PassengerId'])"
   ]
  },
  {
   "cell_type": "markdown",
   "id": "c9e7e44f",
   "metadata": {},
   "source": [
    "### 3.2 Test set"
   ]
  },
  {
   "cell_type": "code",
   "execution_count": 10,
   "id": "98e79137",
   "metadata": {},
   "outputs": [
    {
     "name": "stdout",
     "output_type": "stream",
     "text": [
      "   PassengerId  Pclass                                          Name     Sex  \\\n",
      "0          892       3                              Kelly, Mr. James    male   \n",
      "1          893       3              Wilkes, Mrs. James (Ellen Needs)  female   \n",
      "2          894       2                     Myles, Mr. Thomas Francis    male   \n",
      "3          895       3                              Wirz, Mr. Albert    male   \n",
      "4          896       3  Hirvonen, Mrs. Alexander (Helga E Lindqvist)  female   \n",
      "\n",
      "    Age  SibSp  Parch   Ticket     Fare Cabin Embarked  \n",
      "0  34.5      0      0   330911   7.8292   NaN        Q  \n",
      "1  47.0      1      0   363272   7.0000   NaN        S  \n",
      "2  62.0      0      0   240276   9.6875   NaN        Q  \n",
      "3  27.0      0      0   315154   8.6625   NaN        S  \n",
      "4  22.0      1      1  3101298  12.2875   NaN        S  \n"
     ]
    }
   ],
   "source": [
    "print(test.head())"
   ]
  },
  {
   "cell_type": "code",
   "execution_count": 11,
   "id": "ae64f8a9",
   "metadata": {},
   "outputs": [
    {
     "name": "stdout",
     "output_type": "stream",
     "text": [
      "<class 'pandas.core.frame.DataFrame'>\n",
      "RangeIndex: 418 entries, 0 to 417\n",
      "Data columns (total 11 columns):\n",
      " #   Column       Non-Null Count  Dtype  \n",
      "---  ------       --------------  -----  \n",
      " 0   PassengerId  418 non-null    int64  \n",
      " 1   Pclass       418 non-null    int64  \n",
      " 2   Name         418 non-null    object \n",
      " 3   Sex          418 non-null    object \n",
      " 4   Age          332 non-null    float64\n",
      " 5   SibSp        418 non-null    int64  \n",
      " 6   Parch        418 non-null    int64  \n",
      " 7   Ticket       418 non-null    object \n",
      " 8   Fare         417 non-null    float64\n",
      " 9   Cabin        91 non-null     object \n",
      " 10  Embarked     418 non-null    object \n",
      "dtypes: float64(2), int64(4), object(5)\n",
      "memory usage: 36.0+ KB\n",
      "None\n"
     ]
    }
   ],
   "source": [
    "print(test.info())"
   ]
  },
  {
   "cell_type": "code",
   "execution_count": 12,
   "id": "76f0907b",
   "metadata": {},
   "outputs": [
    {
     "name": "stdout",
     "output_type": "stream",
     "text": [
      "PassengerId      0\n",
      "Pclass           0\n",
      "Name             0\n",
      "Sex              0\n",
      "Age             86\n",
      "SibSp            0\n",
      "Parch            0\n",
      "Ticket           0\n",
      "Fare             1\n",
      "Cabin          327\n",
      "Embarked         0\n",
      "dtype: int64\n"
     ]
    }
   ],
   "source": [
    "print(test.isna().sum())"
   ]
  },
  {
   "cell_type": "markdown",
   "id": "160a5d2e",
   "metadata": {},
   "source": [
    "## 4. Preprocessing"
   ]
  },
  {
   "cell_type": "markdown",
   "id": "e9c16898",
   "metadata": {},
   "source": [
    "### 4.1 Feature Engineering"
   ]
  },
  {
   "cell_type": "code",
   "execution_count": 13,
   "id": "dcbe1c10",
   "metadata": {},
   "outputs": [],
   "source": [
    "def drop_columns(df_list, col_list):\n",
    "    for df in df_list:\n",
    "        print(f'drop {col_list} from {df.to_string}')\n",
    "        df.drop(columns=col_list, inplace=True)"
   ]
  },
  {
   "cell_type": "markdown",
   "id": "83b75d00",
   "metadata": {},
   "source": [
    "#### 4.1.1 Drop unnecessary columns on Training set"
   ]
  },
  {
   "cell_type": "code",
   "execution_count": 14,
   "id": "33d10c8d",
   "metadata": {},
   "outputs": [
    {
     "name": "stdout",
     "output_type": "stream",
     "text": [
      "0             A/5 21171\n",
      "1              PC 17599\n",
      "2      STON/O2. 3101282\n",
      "3                113803\n",
      "4                373450\n",
      "             ...       \n",
      "886              211536\n",
      "887              112053\n",
      "888          W./C. 6607\n",
      "889              111369\n",
      "890              370376\n",
      "Name: Ticket, Length: 891, dtype: object\n",
      "681\n"
     ]
    }
   ],
   "source": [
    "print(train['Ticket'])\n",
    "print(train['Ticket'].nunique())"
   ]
  },
  {
   "cell_type": "markdown",
   "id": "1225fc94",
   "metadata": {},
   "source": [
    "Drop PassengerId, Name, Ticket and Embarked as these features don't supply useful information for the prediction of survival."
   ]
  },
  {
   "cell_type": "code",
   "execution_count": 15,
   "id": "73071f7c",
   "metadata": {},
   "outputs": [
    {
     "name": "stdout",
     "output_type": "stream",
     "text": [
      "drop ['PassengerId', 'Name', 'Ticket', 'Embarked'] from <bound method DataFrame.to_string of      PassengerId  Survived  Pclass  \\\n",
      "0              1         0       3   \n",
      "1              2         1       1   \n",
      "2              3         1       3   \n",
      "3              4         1       1   \n",
      "4              5         0       3   \n",
      "..           ...       ...     ...   \n",
      "886          887         0       2   \n",
      "887          888         1       1   \n",
      "888          889         0       3   \n",
      "889          890         1       1   \n",
      "890          891         0       3   \n",
      "\n",
      "                                                  Name     Sex   Age  SibSp  \\\n",
      "0                              Braund, Mr. Owen Harris    male  22.0      1   \n",
      "1    Cumings, Mrs. John Bradley (Florence Briggs Th...  female  38.0      1   \n",
      "2                               Heikkinen, Miss. Laina  female  26.0      0   \n",
      "3         Futrelle, Mrs. Jacques Heath (Lily May Peel)  female  35.0      1   \n",
      "4                             Allen, Mr. William Henry    male  35.0      0   \n",
      "..                                                 ...     ...   ...    ...   \n",
      "886                              Montvila, Rev. Juozas    male  27.0      0   \n",
      "887                       Graham, Miss. Margaret Edith  female  19.0      0   \n",
      "888           Johnston, Miss. Catherine Helen \"Carrie\"  female   NaN      1   \n",
      "889                              Behr, Mr. Karl Howell    male  26.0      0   \n",
      "890                                Dooley, Mr. Patrick    male  32.0      0   \n",
      "\n",
      "     Parch            Ticket     Fare Cabin Embarked  \n",
      "0        0         A/5 21171   7.2500   NaN        S  \n",
      "1        0          PC 17599  71.2833   C85        C  \n",
      "2        0  STON/O2. 3101282   7.9250   NaN        S  \n",
      "3        0            113803  53.1000  C123        S  \n",
      "4        0            373450   8.0500   NaN        S  \n",
      "..     ...               ...      ...   ...      ...  \n",
      "886      0            211536  13.0000   NaN        S  \n",
      "887      0            112053  30.0000   B42        S  \n",
      "888      2        W./C. 6607  23.4500   NaN        S  \n",
      "889      0            111369  30.0000  C148        C  \n",
      "890      0            370376   7.7500   NaN        Q  \n",
      "\n",
      "[891 rows x 12 columns]>\n"
     ]
    }
   ],
   "source": [
    "drop_columns([train], ['PassengerId', 'Name', 'Ticket', 'Embarked'])"
   ]
  },
  {
   "cell_type": "markdown",
   "id": "293984b8",
   "metadata": {},
   "source": [
    "#### 4.1.2 Drop unnecessary columns on Test set"
   ]
  },
  {
   "cell_type": "markdown",
   "id": "97babbfa",
   "metadata": {},
   "source": [
    "For the test set we keep the PassengerId, as we need it for the construction of the result dataframe containing the predictions for survival of a passenger made by the model."
   ]
  },
  {
   "cell_type": "code",
   "execution_count": 16,
   "id": "cdb1f8b1",
   "metadata": {},
   "outputs": [
    {
     "name": "stdout",
     "output_type": "stream",
     "text": [
      "drop ['Name', 'Ticket', 'Embarked'] from <bound method DataFrame.to_string of      PassengerId  Pclass                                          Name  \\\n",
      "0            892       3                              Kelly, Mr. James   \n",
      "1            893       3              Wilkes, Mrs. James (Ellen Needs)   \n",
      "2            894       2                     Myles, Mr. Thomas Francis   \n",
      "3            895       3                              Wirz, Mr. Albert   \n",
      "4            896       3  Hirvonen, Mrs. Alexander (Helga E Lindqvist)   \n",
      "..           ...     ...                                           ...   \n",
      "413         1305       3                            Spector, Mr. Woolf   \n",
      "414         1306       1                  Oliva y Ocana, Dona. Fermina   \n",
      "415         1307       3                  Saether, Mr. Simon Sivertsen   \n",
      "416         1308       3                           Ware, Mr. Frederick   \n",
      "417         1309       3                      Peter, Master. Michael J   \n",
      "\n",
      "        Sex   Age  SibSp  Parch              Ticket      Fare Cabin Embarked  \n",
      "0      male  34.5      0      0              330911    7.8292   NaN        Q  \n",
      "1    female  47.0      1      0              363272    7.0000   NaN        S  \n",
      "2      male  62.0      0      0              240276    9.6875   NaN        Q  \n",
      "3      male  27.0      0      0              315154    8.6625   NaN        S  \n",
      "4    female  22.0      1      1             3101298   12.2875   NaN        S  \n",
      "..      ...   ...    ...    ...                 ...       ...   ...      ...  \n",
      "413    male   NaN      0      0           A.5. 3236    8.0500   NaN        S  \n",
      "414  female  39.0      0      0            PC 17758  108.9000  C105        C  \n",
      "415    male  38.5      0      0  SOTON/O.Q. 3101262    7.2500   NaN        S  \n",
      "416    male   NaN      0      0              359309    8.0500   NaN        S  \n",
      "417    male   NaN      1      1                2668   22.3583   NaN        C  \n",
      "\n",
      "[418 rows x 11 columns]>\n"
     ]
    }
   ],
   "source": [
    "drop_columns([test], ['Name', 'Ticket', 'Embarked'])"
   ]
  },
  {
   "cell_type": "markdown",
   "id": "fc7d2509",
   "metadata": {},
   "source": [
    "#### 4.1.3 Cabin - Add a new column Cabin_Prefix to Training Set and Test Set"
   ]
  },
  {
   "cell_type": "code",
   "execution_count": 17,
   "id": "79eb3589",
   "metadata": {},
   "outputs": [],
   "source": [
    "def insert_cabin_prefix(*df_list):\n",
    "    for df in df_list:\n",
    "        print(len(df.columns))\n",
    "        #df.insert(len(df.columns), 'Cabin_Prefix', [get_cabin_prefix(val) for val in df['Cabin']])\n",
    "        df.insert(len(df.columns), 'Cabin_Prefix', df['Cabin'].apply(lambda s: s[0] if isinstance(s, str) and len(s) > 0 else '_'))\n",
    "        print(len(df.columns))\n",
    "        print(df)"
   ]
  },
  {
   "cell_type": "code",
   "execution_count": 18,
   "id": "a2c3b87f",
   "metadata": {},
   "outputs": [
    {
     "name": "stdout",
     "output_type": "stream",
     "text": [
      "8\n",
      "9\n",
      "     Survived  Pclass     Sex   Age  SibSp  Parch     Fare Cabin Cabin_Prefix\n",
      "0           0       3    male  22.0      1      0   7.2500   NaN            _\n",
      "1           1       1  female  38.0      1      0  71.2833   C85            C\n",
      "2           1       3  female  26.0      0      0   7.9250   NaN            _\n",
      "3           1       1  female  35.0      1      0  53.1000  C123            C\n",
      "4           0       3    male  35.0      0      0   8.0500   NaN            _\n",
      "..        ...     ...     ...   ...    ...    ...      ...   ...          ...\n",
      "886         0       2    male  27.0      0      0  13.0000   NaN            _\n",
      "887         1       1  female  19.0      0      0  30.0000   B42            B\n",
      "888         0       3  female   NaN      1      2  23.4500   NaN            _\n",
      "889         1       1    male  26.0      0      0  30.0000  C148            C\n",
      "890         0       3    male  32.0      0      0   7.7500   NaN            _\n",
      "\n",
      "[891 rows x 9 columns]\n",
      "8\n",
      "9\n",
      "     PassengerId  Pclass     Sex   Age  SibSp  Parch      Fare Cabin  \\\n",
      "0            892       3    male  34.5      0      0    7.8292   NaN   \n",
      "1            893       3  female  47.0      1      0    7.0000   NaN   \n",
      "2            894       2    male  62.0      0      0    9.6875   NaN   \n",
      "3            895       3    male  27.0      0      0    8.6625   NaN   \n",
      "4            896       3  female  22.0      1      1   12.2875   NaN   \n",
      "..           ...     ...     ...   ...    ...    ...       ...   ...   \n",
      "413         1305       3    male   NaN      0      0    8.0500   NaN   \n",
      "414         1306       1  female  39.0      0      0  108.9000  C105   \n",
      "415         1307       3    male  38.5      0      0    7.2500   NaN   \n",
      "416         1308       3    male   NaN      0      0    8.0500   NaN   \n",
      "417         1309       3    male   NaN      1      1   22.3583   NaN   \n",
      "\n",
      "    Cabin_Prefix  \n",
      "0              _  \n",
      "1              _  \n",
      "2              _  \n",
      "3              _  \n",
      "4              _  \n",
      "..           ...  \n",
      "413            _  \n",
      "414            C  \n",
      "415            _  \n",
      "416            _  \n",
      "417            _  \n",
      "\n",
      "[418 rows x 9 columns]\n"
     ]
    }
   ],
   "source": [
    "insert_cabin_prefix(train, test)"
   ]
  },
  {
   "cell_type": "code",
   "execution_count": 19,
   "id": "b81f9d4e",
   "metadata": {},
   "outputs": [
    {
     "name": "stdout",
     "output_type": "stream",
     "text": [
      "Cabin_Prefix\n",
      "A     15\n",
      "B     47\n",
      "C     59\n",
      "D     33\n",
      "E     32\n",
      "F     13\n",
      "G      4\n",
      "T      1\n",
      "_    687\n",
      "Name: Pclass, dtype: int64\n"
     ]
    }
   ],
   "source": [
    "print(train.groupby('Cabin_Prefix').count()['Pclass'])"
   ]
  },
  {
   "cell_type": "markdown",
   "id": "762e406e",
   "metadata": {},
   "source": [
    "#### 4.1.4 Cabin - Drop column Cabin"
   ]
  },
  {
   "cell_type": "code",
   "execution_count": 20,
   "id": "1c85e0f2",
   "metadata": {},
   "outputs": [
    {
     "name": "stdout",
     "output_type": "stream",
     "text": [
      "drop ['Cabin'] from <bound method DataFrame.to_string of      Survived  Pclass     Sex   Age  SibSp  Parch     Fare Cabin Cabin_Prefix\n",
      "0           0       3    male  22.0      1      0   7.2500   NaN            _\n",
      "1           1       1  female  38.0      1      0  71.2833   C85            C\n",
      "2           1       3  female  26.0      0      0   7.9250   NaN            _\n",
      "3           1       1  female  35.0      1      0  53.1000  C123            C\n",
      "4           0       3    male  35.0      0      0   8.0500   NaN            _\n",
      "..        ...     ...     ...   ...    ...    ...      ...   ...          ...\n",
      "886         0       2    male  27.0      0      0  13.0000   NaN            _\n",
      "887         1       1  female  19.0      0      0  30.0000   B42            B\n",
      "888         0       3  female   NaN      1      2  23.4500   NaN            _\n",
      "889         1       1    male  26.0      0      0  30.0000  C148            C\n",
      "890         0       3    male  32.0      0      0   7.7500   NaN            _\n",
      "\n",
      "[891 rows x 9 columns]>\n",
      "drop ['Cabin'] from <bound method DataFrame.to_string of      PassengerId  Pclass     Sex   Age  SibSp  Parch      Fare Cabin  \\\n",
      "0            892       3    male  34.5      0      0    7.8292   NaN   \n",
      "1            893       3  female  47.0      1      0    7.0000   NaN   \n",
      "2            894       2    male  62.0      0      0    9.6875   NaN   \n",
      "3            895       3    male  27.0      0      0    8.6625   NaN   \n",
      "4            896       3  female  22.0      1      1   12.2875   NaN   \n",
      "..           ...     ...     ...   ...    ...    ...       ...   ...   \n",
      "413         1305       3    male   NaN      0      0    8.0500   NaN   \n",
      "414         1306       1  female  39.0      0      0  108.9000  C105   \n",
      "415         1307       3    male  38.5      0      0    7.2500   NaN   \n",
      "416         1308       3    male   NaN      0      0    8.0500   NaN   \n",
      "417         1309       3    male   NaN      1      1   22.3583   NaN   \n",
      "\n",
      "    Cabin_Prefix  \n",
      "0              _  \n",
      "1              _  \n",
      "2              _  \n",
      "3              _  \n",
      "4              _  \n",
      "..           ...  \n",
      "413            _  \n",
      "414            C  \n",
      "415            _  \n",
      "416            _  \n",
      "417            _  \n",
      "\n",
      "[418 rows x 9 columns]>\n"
     ]
    }
   ],
   "source": [
    "drop_columns([train, test], ['Cabin'])"
   ]
  },
  {
   "cell_type": "code",
   "execution_count": 21,
   "id": "575fdc90",
   "metadata": {},
   "outputs": [
    {
     "name": "stdout",
     "output_type": "stream",
     "text": [
      "   Survived  Pclass     Sex   Age  SibSp  Parch     Fare Cabin_Prefix\n",
      "0         0       3    male  22.0      1      0   7.2500            _\n",
      "1         1       1  female  38.0      1      0  71.2833            C\n",
      "2         1       3  female  26.0      0      0   7.9250            _\n",
      "3         1       1  female  35.0      1      0  53.1000            C\n",
      "4         0       3    male  35.0      0      0   8.0500            _\n",
      "   PassengerId  Pclass     Sex   Age  SibSp  Parch     Fare Cabin_Prefix\n",
      "0          892       3    male  34.5      0      0   7.8292            _\n",
      "1          893       3  female  47.0      1      0   7.0000            _\n",
      "2          894       2    male  62.0      0      0   9.6875            _\n",
      "3          895       3    male  27.0      0      0   8.6625            _\n",
      "4          896       3  female  22.0      1      1  12.2875            _\n"
     ]
    }
   ],
   "source": [
    "print(train.head())\n",
    "print(test.head())"
   ]
  },
  {
   "cell_type": "markdown",
   "id": "6086572a",
   "metadata": {},
   "source": [
    "#### 4.1.5 Identify childs and add a new feature Person (with values male - female - child)"
   ]
  },
  {
   "cell_type": "code",
   "execution_count": 22,
   "id": "e5740396",
   "metadata": {},
   "outputs": [],
   "source": [
    "def male_female_child(passenger):\n",
    "    age, sex = passenger\n",
    "    if age < 16:\n",
    "        return \"child\"\n",
    "    else:\n",
    "        return sex"
   ]
  },
  {
   "cell_type": "code",
   "execution_count": 23,
   "id": "6d732716",
   "metadata": {},
   "outputs": [],
   "source": [
    "train['Person'] = train[['Age','Sex']].apply(male_female_child,axis=1)\n",
    "test['Person'] = test[['Age','Sex']].apply(male_female_child,axis=1)"
   ]
  },
  {
   "cell_type": "code",
   "execution_count": 24,
   "id": "c892a6d5",
   "metadata": {},
   "outputs": [
    {
     "name": "stdout",
     "output_type": "stream",
     "text": [
      "   Survived  Pclass     Sex   Age  SibSp  Parch     Fare Cabin_Prefix  Person\n",
      "0         0       3    male  22.0      1      0   7.2500            _    male\n",
      "1         1       1  female  38.0      1      0  71.2833            C  female\n",
      "2         1       3  female  26.0      0      0   7.9250            _  female\n",
      "3         1       1  female  35.0      1      0  53.1000            C  female\n",
      "4         0       3    male  35.0      0      0   8.0500            _    male\n",
      "   PassengerId  Pclass     Sex   Age  SibSp  Parch     Fare Cabin_Prefix  \\\n",
      "0          892       3    male  34.5      0      0   7.8292            _   \n",
      "1          893       3  female  47.0      1      0   7.0000            _   \n",
      "2          894       2    male  62.0      0      0   9.6875            _   \n",
      "3          895       3    male  27.0      0      0   8.6625            _   \n",
      "4          896       3  female  22.0      1      1  12.2875            _   \n",
      "\n",
      "   Person  \n",
      "0    male  \n",
      "1  female  \n",
      "2    male  \n",
      "3    male  \n",
      "4  female  \n"
     ]
    }
   ],
   "source": [
    "print(train.head())\n",
    "print(test.head())"
   ]
  },
  {
   "cell_type": "markdown",
   "id": "e77a2096",
   "metadata": {},
   "source": [
    "#### 4.1.6 Identify family size and add a new feature Family_Size"
   ]
  },
  {
   "cell_type": "code",
   "execution_count": 25,
   "id": "c30453d0",
   "metadata": {},
   "outputs": [],
   "source": [
    "train['Family_Size'] = train['SibSp'] + train['Parch']\n",
    "test['Family_Size'] = test['SibSp'] + test['Parch']"
   ]
  },
  {
   "cell_type": "code",
   "execution_count": 26,
   "id": "8e109fb1",
   "metadata": {},
   "outputs": [
    {
     "name": "stdout",
     "output_type": "stream",
     "text": [
      "   Survived  Pclass     Sex   Age  SibSp  Parch     Fare Cabin_Prefix  Person  \\\n",
      "0         0       3    male  22.0      1      0   7.2500            _    male   \n",
      "1         1       1  female  38.0      1      0  71.2833            C  female   \n",
      "2         1       3  female  26.0      0      0   7.9250            _  female   \n",
      "3         1       1  female  35.0      1      0  53.1000            C  female   \n",
      "4         0       3    male  35.0      0      0   8.0500            _    male   \n",
      "\n",
      "   Family_Size  \n",
      "0            1  \n",
      "1            1  \n",
      "2            0  \n",
      "3            1  \n",
      "4            0  \n",
      "   PassengerId  Pclass     Sex   Age  SibSp  Parch     Fare Cabin_Prefix  \\\n",
      "0          892       3    male  34.5      0      0   7.8292            _   \n",
      "1          893       3  female  47.0      1      0   7.0000            _   \n",
      "2          894       2    male  62.0      0      0   9.6875            _   \n",
      "3          895       3    male  27.0      0      0   8.6625            _   \n",
      "4          896       3  female  22.0      1      1  12.2875            _   \n",
      "\n",
      "   Person  Family_Size  \n",
      "0    male            0  \n",
      "1  female            1  \n",
      "2    male            0  \n",
      "3    male            0  \n",
      "4  female            2  \n"
     ]
    }
   ],
   "source": [
    "print(train.head())\n",
    "print(test.head())"
   ]
  },
  {
   "cell_type": "markdown",
   "id": "c387b13a",
   "metadata": {},
   "source": [
    "#### 4.1.6 Remove columns SibSp and Parch"
   ]
  },
  {
   "cell_type": "code",
   "execution_count": 27,
   "id": "ad07171d",
   "metadata": {},
   "outputs": [
    {
     "name": "stdout",
     "output_type": "stream",
     "text": [
      "drop ['SibSp', 'Parch'] from <bound method DataFrame.to_string of      Survived  Pclass     Sex   Age  SibSp  Parch     Fare Cabin_Prefix  \\\n",
      "0           0       3    male  22.0      1      0   7.2500            _   \n",
      "1           1       1  female  38.0      1      0  71.2833            C   \n",
      "2           1       3  female  26.0      0      0   7.9250            _   \n",
      "3           1       1  female  35.0      1      0  53.1000            C   \n",
      "4           0       3    male  35.0      0      0   8.0500            _   \n",
      "..        ...     ...     ...   ...    ...    ...      ...          ...   \n",
      "886         0       2    male  27.0      0      0  13.0000            _   \n",
      "887         1       1  female  19.0      0      0  30.0000            B   \n",
      "888         0       3  female   NaN      1      2  23.4500            _   \n",
      "889         1       1    male  26.0      0      0  30.0000            C   \n",
      "890         0       3    male  32.0      0      0   7.7500            _   \n",
      "\n",
      "     Person  Family_Size  \n",
      "0      male            1  \n",
      "1    female            1  \n",
      "2    female            0  \n",
      "3    female            1  \n",
      "4      male            0  \n",
      "..      ...          ...  \n",
      "886    male            0  \n",
      "887  female            0  \n",
      "888  female            3  \n",
      "889    male            0  \n",
      "890    male            0  \n",
      "\n",
      "[891 rows x 10 columns]>\n",
      "drop ['SibSp', 'Parch'] from <bound method DataFrame.to_string of      PassengerId  Pclass     Sex   Age  SibSp  Parch      Fare Cabin_Prefix  \\\n",
      "0            892       3    male  34.5      0      0    7.8292            _   \n",
      "1            893       3  female  47.0      1      0    7.0000            _   \n",
      "2            894       2    male  62.0      0      0    9.6875            _   \n",
      "3            895       3    male  27.0      0      0    8.6625            _   \n",
      "4            896       3  female  22.0      1      1   12.2875            _   \n",
      "..           ...     ...     ...   ...    ...    ...       ...          ...   \n",
      "413         1305       3    male   NaN      0      0    8.0500            _   \n",
      "414         1306       1  female  39.0      0      0  108.9000            C   \n",
      "415         1307       3    male  38.5      0      0    7.2500            _   \n",
      "416         1308       3    male   NaN      0      0    8.0500            _   \n",
      "417         1309       3    male   NaN      1      1   22.3583            _   \n",
      "\n",
      "     Person  Family_Size  \n",
      "0      male            0  \n",
      "1    female            1  \n",
      "2      male            0  \n",
      "3      male            0  \n",
      "4    female            2  \n",
      "..      ...          ...  \n",
      "413    male            0  \n",
      "414  female            0  \n",
      "415    male            0  \n",
      "416    male            0  \n",
      "417    male            2  \n",
      "\n",
      "[418 rows x 10 columns]>\n"
     ]
    }
   ],
   "source": [
    "drop_columns([train, test], ['SibSp', 'Parch'])"
   ]
  },
  {
   "cell_type": "markdown",
   "id": "8dbcb0be",
   "metadata": {},
   "source": [
    "#### 4.1.7 Remove column Sex"
   ]
  },
  {
   "cell_type": "code",
   "execution_count": 28,
   "id": "7d4737f9",
   "metadata": {},
   "outputs": [
    {
     "name": "stdout",
     "output_type": "stream",
     "text": [
      "drop ['Sex'] from <bound method DataFrame.to_string of      Survived  Pclass     Sex   Age     Fare Cabin_Prefix  Person  Family_Size\n",
      "0           0       3    male  22.0   7.2500            _    male            1\n",
      "1           1       1  female  38.0  71.2833            C  female            1\n",
      "2           1       3  female  26.0   7.9250            _  female            0\n",
      "3           1       1  female  35.0  53.1000            C  female            1\n",
      "4           0       3    male  35.0   8.0500            _    male            0\n",
      "..        ...     ...     ...   ...      ...          ...     ...          ...\n",
      "886         0       2    male  27.0  13.0000            _    male            0\n",
      "887         1       1  female  19.0  30.0000            B  female            0\n",
      "888         0       3  female   NaN  23.4500            _  female            3\n",
      "889         1       1    male  26.0  30.0000            C    male            0\n",
      "890         0       3    male  32.0   7.7500            _    male            0\n",
      "\n",
      "[891 rows x 8 columns]>\n",
      "drop ['Sex'] from <bound method DataFrame.to_string of      PassengerId  Pclass     Sex   Age      Fare Cabin_Prefix  Person  \\\n",
      "0            892       3    male  34.5    7.8292            _    male   \n",
      "1            893       3  female  47.0    7.0000            _  female   \n",
      "2            894       2    male  62.0    9.6875            _    male   \n",
      "3            895       3    male  27.0    8.6625            _    male   \n",
      "4            896       3  female  22.0   12.2875            _  female   \n",
      "..           ...     ...     ...   ...       ...          ...     ...   \n",
      "413         1305       3    male   NaN    8.0500            _    male   \n",
      "414         1306       1  female  39.0  108.9000            C  female   \n",
      "415         1307       3    male  38.5    7.2500            _    male   \n",
      "416         1308       3    male   NaN    8.0500            _    male   \n",
      "417         1309       3    male   NaN   22.3583            _    male   \n",
      "\n",
      "     Family_Size  \n",
      "0              0  \n",
      "1              1  \n",
      "2              0  \n",
      "3              0  \n",
      "4              2  \n",
      "..           ...  \n",
      "413            0  \n",
      "414            0  \n",
      "415            0  \n",
      "416            0  \n",
      "417            2  \n",
      "\n",
      "[418 rows x 8 columns]>\n"
     ]
    }
   ],
   "source": [
    "drop_columns([train, test], ['Sex'])"
   ]
  },
  {
   "cell_type": "markdown",
   "id": "7d58fbf7",
   "metadata": {},
   "source": [
    "#### 4.1.8 Reorder columns"
   ]
  },
  {
   "cell_type": "code",
   "execution_count": 29,
   "id": "a623c1c7",
   "metadata": {},
   "outputs": [
    {
     "name": "stdout",
     "output_type": "stream",
     "text": [
      "<class 'pandas.core.frame.DataFrame'>\n",
      "RangeIndex: 891 entries, 0 to 890\n",
      "Data columns (total 7 columns):\n",
      " #   Column        Non-Null Count  Dtype  \n",
      "---  ------        --------------  -----  \n",
      " 0   Survived      891 non-null    int64  \n",
      " 1   Pclass        891 non-null    int64  \n",
      " 2   Age           714 non-null    float64\n",
      " 3   Fare          891 non-null    float64\n",
      " 4   Cabin_Prefix  891 non-null    object \n",
      " 5   Person        891 non-null    object \n",
      " 6   Family_Size   891 non-null    int64  \n",
      "dtypes: float64(2), int64(3), object(2)\n",
      "memory usage: 48.9+ KB\n",
      "None\n"
     ]
    }
   ],
   "source": [
    "print(train.info())"
   ]
  },
  {
   "cell_type": "code",
   "execution_count": 30,
   "id": "48197bae",
   "metadata": {},
   "outputs": [
    {
     "name": "stdout",
     "output_type": "stream",
     "text": [
      "<class 'pandas.core.frame.DataFrame'>\n",
      "RangeIndex: 418 entries, 0 to 417\n",
      "Data columns (total 7 columns):\n",
      " #   Column        Non-Null Count  Dtype  \n",
      "---  ------        --------------  -----  \n",
      " 0   PassengerId   418 non-null    int64  \n",
      " 1   Pclass        418 non-null    int64  \n",
      " 2   Age           332 non-null    float64\n",
      " 3   Fare          417 non-null    float64\n",
      " 4   Cabin_Prefix  418 non-null    object \n",
      " 5   Person        418 non-null    object \n",
      " 6   Family_Size   418 non-null    int64  \n",
      "dtypes: float64(2), int64(3), object(2)\n",
      "memory usage: 23.0+ KB\n",
      "None\n"
     ]
    }
   ],
   "source": [
    "print(test.info())"
   ]
  },
  {
   "cell_type": "code",
   "execution_count": 31,
   "id": "9855373f",
   "metadata": {},
   "outputs": [],
   "source": [
    "train = train[['Survived', 'Pclass', 'Person', 'Cabin_Prefix', 'Age', 'Fare', 'Family_Size']]\n",
    "test = test[['PassengerId', 'Pclass', 'Person', 'Cabin_Prefix', 'Age', 'Fare', 'Family_Size']]"
   ]
  },
  {
   "cell_type": "code",
   "execution_count": 32,
   "id": "272a41b9",
   "metadata": {},
   "outputs": [
    {
     "name": "stdout",
     "output_type": "stream",
     "text": [
      "<class 'pandas.core.frame.DataFrame'>\n",
      "RangeIndex: 891 entries, 0 to 890\n",
      "Data columns (total 7 columns):\n",
      " #   Column        Non-Null Count  Dtype  \n",
      "---  ------        --------------  -----  \n",
      " 0   Survived      891 non-null    int64  \n",
      " 1   Pclass        891 non-null    int64  \n",
      " 2   Person        891 non-null    object \n",
      " 3   Cabin_Prefix  891 non-null    object \n",
      " 4   Age           714 non-null    float64\n",
      " 5   Fare          891 non-null    float64\n",
      " 6   Family_Size   891 non-null    int64  \n",
      "dtypes: float64(2), int64(3), object(2)\n",
      "memory usage: 48.9+ KB\n",
      "None\n",
      "<class 'pandas.core.frame.DataFrame'>\n",
      "RangeIndex: 418 entries, 0 to 417\n",
      "Data columns (total 7 columns):\n",
      " #   Column        Non-Null Count  Dtype  \n",
      "---  ------        --------------  -----  \n",
      " 0   PassengerId   418 non-null    int64  \n",
      " 1   Pclass        418 non-null    int64  \n",
      " 2   Person        418 non-null    object \n",
      " 3   Cabin_Prefix  418 non-null    object \n",
      " 4   Age           332 non-null    float64\n",
      " 5   Fare          417 non-null    float64\n",
      " 6   Family_Size   418 non-null    int64  \n",
      "dtypes: float64(2), int64(3), object(2)\n",
      "memory usage: 23.0+ KB\n",
      "None\n"
     ]
    }
   ],
   "source": [
    "print(train.info())\n",
    "print(test.info())"
   ]
  },
  {
   "cell_type": "markdown",
   "id": "0c72d896",
   "metadata": {},
   "source": [
    "### 4.2 Splitting the Training set in train and test data"
   ]
  },
  {
   "cell_type": "code",
   "execution_count": 33,
   "id": "0d11b629",
   "metadata": {},
   "outputs": [],
   "source": [
    "train_train, train_test = train_test_split(train, test_size=0.2, random_state=0)"
   ]
  },
  {
   "cell_type": "markdown",
   "id": "f35516a6",
   "metadata": {},
   "source": [
    "### 4.3 Creating X and y for model development"
   ]
  },
  {
   "cell_type": "code",
   "execution_count": 34,
   "id": "adf8a09b",
   "metadata": {},
   "outputs": [
    {
     "data": {
      "text/html": [
       "<div>\n",
       "<style scoped>\n",
       "    .dataframe tbody tr th:only-of-type {\n",
       "        vertical-align: middle;\n",
       "    }\n",
       "\n",
       "    .dataframe tbody tr th {\n",
       "        vertical-align: top;\n",
       "    }\n",
       "\n",
       "    .dataframe thead th {\n",
       "        text-align: right;\n",
       "    }\n",
       "</style>\n",
       "<table border=\"1\" class=\"dataframe\">\n",
       "  <thead>\n",
       "    <tr style=\"text-align: right;\">\n",
       "      <th></th>\n",
       "      <th>Survived</th>\n",
       "      <th>Pclass</th>\n",
       "      <th>Person</th>\n",
       "      <th>Cabin_Prefix</th>\n",
       "      <th>Age</th>\n",
       "      <th>Fare</th>\n",
       "      <th>Family_Size</th>\n",
       "    </tr>\n",
       "  </thead>\n",
       "  <tbody>\n",
       "    <tr>\n",
       "      <th>140</th>\n",
       "      <td>0</td>\n",
       "      <td>3</td>\n",
       "      <td>female</td>\n",
       "      <td>_</td>\n",
       "      <td>NaN</td>\n",
       "      <td>15.2458</td>\n",
       "      <td>2</td>\n",
       "    </tr>\n",
       "    <tr>\n",
       "      <th>439</th>\n",
       "      <td>0</td>\n",
       "      <td>2</td>\n",
       "      <td>male</td>\n",
       "      <td>_</td>\n",
       "      <td>31.0</td>\n",
       "      <td>10.5000</td>\n",
       "      <td>0</td>\n",
       "    </tr>\n",
       "    <tr>\n",
       "      <th>817</th>\n",
       "      <td>0</td>\n",
       "      <td>2</td>\n",
       "      <td>male</td>\n",
       "      <td>_</td>\n",
       "      <td>31.0</td>\n",
       "      <td>37.0042</td>\n",
       "      <td>2</td>\n",
       "    </tr>\n",
       "    <tr>\n",
       "      <th>378</th>\n",
       "      <td>0</td>\n",
       "      <td>3</td>\n",
       "      <td>male</td>\n",
       "      <td>_</td>\n",
       "      <td>20.0</td>\n",
       "      <td>4.0125</td>\n",
       "      <td>0</td>\n",
       "    </tr>\n",
       "    <tr>\n",
       "      <th>491</th>\n",
       "      <td>0</td>\n",
       "      <td>3</td>\n",
       "      <td>male</td>\n",
       "      <td>_</td>\n",
       "      <td>21.0</td>\n",
       "      <td>7.2500</td>\n",
       "      <td>0</td>\n",
       "    </tr>\n",
       "  </tbody>\n",
       "</table>\n",
       "</div>"
      ],
      "text/plain": [
       "     Survived  Pclass  Person Cabin_Prefix   Age     Fare  Family_Size\n",
       "140         0       3  female            _   NaN  15.2458            2\n",
       "439         0       2    male            _  31.0  10.5000            0\n",
       "817         0       2    male            _  31.0  37.0042            2\n",
       "378         0       3    male            _  20.0   4.0125            0\n",
       "491         0       3    male            _  21.0   7.2500            0"
      ]
     },
     "execution_count": 34,
     "metadata": {},
     "output_type": "execute_result"
    }
   ],
   "source": [
    "train_train.head()"
   ]
  },
  {
   "cell_type": "code",
   "execution_count": 35,
   "id": "b3cbc87e",
   "metadata": {},
   "outputs": [],
   "source": [
    "X_train = train_train.iloc[:, 1:].values\n",
    "y_train = train_train.iloc[:, 0].values"
   ]
  },
  {
   "cell_type": "code",
   "execution_count": 36,
   "id": "8a7d60e9",
   "metadata": {},
   "outputs": [
    {
     "name": "stdout",
     "output_type": "stream",
     "text": [
      "[[3 'female' '_' nan 15.2458 2]\n",
      " [2 'male' '_' 31.0 10.5 0]\n",
      " [2 'male' '_' 31.0 37.0042 2]\n",
      " ...\n",
      " [3 'male' '_' nan 7.7333 0]\n",
      " [3 'female' '_' 36.0 17.4 1]\n",
      " [2 'male' '_' 60.0 39.0 2]]\n",
      "[0 0 0 0 0 0 0 1 0 0 1 0 0 1 1 0 0 0 1 1 0 1 0 0 1 1 0 0 0 1 0 0 1 0 0 0 0\n",
      " 0 1 0 1 0 1 1 0 1 0 0 1 1 0 0 1 1 0 0 0 1 1 1 0 0 1 0 0 1 1 0 0 0 1 0 0 0\n",
      " 0 0 0 1 1 1 0 0 0 0 0 0 0 1 0 1 1 0 0 0 1 0 0 0 1 1 0 0 1 0 1 0 0 0 0 0 0\n",
      " 1 0 1 1 1 0 0 0 1 0 1 0 0 1 1 1 0 0 1 0 1 0 0 0 0 1 0 1 0 1 0 1 1 1 0 0 0\n",
      " 0 0 0 1 0 1 0 0 0 1 0 1 0 0 0 1 0 1 1 1 0 0 0 1 1 0 0 1 0 1 0 0 0 0 1 1 1\n",
      " 0 1 0 1 0 1 0 0 1 0 0 0 0 0 1 0 1 0 1 0 0 0 0 0 1 0 0 1 0 0 0 1 0 0 1 0 0\n",
      " 1 0 1 0 0 0 0 1 0 0 0 1 0 0 0 0 0 0 0 0 0 1 1 0 0 0 1 0 0 0 0 1 1 0 1 0 1\n",
      " 0 0 0 1 1 0 0 0 0 0 0 1 0 0 1 1 0 0 0 1 0 1 0 0 1 0 0 1 1 0 0 1 1 1 0 1 0\n",
      " 0 1 0 0 0 0 0 1 0 0 0 1 0 0 1 1 0 0 0 0 0 0 1 0 0 0 0 0 1 0 0 0 1 0 1 0 0\n",
      " 1 0 1 0 1 0 0 0 1 1 1 1 0 0 0 0 0 0 0 1 1 1 0 0 0 1 0 1 1 1 0 0 0 0 1 1 0\n",
      " 0 1 0 1 1 0 0 0 0 1 1 0 1 0 1 0 1 0 0 0 1 0 0 0 1 0 0 0 0 0 1 1 0 0 0 0 1\n",
      " 1 0 0 0 1 0 0 0 1 1 0 0 1 0 0 0 0 0 0 1 1 1 1 1 1 1 1 0 0 0 1 1 0 0 1 1 0\n",
      " 0 0 0 0 0 0 1 1 1 0 0 0 0 1 1 0 0 0 1 0 1 0 1 0 1 1 1 1 0 0 1 0 1 0 0 1 1\n",
      " 1 0 0 0 1 0 0 1 0 0 0 0 0 0 0 0 0 0 0 0 0 0 0 1 1 0 0 0 1 1 0 0 1 1 1 0 0\n",
      " 0 1 0 0 1 0 1 0 1 0 0 1 0 0 0 0 0 1 0 0 0 0 1 1 1 0 0 1 1 1 0 1 1 0 0 0 0\n",
      " 1 0 0 1 1 0 0 0 1 1 0 1 0 1 1 1 0 1 1 1 0 0 0 1 0 0 0 1 0 0 1 0 0 0 1 0 0\n",
      " 1 1 1 0 1 1 0 1 0 1 1 0 0 0 0 0 0 1 1 0 0 0 0 0 1 0 0 0 1 1 1 0 0 1 0 0 0\n",
      " 0 0 1 1 1 0 1 0 0 1 0 0 0 0 0 0 0 0 0 1 1 1 1 1 1 1 0 1 0 1 0 0 1 0 0 1 0\n",
      " 1 0 0 0 1 1 0 0 0 1 1 0 1 1 0 1 0 0 1 1 1 1 0 0 0 1 0 0 0 1 1 0 1 1 1 0 0\n",
      " 1 1 1 1 1 1 0 1 0]\n"
     ]
    }
   ],
   "source": [
    "print(X_train)\n",
    "print(y_train)"
   ]
  },
  {
   "cell_type": "code",
   "execution_count": 37,
   "id": "d2068a8d",
   "metadata": {},
   "outputs": [],
   "source": [
    "X_test = train_test.iloc[:, 1:].values\n",
    "y_test = train_test.iloc[:, 0].values"
   ]
  },
  {
   "cell_type": "code",
   "execution_count": 38,
   "id": "f2e93207",
   "metadata": {},
   "outputs": [
    {
     "name": "stdout",
     "output_type": "stream",
     "text": [
      "[[3 'male' '_' nan 14.4583 0]\n",
      " [3 'male' '_' nan 7.55 0]\n",
      " [3 'child' '_' 7.0 29.125 5]\n",
      " ...\n",
      " [1 'female' 'D' 31.0 113.275 1]\n",
      " [3 'male' '_' 23.0 7.8542 0]\n",
      " [3 'male' '_' 19.0 8.05 0]]\n",
      "[0 0 0 1 1 1 1 1 1 1 0 1 0 1 1 0 0 0 0 1 0 1 0 0 0 1 0 1 1 0 0 1 0 1 0 1 0\n",
      " 0 0 0 1 0 0 0 1 0 0 1 0 0 1 1 1 0 1 0 0 0 0 1 0 0 1 0 1 0 1 0 1 1 1 1 0 0\n",
      " 0 1 0 0 0 0 0 1 0 0 0 1 1 1 1 0 0 0 1 1 0 0 1 0 0 1 0 0 0 0 0 1 1 0 0 1 0\n",
      " 1 1 0 1 1 1 1 0 1 1 0 0 0 0 0 0 1 0 0 0 0 0 0 0 0 0 0 0 0 0 1 0 0 1 0 0 1\n",
      " 1 0 0 1 0 0 1 0 0 1 0 1 0 1 1 1 0 0 0 0 0 0 0 1 0 0 1 0 1 0 0]\n"
     ]
    }
   ],
   "source": [
    "print(X_test)\n",
    "print(y_test)"
   ]
  },
  {
   "cell_type": "markdown",
   "id": "e81a47ba",
   "metadata": {},
   "source": [
    "### 4.4 Creating X as input for prediction"
   ]
  },
  {
   "cell_type": "code",
   "execution_count": 39,
   "id": "26493256",
   "metadata": {},
   "outputs": [
    {
     "name": "stdout",
     "output_type": "stream",
     "text": [
      "   PassengerId  Pclass  Person Cabin_Prefix   Age     Fare  Family_Size\n",
      "0          892       3    male            _  34.5   7.8292            0\n",
      "1          893       3  female            _  47.0   7.0000            1\n",
      "2          894       2    male            _  62.0   9.6875            0\n",
      "3          895       3    male            _  27.0   8.6625            0\n",
      "4          896       3  female            _  22.0  12.2875            2\n"
     ]
    }
   ],
   "source": [
    "print(test.head())"
   ]
  },
  {
   "cell_type": "code",
   "execution_count": 40,
   "id": "71534b34",
   "metadata": {},
   "outputs": [],
   "source": [
    "X_pred = test.iloc[:, 1:].values"
   ]
  },
  {
   "cell_type": "code",
   "execution_count": 41,
   "id": "e518491b",
   "metadata": {},
   "outputs": [
    {
     "name": "stdout",
     "output_type": "stream",
     "text": [
      "[[3 'male' '_' 34.5 7.8292 0]\n",
      " [3 'female' '_' 47.0 7.0 1]\n",
      " [2 'male' '_' 62.0 9.6875 0]\n",
      " ...\n",
      " [3 'male' '_' 38.5 7.25 0]\n",
      " [3 'male' '_' nan 8.05 0]\n",
      " [3 'male' '_' nan 22.3583 2]]\n"
     ]
    }
   ],
   "source": [
    "print(X_pred)"
   ]
  },
  {
   "cell_type": "markdown",
   "id": "e9e95565",
   "metadata": {},
   "source": [
    "### 4.5 Handle missing data "
   ]
  },
  {
   "cell_type": "markdown",
   "id": "3e24461b",
   "metadata": {},
   "source": [
    "#### 4.5.1 Training set (model development)"
   ]
  },
  {
   "cell_type": "code",
   "execution_count": 42,
   "id": "72e2fc62",
   "metadata": {},
   "outputs": [
    {
     "name": "stdout",
     "output_type": "stream",
     "text": [
      "Survived          0\n",
      "Pclass            0\n",
      "Person            0\n",
      "Cabin_Prefix      0\n",
      "Age             141\n",
      "Fare              0\n",
      "Family_Size       0\n",
      "dtype: int64\n"
     ]
    }
   ],
   "source": [
    "print(train_train.isna().sum())"
   ]
  },
  {
   "cell_type": "markdown",
   "id": "9034afd6",
   "metadata": {},
   "source": [
    "##### Calculate treshold for missing values"
   ]
  },
  {
   "cell_type": "code",
   "execution_count": 43,
   "id": "41b38a18",
   "metadata": {},
   "outputs": [
    {
     "name": "stdout",
     "output_type": "stream",
     "text": [
      "35.6\n",
      "712\n"
     ]
    }
   ],
   "source": [
    "treshold = len(train_train) * 0.05\n",
    "print(treshold)\n",
    "print(len(train_train))"
   ]
  },
  {
   "cell_type": "markdown",
   "id": "4ba38545",
   "metadata": {},
   "source": [
    "As it is already obvious, the number of missing values in Age is far above the treshold so we cannot simply drop them. "
   ]
  },
  {
   "cell_type": "markdown",
   "id": "9d4fc5b2",
   "metadata": {},
   "source": [
    "We have now two options: \n",
    "- drop feature Age as there are many missing values in it\n",
    "- handle missing data by imputing mean e.g."
   ]
  },
  {
   "cell_type": "markdown",
   "id": "6df30f14",
   "metadata": {},
   "source": [
    "First we try building the model with feature Age and imputed values. "
   ]
  },
  {
   "cell_type": "markdown",
   "id": "1547f4f9",
   "metadata": {},
   "source": [
    "##### Keep Age and impute missing values"
   ]
  },
  {
   "cell_type": "code",
   "execution_count": 44,
   "id": "bde147bd",
   "metadata": {},
   "outputs": [
    {
     "name": "stdout",
     "output_type": "stream",
     "text": [
      "<class 'pandas.core.frame.DataFrame'>\n",
      "Index: 712 entries, 140 to 684\n",
      "Data columns (total 7 columns):\n",
      " #   Column        Non-Null Count  Dtype  \n",
      "---  ------        --------------  -----  \n",
      " 0   Survived      712 non-null    int64  \n",
      " 1   Pclass        712 non-null    int64  \n",
      " 2   Person        712 non-null    object \n",
      " 3   Cabin_Prefix  712 non-null    object \n",
      " 4   Age           571 non-null    float64\n",
      " 5   Fare          712 non-null    float64\n",
      " 6   Family_Size   712 non-null    int64  \n",
      "dtypes: float64(2), int64(3), object(2)\n",
      "memory usage: 44.5+ KB\n",
      "None\n"
     ]
    }
   ],
   "source": [
    "print(train_train.info())"
   ]
  },
  {
   "cell_type": "code",
   "execution_count": 45,
   "id": "73285c69",
   "metadata": {},
   "outputs": [],
   "source": [
    "imputer = SimpleImputer(missing_values=np.nan, strategy='most_frequent')\n",
    "imputer.fit(np.reshape(X_train[:, 3], (len(X_train[:, 3]), 1)))\n",
    "X_train[:, 3] = imputer.transform(np.reshape(X_train[:, 3], (len(X_train[:, 3]), 1))).reshape(-1)"
   ]
  },
  {
   "cell_type": "code",
   "execution_count": 46,
   "id": "000ee84d",
   "metadata": {},
   "outputs": [
    {
     "name": "stdout",
     "output_type": "stream",
     "text": [
      "[[3 'female' '_' 24.0 15.2458 2]\n",
      " [2 'male' '_' 31.0 10.5 0]\n",
      " [2 'male' '_' 31.0 37.0042 2]\n",
      " ...\n",
      " [3 'male' '_' 24.0 7.7333 0]\n",
      " [3 'female' '_' 36.0 17.4 1]\n",
      " [2 'male' '_' 60.0 39.0 2]]\n"
     ]
    }
   ],
   "source": [
    "print(X_train)"
   ]
  },
  {
   "cell_type": "markdown",
   "id": "ca548c96",
   "metadata": {},
   "source": [
    "#### 4.5.2 Test set (model development)"
   ]
  },
  {
   "cell_type": "code",
   "execution_count": 47,
   "id": "4fa1685f",
   "metadata": {},
   "outputs": [
    {
     "name": "stdout",
     "output_type": "stream",
     "text": [
      "Survived         0\n",
      "Pclass           0\n",
      "Person           0\n",
      "Cabin_Prefix     0\n",
      "Age             36\n",
      "Fare             0\n",
      "Family_Size      0\n",
      "dtype: int64\n"
     ]
    }
   ],
   "source": [
    "print(train_test.isna().sum())"
   ]
  },
  {
   "cell_type": "code",
   "execution_count": 48,
   "id": "f462577b",
   "metadata": {},
   "outputs": [],
   "source": [
    "X_test[:, 3] = imputer.transform(np.reshape(X_test[:, 3], (len(X_test[:, 3]), 1))).reshape(-1)"
   ]
  },
  {
   "cell_type": "code",
   "execution_count": 49,
   "id": "404a3821",
   "metadata": {},
   "outputs": [
    {
     "name": "stdout",
     "output_type": "stream",
     "text": [
      "[[3 'male' '_' 24.0 14.4583 0]\n",
      " [3 'male' '_' 24.0 7.55 0]\n",
      " [3 'child' '_' 7.0 29.125 5]\n",
      " ...\n",
      " [1 'female' 'D' 31.0 113.275 1]\n",
      " [3 'male' '_' 23.0 7.8542 0]\n",
      " [3 'male' '_' 19.0 8.05 0]]\n"
     ]
    }
   ],
   "source": [
    "print(X_test)"
   ]
  },
  {
   "cell_type": "markdown",
   "id": "dcddf240",
   "metadata": {},
   "source": [
    "#### 4.5.3 Test set (test set to predict)"
   ]
  },
  {
   "cell_type": "code",
   "execution_count": 50,
   "id": "3c48c444",
   "metadata": {},
   "outputs": [
    {
     "name": "stdout",
     "output_type": "stream",
     "text": [
      "PassengerId      0\n",
      "Pclass           0\n",
      "Person           0\n",
      "Cabin_Prefix     0\n",
      "Age             86\n",
      "Fare             1\n",
      "Family_Size      0\n",
      "dtype: int64\n"
     ]
    }
   ],
   "source": [
    "print(test.isna().sum())"
   ]
  },
  {
   "cell_type": "markdown",
   "id": "327d55e9",
   "metadata": {},
   "source": [
    "Here we have one additional column with missing values in Fare."
   ]
  },
  {
   "cell_type": "markdown",
   "id": "0c410c6f",
   "metadata": {},
   "source": [
    "##### Calculate treshold for missing values"
   ]
  },
  {
   "cell_type": "code",
   "execution_count": 51,
   "id": "01698014",
   "metadata": {},
   "outputs": [
    {
     "name": "stdout",
     "output_type": "stream",
     "text": [
      "20.900000000000002\n",
      "418\n"
     ]
    }
   ],
   "source": [
    "treshold = len(test) * 0.05\n",
    "print(treshold)\n",
    "print(len(test))"
   ]
  },
  {
   "cell_type": "markdown",
   "id": "b6c2b80e",
   "metadata": {},
   "source": [
    "The missing value in Fare is below the treshold and the observation could be dropped. But as this observation belongs to the test set to predict, we have to deal with it and impute the missing value instead. The missing values in Age are filled by the imputer used for the training set."
   ]
  },
  {
   "cell_type": "markdown",
   "id": "f6c046eb",
   "metadata": {},
   "source": [
    "##### Impute missing values for Age"
   ]
  },
  {
   "cell_type": "code",
   "execution_count": 52,
   "id": "9e7139e8",
   "metadata": {},
   "outputs": [],
   "source": [
    "X_pred[:, 3] = imputer.transform(np.reshape(X_pred[:, 3], (len(X_pred[:, 3]), 1))).reshape(-1)"
   ]
  },
  {
   "cell_type": "code",
   "execution_count": 53,
   "id": "2b091bc9",
   "metadata": {},
   "outputs": [
    {
     "name": "stdout",
     "output_type": "stream",
     "text": [
      "[[3 'male' '_' 34.5 7.8292 0]\n",
      " [3 'female' '_' 47.0 7.0 1]\n",
      " [2 'male' '_' 62.0 9.6875 0]\n",
      " ...\n",
      " [3 'male' '_' 38.5 7.25 0]\n",
      " [3 'male' '_' 24.0 8.05 0]\n",
      " [3 'male' '_' 24.0 22.3583 2]]\n"
     ]
    }
   ],
   "source": [
    "print(X_pred)"
   ]
  },
  {
   "cell_type": "markdown",
   "id": "0b8677f1",
   "metadata": {},
   "source": [
    "##### Impute missing values for Fare"
   ]
  },
  {
   "cell_type": "code",
   "execution_count": 54,
   "id": "95c42931",
   "metadata": {},
   "outputs": [],
   "source": [
    "imputer_fare = SimpleImputer(missing_values=np.nan, strategy='most_frequent')\n",
    "imputer_fare.fit(np.reshape(X_pred[:, 4], (len(X_pred[:, 4]), 1)))\n",
    "X_pred[:, 4] = imputer_fare.transform(np.reshape(X_pred[:, 4], (len(X_pred[:, 4]), 1))).reshape(-1)"
   ]
  },
  {
   "cell_type": "markdown",
   "id": "aa253daa",
   "metadata": {},
   "source": [
    "### 4.6 Encode categorical values"
   ]
  },
  {
   "cell_type": "markdown",
   "id": "12ae374a",
   "metadata": {},
   "source": [
    "#### 4.6.1 Training set (model development)"
   ]
  },
  {
   "cell_type": "code",
   "execution_count": 55,
   "id": "3c1ed06b",
   "metadata": {},
   "outputs": [
    {
     "name": "stdout",
     "output_type": "stream",
     "text": [
      "<class 'pandas.core.frame.DataFrame'>\n",
      "RangeIndex: 891 entries, 0 to 890\n",
      "Data columns (total 7 columns):\n",
      " #   Column        Non-Null Count  Dtype  \n",
      "---  ------        --------------  -----  \n",
      " 0   Survived      891 non-null    int64  \n",
      " 1   Pclass        891 non-null    int64  \n",
      " 2   Person        891 non-null    object \n",
      " 3   Cabin_Prefix  891 non-null    object \n",
      " 4   Age           714 non-null    float64\n",
      " 5   Fare          891 non-null    float64\n",
      " 6   Family_Size   891 non-null    int64  \n",
      "dtypes: float64(2), int64(3), object(2)\n",
      "memory usage: 48.9+ KB\n",
      "None\n"
     ]
    }
   ],
   "source": [
    "print(train.info())"
   ]
  },
  {
   "cell_type": "code",
   "execution_count": 56,
   "id": "72b595d1",
   "metadata": {},
   "outputs": [
    {
     "name": "stdout",
     "output_type": "stream",
     "text": [
      "[[3 'female' '_' 24.0 15.2458 2]\n",
      " [2 'male' '_' 31.0 10.5 0]\n",
      " [2 'male' '_' 31.0 37.0042 2]\n",
      " ...\n",
      " [3 'male' '_' 24.0 7.7333 0]\n",
      " [3 'female' '_' 36.0 17.4 1]\n",
      " [2 'male' '_' 60.0 39.0 2]]\n",
      "(712, 6)\n",
      "[3 'female' '_' 24.0 15.2458 2]\n"
     ]
    }
   ],
   "source": [
    "print(X_train)\n",
    "print(np.shape(X_train))\n",
    "print(X_train[0])"
   ]
  },
  {
   "cell_type": "markdown",
   "id": "53fc95d3",
   "metadata": {},
   "source": [
    "Encode values in PClass (col 0), Person (col 1) and Cabin_Prefix (col 2)"
   ]
  },
  {
   "cell_type": "code",
   "execution_count": 57,
   "id": "3598f7d1",
   "metadata": {},
   "outputs": [],
   "source": [
    "ct_X = ColumnTransformer(transformers=[('encoder', OneHotEncoder(handle_unknown='ignore'), [0, 1, 2])], remainder='passthrough')\n",
    "ct_X.fit(X_train)\n",
    "X_train = ct_X.transform(X_train)"
   ]
  },
  {
   "cell_type": "code",
   "execution_count": 58,
   "id": "b99d7a1b",
   "metadata": {},
   "outputs": [
    {
     "name": "stdout",
     "output_type": "stream",
     "text": [
      "[[0.0 0.0 1.0 ... 24.0 15.2458 2]\n",
      " [0.0 1.0 0.0 ... 31.0 10.5 0]\n",
      " [0.0 1.0 0.0 ... 31.0 37.0042 2]\n",
      " ...\n",
      " [0.0 0.0 1.0 ... 24.0 7.7333 0]\n",
      " [0.0 0.0 1.0 ... 36.0 17.4 1]\n",
      " [0.0 1.0 0.0 ... 60.0 39.0 2]]\n",
      "(712, 18)\n",
      "[0.0 0.0 1.0 0.0 1.0 0.0 0.0 0.0 0.0 0.0 0.0 0.0 0.0 0.0 1.0 24.0 15.2458\n",
      " 2]\n"
     ]
    }
   ],
   "source": [
    "print(X_train)\n",
    "print(np.shape(X_train))\n",
    "print(X_train[0])"
   ]
  },
  {
   "cell_type": "markdown",
   "id": "6f16824f",
   "metadata": {},
   "source": [
    "#### 4.6.2 Test set (model input)"
   ]
  },
  {
   "cell_type": "code",
   "execution_count": 59,
   "id": "cd145d81",
   "metadata": {},
   "outputs": [],
   "source": [
    "X_test = ct_X.transform(X_test)"
   ]
  },
  {
   "cell_type": "code",
   "execution_count": 60,
   "id": "9fd056cc",
   "metadata": {},
   "outputs": [
    {
     "name": "stdout",
     "output_type": "stream",
     "text": [
      "[[0.0 0.0 1.0 ... 24.0 14.4583 0]\n",
      " [0.0 0.0 1.0 ... 24.0 7.55 0]\n",
      " [0.0 0.0 1.0 ... 7.0 29.125 5]\n",
      " ...\n",
      " [1.0 0.0 0.0 ... 31.0 113.275 1]\n",
      " [0.0 0.0 1.0 ... 23.0 7.8542 0]\n",
      " [0.0 0.0 1.0 ... 19.0 8.05 0]]\n"
     ]
    }
   ],
   "source": [
    "print(X_test)"
   ]
  },
  {
   "cell_type": "markdown",
   "id": "683b3857",
   "metadata": {},
   "source": [
    "#### 4.6.3 Test set (test set to predict)"
   ]
  },
  {
   "cell_type": "code",
   "execution_count": 61,
   "id": "a5cd3de1",
   "metadata": {},
   "outputs": [],
   "source": [
    "X_pred = ct_X.transform(X_pred)"
   ]
  },
  {
   "cell_type": "code",
   "execution_count": 62,
   "id": "96dad7d4",
   "metadata": {},
   "outputs": [
    {
     "name": "stdout",
     "output_type": "stream",
     "text": [
      "[[0.0 0.0 1.0 ... 34.5 7.8292 0]\n",
      " [0.0 0.0 1.0 ... 47.0 7.0 1]\n",
      " [0.0 1.0 0.0 ... 62.0 9.6875 0]\n",
      " ...\n",
      " [0.0 0.0 1.0 ... 38.5 7.25 0]\n",
      " [0.0 0.0 1.0 ... 24.0 8.05 0]\n",
      " [0.0 0.0 1.0 ... 24.0 22.3583 2]]\n"
     ]
    }
   ],
   "source": [
    "print(X_pred)"
   ]
  },
  {
   "cell_type": "markdown",
   "id": "305244db",
   "metadata": {},
   "source": [
    "### 4.7 Feature Scaling"
   ]
  },
  {
   "cell_type": "markdown",
   "id": "29a2a413",
   "metadata": {},
   "source": [
    "#### 4.7.1 Training set (model development)"
   ]
  },
  {
   "cell_type": "code",
   "execution_count": 63,
   "id": "62932a9f",
   "metadata": {},
   "outputs": [
    {
     "name": "stdout",
     "output_type": "stream",
     "text": [
      "<class 'pandas.core.frame.DataFrame'>\n",
      "RangeIndex: 891 entries, 0 to 890\n",
      "Data columns (total 7 columns):\n",
      " #   Column        Non-Null Count  Dtype  \n",
      "---  ------        --------------  -----  \n",
      " 0   Survived      891 non-null    int64  \n",
      " 1   Pclass        891 non-null    int64  \n",
      " 2   Person        891 non-null    object \n",
      " 3   Cabin_Prefix  891 non-null    object \n",
      " 4   Age           714 non-null    float64\n",
      " 5   Fare          891 non-null    float64\n",
      " 6   Family_Size   891 non-null    int64  \n",
      "dtypes: float64(2), int64(3), object(2)\n",
      "memory usage: 48.9+ KB\n",
      "None\n"
     ]
    }
   ],
   "source": [
    "print(train.info())"
   ]
  },
  {
   "cell_type": "markdown",
   "id": "49fcaa25",
   "metadata": {},
   "source": [
    "As we use an ANN for prediction we have to scale everything."
   ]
  },
  {
   "cell_type": "code",
   "execution_count": 64,
   "id": "372f9cf9",
   "metadata": {},
   "outputs": [],
   "source": [
    "sc = StandardScaler()\n",
    "X_train = sc.fit_transform(X_train)"
   ]
  },
  {
   "cell_type": "code",
   "execution_count": 65,
   "id": "95a968bc",
   "metadata": {},
   "outputs": [
    {
     "name": "stdout",
     "output_type": "stream",
     "text": [
      "[[-0.56004744 -0.5078883   0.89329715 ... -0.34696875 -0.33167904\n",
      "   0.64853393]\n",
      " [-0.56004744  1.96893685 -1.11944833 ...  0.18017414 -0.42640542\n",
      "  -0.55395606]\n",
      " [-0.56004744  1.96893685 -1.11944833 ...  0.18017414  0.10261958\n",
      "   0.64853393]\n",
      " ...\n",
      " [-0.56004744 -0.5078883   0.89329715 ... -0.34696875 -0.48162887\n",
      "  -0.55395606]\n",
      " [-0.56004744 -0.5078883   0.89329715 ...  0.55670478 -0.28868112\n",
      "   0.04728893]\n",
      " [-0.56004744  1.96893685 -1.11944833 ...  2.36405183  0.14245584\n",
      "   0.64853393]]\n"
     ]
    }
   ],
   "source": [
    "print(X_train)"
   ]
  },
  {
   "cell_type": "markdown",
   "id": "636017cf",
   "metadata": {},
   "source": [
    "#### 4.7.2 Test set (model development)"
   ]
  },
  {
   "cell_type": "code",
   "execution_count": 66,
   "id": "f58c2161",
   "metadata": {},
   "outputs": [],
   "source": [
    "X_test = sc.transform(X_test)"
   ]
  },
  {
   "cell_type": "code",
   "execution_count": 67,
   "id": "83dda8c5",
   "metadata": {},
   "outputs": [
    {
     "name": "stdout",
     "output_type": "stream",
     "text": [
      "[[-0.56004744 -0.5078883   0.89329715 ... -0.34696875 -0.34739758\n",
      "  -0.55395606]\n",
      " [-0.56004744 -0.5078883   0.89329715 ... -0.34696875 -0.48528755\n",
      "  -0.55395606]\n",
      " [-0.56004744 -0.5078883   0.89329715 ... -1.62717291 -0.0546496\n",
      "   2.45226891]\n",
      " ...\n",
      " [ 1.78556302 -0.5078883  -1.11944833 ...  0.18017414  1.62498811\n",
      "   0.04728893]\n",
      " [-0.56004744 -0.5078883   0.89329715 ... -0.42227488 -0.4792157\n",
      "  -0.55395606]\n",
      " [-0.56004744 -0.5078883   0.89329715 ... -0.72349939 -0.47530753\n",
      "  -0.55395606]]\n"
     ]
    }
   ],
   "source": [
    "print(X_test)"
   ]
  },
  {
   "cell_type": "markdown",
   "id": "f70e8448",
   "metadata": {},
   "source": [
    "#### 4.7.3 Test set (test set to predict)"
   ]
  },
  {
   "cell_type": "code",
   "execution_count": 68,
   "id": "64a9ee6e",
   "metadata": {},
   "outputs": [],
   "source": [
    "X_pred = sc.transform(X_pred)"
   ]
  },
  {
   "cell_type": "code",
   "execution_count": 69,
   "id": "c9582eb2",
   "metadata": {},
   "outputs": [
    {
     "name": "stdout",
     "output_type": "stream",
     "text": [
      "[[-0.56004744 -0.5078883   0.89329715 ...  0.44374558 -0.47971471\n",
      "  -0.55395606]\n",
      " [-0.56004744 -0.5078883   0.89329715 ...  1.38507217 -0.49626557\n",
      "   0.04728893]\n",
      " [-0.56004744  1.96893685 -1.11944833 ...  2.51466408 -0.44262296\n",
      "  -0.55395606]\n",
      " ...\n",
      " [-0.56004744 -0.5078883   0.89329715 ...  0.74497009 -0.49127556\n",
      "  -0.55395606]\n",
      " [-0.56004744 -0.5078883   0.89329715 ... -0.34696875 -0.47530753\n",
      "  -0.55395606]\n",
      " [-0.56004744 -0.5078883   0.89329715 ... -0.34696875 -0.18971323\n",
      "   0.64853393]]\n"
     ]
    }
   ],
   "source": [
    "print(X_pred)"
   ]
  },
  {
   "cell_type": "markdown",
   "id": "c0b3b75a",
   "metadata": {},
   "source": [
    "### 4.8 Build and train the ANN "
   ]
  },
  {
   "cell_type": "markdown",
   "id": "707afeb5",
   "metadata": {},
   "source": [
    "#### 4.8.1 Initialize the ANN"
   ]
  },
  {
   "cell_type": "code",
   "execution_count": 70,
   "id": "3396085e",
   "metadata": {},
   "outputs": [],
   "source": [
    "ann = tf.keras.models.Sequential()"
   ]
  },
  {
   "cell_type": "markdown",
   "id": "1a48ccb1",
   "metadata": {},
   "source": [
    "#### 4.8.2 Add the input (implicitly) and two hidden layers"
   ]
  },
  {
   "cell_type": "code",
   "execution_count": 71,
   "id": "b2fed07d",
   "metadata": {},
   "outputs": [],
   "source": [
    "ann.add(tf.keras.layers.Dense(units=8, activation='relu'))"
   ]
  },
  {
   "cell_type": "code",
   "execution_count": 72,
   "id": "a5544c9a",
   "metadata": {},
   "outputs": [],
   "source": [
    "ann.add(tf.keras.layers.Dense(units=8, activation='relu'))"
   ]
  },
  {
   "cell_type": "code",
   "execution_count": 73,
   "id": "8651b5db",
   "metadata": {},
   "outputs": [],
   "source": [
    "ann.add(tf.keras.layers.Dense(units=8, activation='relu'))"
   ]
  },
  {
   "cell_type": "markdown",
   "id": "61d53d5d",
   "metadata": {},
   "source": [
    "#### 4.8.3 Add the output layer"
   ]
  },
  {
   "cell_type": "code",
   "execution_count": 74,
   "id": "86d35e60",
   "metadata": {},
   "outputs": [],
   "source": [
    "ann.add(tf.keras.layers.Dense(units=1, activation='sigmoid'))"
   ]
  },
  {
   "cell_type": "markdown",
   "id": "acd9152b",
   "metadata": {},
   "source": [
    "#### 4.8.4 Train the ANN"
   ]
  },
  {
   "cell_type": "code",
   "execution_count": 75,
   "id": "96501565",
   "metadata": {},
   "outputs": [],
   "source": [
    "ann.compile(optimizer='adam', loss='binary_crossentropy', metrics=['accuracy'])"
   ]
  },
  {
   "cell_type": "code",
   "execution_count": 76,
   "id": "49dd2815",
   "metadata": {},
   "outputs": [
    {
     "name": "stdout",
     "output_type": "stream",
     "text": [
      "Epoch 1/100\n",
      "23/23 [==============================] - 1s 3ms/step - loss: 0.6643 - accuracy: 0.6306\n",
      "Epoch 2/100\n",
      "23/23 [==============================] - 0s 3ms/step - loss: 0.6277 - accuracy: 0.6489\n",
      "Epoch 3/100\n",
      "23/23 [==============================] - 0s 3ms/step - loss: 0.5927 - accuracy: 0.6966\n",
      "Epoch 4/100\n",
      "23/23 [==============================] - 0s 3ms/step - loss: 0.5586 - accuracy: 0.7289\n",
      "Epoch 5/100\n",
      "23/23 [==============================] - 0s 3ms/step - loss: 0.5297 - accuracy: 0.7584\n",
      "Epoch 6/100\n",
      "23/23 [==============================] - 0s 3ms/step - loss: 0.5095 - accuracy: 0.7640\n",
      "Epoch 7/100\n",
      "23/23 [==============================] - 0s 3ms/step - loss: 0.4956 - accuracy: 0.7640\n",
      "Epoch 8/100\n",
      "23/23 [==============================] - 0s 3ms/step - loss: 0.4856 - accuracy: 0.7669\n",
      "Epoch 9/100\n",
      "23/23 [==============================] - 0s 3ms/step - loss: 0.4781 - accuracy: 0.7669\n",
      "Epoch 10/100\n",
      "23/23 [==============================] - 0s 3ms/step - loss: 0.4716 - accuracy: 0.7725\n",
      "Epoch 11/100\n",
      "23/23 [==============================] - 0s 3ms/step - loss: 0.4658 - accuracy: 0.7767\n",
      "Epoch 12/100\n",
      "23/23 [==============================] - 0s 3ms/step - loss: 0.4600 - accuracy: 0.7879\n",
      "Epoch 13/100\n",
      "23/23 [==============================] - 0s 3ms/step - loss: 0.4545 - accuracy: 0.7949\n",
      "Epoch 14/100\n",
      "23/23 [==============================] - 0s 3ms/step - loss: 0.4487 - accuracy: 0.8062\n",
      "Epoch 15/100\n",
      "23/23 [==============================] - 0s 3ms/step - loss: 0.4447 - accuracy: 0.8048\n",
      "Epoch 16/100\n",
      "23/23 [==============================] - 0s 3ms/step - loss: 0.4416 - accuracy: 0.8048\n",
      "Epoch 17/100\n",
      "23/23 [==============================] - 0s 3ms/step - loss: 0.4359 - accuracy: 0.8146\n",
      "Epoch 18/100\n",
      "23/23 [==============================] - 0s 3ms/step - loss: 0.4325 - accuracy: 0.8146\n",
      "Epoch 19/100\n",
      "23/23 [==============================] - 0s 3ms/step - loss: 0.4287 - accuracy: 0.8216\n",
      "Epoch 20/100\n",
      "23/23 [==============================] - 0s 3ms/step - loss: 0.4250 - accuracy: 0.8216\n",
      "Epoch 21/100\n",
      "23/23 [==============================] - 0s 3ms/step - loss: 0.4215 - accuracy: 0.8216\n",
      "Epoch 22/100\n",
      "23/23 [==============================] - 0s 3ms/step - loss: 0.4190 - accuracy: 0.8244\n",
      "Epoch 23/100\n",
      "23/23 [==============================] - 0s 3ms/step - loss: 0.4151 - accuracy: 0.8244\n",
      "Epoch 24/100\n",
      "23/23 [==============================] - 0s 3ms/step - loss: 0.4127 - accuracy: 0.8272\n",
      "Epoch 25/100\n",
      "23/23 [==============================] - 0s 3ms/step - loss: 0.4096 - accuracy: 0.8357\n",
      "Epoch 26/100\n",
      "23/23 [==============================] - 0s 3ms/step - loss: 0.4077 - accuracy: 0.8329\n",
      "Epoch 27/100\n",
      "23/23 [==============================] - 0s 3ms/step - loss: 0.4056 - accuracy: 0.8329\n",
      "Epoch 28/100\n",
      "23/23 [==============================] - 0s 3ms/step - loss: 0.4039 - accuracy: 0.8343\n",
      "Epoch 29/100\n",
      "23/23 [==============================] - 0s 3ms/step - loss: 0.4017 - accuracy: 0.8371\n",
      "Epoch 30/100\n",
      "23/23 [==============================] - 0s 3ms/step - loss: 0.3999 - accuracy: 0.8399\n",
      "Epoch 31/100\n",
      "23/23 [==============================] - 0s 3ms/step - loss: 0.3987 - accuracy: 0.8385\n",
      "Epoch 32/100\n",
      "23/23 [==============================] - 0s 3ms/step - loss: 0.3980 - accuracy: 0.8385\n",
      "Epoch 33/100\n",
      "23/23 [==============================] - 0s 3ms/step - loss: 0.3962 - accuracy: 0.8371\n",
      "Epoch 34/100\n",
      "23/23 [==============================] - 0s 3ms/step - loss: 0.3951 - accuracy: 0.8385\n",
      "Epoch 35/100\n",
      "23/23 [==============================] - 0s 3ms/step - loss: 0.3952 - accuracy: 0.8385\n",
      "Epoch 36/100\n",
      "23/23 [==============================] - 0s 3ms/step - loss: 0.3950 - accuracy: 0.8385\n",
      "Epoch 37/100\n",
      "23/23 [==============================] - 0s 3ms/step - loss: 0.3924 - accuracy: 0.8385\n",
      "Epoch 38/100\n",
      "23/23 [==============================] - 0s 3ms/step - loss: 0.3925 - accuracy: 0.8357\n",
      "Epoch 39/100\n",
      "23/23 [==============================] - 0s 3ms/step - loss: 0.3917 - accuracy: 0.8399\n",
      "Epoch 40/100\n",
      "23/23 [==============================] - 0s 3ms/step - loss: 0.3909 - accuracy: 0.8455\n",
      "Epoch 41/100\n",
      "23/23 [==============================] - 0s 3ms/step - loss: 0.3896 - accuracy: 0.8469\n",
      "Epoch 42/100\n",
      "23/23 [==============================] - 0s 3ms/step - loss: 0.3890 - accuracy: 0.8427\n",
      "Epoch 43/100\n",
      "23/23 [==============================] - 0s 4ms/step - loss: 0.3889 - accuracy: 0.8427\n",
      "Epoch 44/100\n",
      "23/23 [==============================] - 0s 3ms/step - loss: 0.3886 - accuracy: 0.8455\n",
      "Epoch 45/100\n",
      "23/23 [==============================] - 0s 3ms/step - loss: 0.3869 - accuracy: 0.8455\n",
      "Epoch 46/100\n",
      "23/23 [==============================] - 0s 3ms/step - loss: 0.3870 - accuracy: 0.8455\n",
      "Epoch 47/100\n",
      "23/23 [==============================] - 0s 3ms/step - loss: 0.3863 - accuracy: 0.8441\n",
      "Epoch 48/100\n",
      "23/23 [==============================] - 0s 3ms/step - loss: 0.3853 - accuracy: 0.8469\n",
      "Epoch 49/100\n",
      "23/23 [==============================] - 0s 3ms/step - loss: 0.3851 - accuracy: 0.8455\n",
      "Epoch 50/100\n",
      "23/23 [==============================] - 0s 3ms/step - loss: 0.3843 - accuracy: 0.8441\n",
      "Epoch 51/100\n",
      "23/23 [==============================] - 0s 3ms/step - loss: 0.3839 - accuracy: 0.8469\n",
      "Epoch 52/100\n",
      "23/23 [==============================] - 0s 3ms/step - loss: 0.3838 - accuracy: 0.8469\n",
      "Epoch 53/100\n",
      "23/23 [==============================] - 0s 3ms/step - loss: 0.3830 - accuracy: 0.8469\n",
      "Epoch 54/100\n",
      "23/23 [==============================] - 0s 3ms/step - loss: 0.3829 - accuracy: 0.8483\n",
      "Epoch 55/100\n",
      "23/23 [==============================] - 0s 3ms/step - loss: 0.3833 - accuracy: 0.8469\n",
      "Epoch 56/100\n",
      "23/23 [==============================] - 0s 3ms/step - loss: 0.3817 - accuracy: 0.8497\n",
      "Epoch 57/100\n",
      "23/23 [==============================] - 0s 3ms/step - loss: 0.3812 - accuracy: 0.8483\n",
      "Epoch 58/100\n",
      "23/23 [==============================] - 0s 3ms/step - loss: 0.3821 - accuracy: 0.8427\n",
      "Epoch 59/100\n",
      "23/23 [==============================] - 0s 3ms/step - loss: 0.3805 - accuracy: 0.8455\n",
      "Epoch 60/100\n",
      "23/23 [==============================] - 0s 3ms/step - loss: 0.3808 - accuracy: 0.8511\n",
      "Epoch 61/100\n",
      "23/23 [==============================] - 0s 3ms/step - loss: 0.3803 - accuracy: 0.8455\n",
      "Epoch 62/100\n",
      "23/23 [==============================] - 0s 2ms/step - loss: 0.3796 - accuracy: 0.8455\n",
      "Epoch 63/100\n",
      "23/23 [==============================] - 0s 3ms/step - loss: 0.3794 - accuracy: 0.8483\n",
      "Epoch 64/100\n",
      "23/23 [==============================] - 0s 2ms/step - loss: 0.3788 - accuracy: 0.8455\n",
      "Epoch 65/100\n",
      "23/23 [==============================] - 0s 3ms/step - loss: 0.3786 - accuracy: 0.8469\n",
      "Epoch 66/100\n",
      "23/23 [==============================] - 0s 3ms/step - loss: 0.3786 - accuracy: 0.8483\n",
      "Epoch 67/100\n",
      "23/23 [==============================] - 0s 3ms/step - loss: 0.3792 - accuracy: 0.8469\n",
      "Epoch 68/100\n",
      "23/23 [==============================] - 0s 3ms/step - loss: 0.3778 - accuracy: 0.8469\n",
      "Epoch 69/100\n",
      "23/23 [==============================] - 0s 3ms/step - loss: 0.3781 - accuracy: 0.8469\n",
      "Epoch 70/100\n",
      "23/23 [==============================] - 0s 3ms/step - loss: 0.3781 - accuracy: 0.8455\n",
      "Epoch 71/100\n",
      "23/23 [==============================] - 0s 2ms/step - loss: 0.3773 - accuracy: 0.8469\n",
      "Epoch 72/100\n",
      "23/23 [==============================] - 0s 3ms/step - loss: 0.3768 - accuracy: 0.8483\n",
      "Epoch 73/100\n",
      "23/23 [==============================] - 0s 3ms/step - loss: 0.3777 - accuracy: 0.8469\n",
      "Epoch 74/100\n",
      "23/23 [==============================] - 0s 3ms/step - loss: 0.3780 - accuracy: 0.8497\n",
      "Epoch 75/100\n",
      "23/23 [==============================] - 0s 3ms/step - loss: 0.3766 - accuracy: 0.8483\n",
      "Epoch 76/100\n",
      "23/23 [==============================] - 0s 3ms/step - loss: 0.3760 - accuracy: 0.8483\n",
      "Epoch 77/100\n",
      "23/23 [==============================] - 0s 2ms/step - loss: 0.3759 - accuracy: 0.8469\n",
      "Epoch 78/100\n",
      "23/23 [==============================] - 0s 3ms/step - loss: 0.3760 - accuracy: 0.8483\n",
      "Epoch 79/100\n",
      "23/23 [==============================] - 0s 3ms/step - loss: 0.3753 - accuracy: 0.8469\n",
      "Epoch 80/100\n",
      "23/23 [==============================] - 0s 3ms/step - loss: 0.3757 - accuracy: 0.8455\n",
      "Epoch 81/100\n",
      "23/23 [==============================] - 0s 3ms/step - loss: 0.3758 - accuracy: 0.8455\n",
      "Epoch 82/100\n",
      "23/23 [==============================] - 0s 3ms/step - loss: 0.3744 - accuracy: 0.8455\n",
      "Epoch 83/100\n"
     ]
    },
    {
     "name": "stdout",
     "output_type": "stream",
     "text": [
      "23/23 [==============================] - 0s 3ms/step - loss: 0.3742 - accuracy: 0.8483\n",
      "Epoch 84/100\n",
      "23/23 [==============================] - 0s 2ms/step - loss: 0.3736 - accuracy: 0.8497\n",
      "Epoch 85/100\n",
      "23/23 [==============================] - 0s 3ms/step - loss: 0.3744 - accuracy: 0.8441\n",
      "Epoch 86/100\n",
      "23/23 [==============================] - 0s 3ms/step - loss: 0.3748 - accuracy: 0.8455\n",
      "Epoch 87/100\n",
      "23/23 [==============================] - 0s 2ms/step - loss: 0.3724 - accuracy: 0.8469\n",
      "Epoch 88/100\n",
      "23/23 [==============================] - 0s 3ms/step - loss: 0.3713 - accuracy: 0.8497\n",
      "Epoch 89/100\n",
      "23/23 [==============================] - 0s 3ms/step - loss: 0.3714 - accuracy: 0.8483\n",
      "Epoch 90/100\n",
      "23/23 [==============================] - 0s 3ms/step - loss: 0.3709 - accuracy: 0.8483\n",
      "Epoch 91/100\n",
      "23/23 [==============================] - 0s 3ms/step - loss: 0.3713 - accuracy: 0.8469\n",
      "Epoch 92/100\n",
      "23/23 [==============================] - 0s 3ms/step - loss: 0.3706 - accuracy: 0.8469\n",
      "Epoch 93/100\n",
      "23/23 [==============================] - 0s 3ms/step - loss: 0.3709 - accuracy: 0.8455\n",
      "Epoch 94/100\n",
      "23/23 [==============================] - 0s 3ms/step - loss: 0.3697 - accuracy: 0.8511\n",
      "Epoch 95/100\n",
      "23/23 [==============================] - 0s 3ms/step - loss: 0.3689 - accuracy: 0.8483\n",
      "Epoch 96/100\n",
      "23/23 [==============================] - 0s 3ms/step - loss: 0.3689 - accuracy: 0.8497\n",
      "Epoch 97/100\n",
      "23/23 [==============================] - 0s 3ms/step - loss: 0.3695 - accuracy: 0.8497\n",
      "Epoch 98/100\n",
      "23/23 [==============================] - 0s 3ms/step - loss: 0.3688 - accuracy: 0.8483\n",
      "Epoch 99/100\n",
      "23/23 [==============================] - 0s 3ms/step - loss: 0.3689 - accuracy: 0.8511\n",
      "Epoch 100/100\n",
      "23/23 [==============================] - 0s 3ms/step - loss: 0.3685 - accuracy: 0.8525\n"
     ]
    },
    {
     "data": {
      "text/plain": [
       "<keras.callbacks.History at 0x237a556ab90>"
      ]
     },
     "execution_count": 76,
     "metadata": {},
     "output_type": "execute_result"
    }
   ],
   "source": [
    "ann.fit(X_train, y_train, batch_size=32, epochs=100)"
   ]
  },
  {
   "cell_type": "markdown",
   "id": "b746e244",
   "metadata": {},
   "source": [
    "### 4.10. Predict Test set (model development )"
   ]
  },
  {
   "cell_type": "code",
   "execution_count": 77,
   "id": "22c74ebd",
   "metadata": {},
   "outputs": [
    {
     "name": "stdout",
     "output_type": "stream",
     "text": [
      "6/6 [==============================] - 0s 3ms/step\n"
     ]
    }
   ],
   "source": [
    "y_model_pred = ann.predict(X_test)"
   ]
  },
  {
   "cell_type": "code",
   "execution_count": 78,
   "id": "354bd76d",
   "metadata": {},
   "outputs": [],
   "source": [
    "y_model_pred = y_model_pred > 0.5"
   ]
  },
  {
   "cell_type": "code",
   "execution_count": 79,
   "id": "4d2112cd",
   "metadata": {},
   "outputs": [
    {
     "name": "stdout",
     "output_type": "stream",
     "text": [
      "[[0 0]\n",
      " [0 0]\n",
      " [0 0]\n",
      " [1 1]\n",
      " [0 1]\n",
      " [0 1]\n",
      " [1 1]\n",
      " [1 1]\n",
      " [0 1]\n",
      " [1 1]\n",
      " [0 0]\n",
      " [1 1]\n",
      " [0 0]\n",
      " [1 1]\n",
      " [1 1]\n",
      " [1 0]\n",
      " [0 0]\n",
      " [0 0]\n",
      " [0 0]\n",
      " [1 1]\n",
      " [0 0]\n",
      " [1 1]\n",
      " [0 0]\n",
      " [0 0]\n",
      " [1 0]\n",
      " [1 1]\n",
      " [0 0]\n",
      " [1 1]\n",
      " [1 1]\n",
      " [0 0]\n",
      " [0 0]\n",
      " [1 1]\n",
      " [0 0]\n",
      " [0 1]\n",
      " [0 0]\n",
      " [0 1]\n",
      " [0 0]\n",
      " [0 0]\n",
      " [0 0]\n",
      " [0 0]\n",
      " [0 1]\n",
      " [0 0]\n",
      " [0 0]\n",
      " [0 0]\n",
      " [1 1]\n",
      " [0 0]\n",
      " [0 0]\n",
      " [1 1]\n",
      " [0 0]\n",
      " [0 0]\n",
      " [0 1]\n",
      " [0 1]\n",
      " [1 1]\n",
      " [0 0]\n",
      " [0 1]\n",
      " [0 0]\n",
      " [0 0]\n",
      " [0 0]\n",
      " [0 0]\n",
      " [0 1]\n",
      " [0 0]\n",
      " [0 0]\n",
      " [1 1]\n",
      " [0 0]\n",
      " [0 1]\n",
      " [0 0]\n",
      " [1 1]\n",
      " [0 0]\n",
      " [1 1]\n",
      " [1 1]\n",
      " [1 1]\n",
      " [0 1]\n",
      " [0 0]\n",
      " [0 0]\n",
      " [0 0]\n",
      " [1 1]\n",
      " [0 0]\n",
      " [0 0]\n",
      " [0 0]\n",
      " [0 0]\n",
      " [0 0]\n",
      " [1 1]\n",
      " [1 0]\n",
      " [0 0]\n",
      " [0 0]\n",
      " [1 1]\n",
      " [1 1]\n",
      " [0 1]\n",
      " [1 1]\n",
      " [0 0]\n",
      " [0 0]\n",
      " [0 0]\n",
      " [1 1]\n",
      " [1 1]\n",
      " [0 0]\n",
      " [0 0]\n",
      " [1 1]\n",
      " [0 0]\n",
      " [0 0]\n",
      " [0 1]\n",
      " [0 0]\n",
      " [0 0]\n",
      " [0 0]\n",
      " [0 0]\n",
      " [1 0]\n",
      " [0 1]\n",
      " [1 1]\n",
      " [0 0]\n",
      " [0 0]\n",
      " [1 1]\n",
      " [0 0]\n",
      " [1 1]\n",
      " [0 1]\n",
      " [1 0]\n",
      " [0 1]\n",
      " [1 1]\n",
      " [1 1]\n",
      " [1 1]\n",
      " [0 0]\n",
      " [1 1]\n",
      " [0 1]\n",
      " [0 0]\n",
      " [0 0]\n",
      " [0 0]\n",
      " [0 0]\n",
      " [0 0]\n",
      " [0 0]\n",
      " [0 1]\n",
      " [0 0]\n",
      " [0 0]\n",
      " [1 0]\n",
      " [0 0]\n",
      " [0 0]\n",
      " [1 0]\n",
      " [0 0]\n",
      " [0 0]\n",
      " [0 0]\n",
      " [0 0]\n",
      " [0 0]\n",
      " [0 0]\n",
      " [0 0]\n",
      " [1 1]\n",
      " [0 0]\n",
      " [1 0]\n",
      " [1 1]\n",
      " [1 0]\n",
      " [0 0]\n",
      " [1 1]\n",
      " [1 1]\n",
      " [0 0]\n",
      " [0 0]\n",
      " [1 1]\n",
      " [0 0]\n",
      " [0 0]\n",
      " [1 1]\n",
      " [0 0]\n",
      " [0 0]\n",
      " [0 1]\n",
      " [1 0]\n",
      " [1 1]\n",
      " [0 0]\n",
      " [0 1]\n",
      " [1 1]\n",
      " [0 1]\n",
      " [1 0]\n",
      " [0 0]\n",
      " [0 0]\n",
      " [0 0]\n",
      " [0 0]\n",
      " [0 0]\n",
      " [0 0]\n",
      " [1 1]\n",
      " [0 0]\n",
      " [0 0]\n",
      " [1 1]\n",
      " [0 0]\n",
      " [1 1]\n",
      " [0 0]\n",
      " [0 0]]\n"
     ]
    }
   ],
   "source": [
    "print(np.concatenate((y_model_pred.reshape(len(y_model_pred),1), y_test.reshape(len(y_test),1)),1))"
   ]
  },
  {
   "cell_type": "markdown",
   "id": "391e42d2",
   "metadata": {},
   "source": [
    "### 4.11. Print Confusion Matrix"
   ]
  },
  {
   "cell_type": "code",
   "execution_count": 80,
   "id": "e73e21c9",
   "metadata": {},
   "outputs": [
    {
     "name": "stdout",
     "output_type": "stream",
     "text": [
      "[[99 11]\n",
      " [22 47]]\n"
     ]
    }
   ],
   "source": [
    "print(confusion_matrix(y_test, y_model_pred))"
   ]
  },
  {
   "cell_type": "code",
   "execution_count": 81,
   "id": "fa6b096b",
   "metadata": {},
   "outputs": [
    {
     "name": "stdout",
     "output_type": "stream",
     "text": [
      "81.56424581005587\n"
     ]
    }
   ],
   "source": [
    "print(accuracy_score(y_test, y_model_pred) * 100)"
   ]
  },
  {
   "cell_type": "markdown",
   "id": "ee814175",
   "metadata": {},
   "source": [
    "### 4.12. Applying k-Fold Cross Validation"
   ]
  },
  {
   "cell_type": "code",
   "execution_count": 82,
   "id": "e48f0f59",
   "metadata": {},
   "outputs": [],
   "source": [
    "#accuracies = cross_val_score(estimator = ann, X = X_train, y = y_train, cv = 10)\n",
    "#print(\"Accuracy: {:.2f} %\".format(accuracies.mean()*100))\n",
    "#print(\"Standard Deviation: {:.2f} %\".format(accuracies.std()*100))"
   ]
  },
  {
   "cell_type": "markdown",
   "id": "f66ad118",
   "metadata": {},
   "source": [
    "### 4.13. Predict Test set (with unknown results)"
   ]
  },
  {
   "cell_type": "code",
   "execution_count": 83,
   "id": "6731b1d4",
   "metadata": {},
   "outputs": [
    {
     "name": "stdout",
     "output_type": "stream",
     "text": [
      "14/14 [==============================] - 0s 2ms/step\n"
     ]
    }
   ],
   "source": [
    "y_pred = ann.predict(X_pred)"
   ]
  },
  {
   "cell_type": "code",
   "execution_count": 84,
   "id": "74af0019",
   "metadata": {},
   "outputs": [],
   "source": [
    "y_pred = y_pred.flatten()\n",
    "y_pred = y_pred > 0.5\n",
    "y_pred = y_pred.astype(int)"
   ]
  },
  {
   "cell_type": "code",
   "execution_count": 85,
   "id": "d627f12d",
   "metadata": {},
   "outputs": [
    {
     "name": "stdout",
     "output_type": "stream",
     "text": [
      "[0 0 0 0 0 1 1 0 1 0 0 0 1 0 1 1 0 0 0 0 0 1 1 0 1 0 1 0 0 0 0 0 0 0 0 0 1\n",
      " 1 0 0 0 0 0 1 1 0 0 0 1 0 0 0 1 1 0 0 0 0 0 1 0 0 0 1 1 1 1 0 0 1 1 0 1 0\n",
      " 1 0 0 1 0 1 1 0 0 0 0 0 1 1 1 1 1 0 1 0 0 0 1 0 1 0 1 0 0 0 0 0 0 0 0 0 0\n",
      " 1 1 1 1 0 0 1 0 1 1 0 1 0 0 1 0 0 0 0 0 0 0 0 0 0 0 0 1 0 0 1 0 0 0 0 1 0\n",
      " 0 0 1 0 0 0 0 0 1 1 0 0 1 1 1 0 0 0 0 0 1 1 0 0 0 0 0 1 1 0 1 1 0 1 1 0 1\n",
      " 0 1 0 0 0 0 0 1 0 1 0 1 1 0 1 1 1 0 1 0 0 0 0 1 0 0 0 0 1 0 0 1 0 1 0 1 0\n",
      " 1 0 1 0 0 1 0 0 1 1 0 0 0 0 0 0 1 1 1 1 1 0 0 0 1 0 1 1 1 0 0 0 0 0 0 0 1\n",
      " 0 0 0 1 1 0 0 0 0 1 0 0 0 1 1 0 1 0 0 0 0 1 1 1 1 1 0 0 0 0 0 0 1 0 0 0 0\n",
      " 1 0 0 0 0 0 0 0 1 1 0 1 0 0 0 0 0 0 1 1 0 0 0 0 0 0 0 0 1 0 1 1 0 0 1 0 0\n",
      " 0 0 0 0 0 0 0 0 0 0 1 0 1 0 0 0 1 1 0 0 0 1 0 1 0 0 0 0 1 1 0 1 0 0 1 1 0\n",
      " 0 1 0 0 1 1 0 0 0 0 0 0 1 1 0 1 0 0 0 0 0 1 0 0 0 1 0 1 0 0 1 0 1 0 0 0 0\n",
      " 0 1 1 1 1 1 0 1 0 0 0]\n"
     ]
    }
   ],
   "source": [
    "print(y_pred)"
   ]
  },
  {
   "cell_type": "markdown",
   "id": "e1cdf2b6",
   "metadata": {},
   "source": [
    "### 4.14. Create result dataframe and print it to csv"
   ]
  },
  {
   "cell_type": "code",
   "execution_count": 86,
   "id": "43a2f9b6",
   "metadata": {},
   "outputs": [
    {
     "name": "stdout",
     "output_type": "stream",
     "text": [
      "418\n"
     ]
    }
   ],
   "source": [
    "print(len(y_pred))"
   ]
  },
  {
   "cell_type": "code",
   "execution_count": 87,
   "id": "951cf8ec",
   "metadata": {},
   "outputs": [
    {
     "name": "stdout",
     "output_type": "stream",
     "text": [
      "     PassengerId  Survived\n",
      "0            892         0\n",
      "1            893         0\n",
      "2            894         0\n",
      "3            895         0\n",
      "4            896         0\n",
      "..           ...       ...\n",
      "413         1305         0\n",
      "414         1306         1\n",
      "415         1307         0\n",
      "416         1308         0\n",
      "417         1309         0\n",
      "\n",
      "[418 rows x 2 columns]\n"
     ]
    }
   ],
   "source": [
    "result = pd.DataFrame({'PassengerId': test['PassengerId'], 'Survived': y_pred})\n",
    "print(result)"
   ]
  },
  {
   "cell_type": "code",
   "execution_count": 88,
   "id": "22f733bc",
   "metadata": {},
   "outputs": [],
   "source": [
    "result.to_csv('../00_data/ann1_6.csv', index=False)"
   ]
  },
  {
   "cell_type": "code",
   "execution_count": null,
   "id": "52ca1a99",
   "metadata": {},
   "outputs": [],
   "source": []
  }
 ],
 "metadata": {
  "kernelspec": {
   "display_name": "MLPythonTensorflow",
   "language": "python",
   "name": "mlpythontensorflow"
  },
  "language_info": {
   "codemirror_mode": {
    "name": "ipython",
    "version": 3
   },
   "file_extension": ".py",
   "mimetype": "text/x-python",
   "name": "python",
   "nbconvert_exporter": "python",
   "pygments_lexer": "ipython3",
   "version": "3.10.12"
  }
 },
 "nbformat": 4,
 "nbformat_minor": 5
}
