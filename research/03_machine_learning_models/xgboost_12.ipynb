{
 "cells": [
  {
   "cell_type": "markdown",
   "id": "0a4b92ea",
   "metadata": {},
   "source": [
    "# Prediction for Survival of the Titanic disaster with XGBoost Model\n",
    "(Feature Engineering (new features Person and Family_Size) and Hyperparameter tuning XGBoost (subsample decreased, reg_alpha increased))\n",
    "(Try to find clusters in data and use them as new feature)"
   ]
  },
  {
   "cell_type": "markdown",
   "id": "d2036d07",
   "metadata": {},
   "source": [
    "## 1. Importing the libraries"
   ]
  },
  {
   "cell_type": "code",
   "execution_count": 1,
   "id": "a79fa952",
   "metadata": {},
   "outputs": [],
   "source": [
    "import pandas as pd\n",
    "import numpy as np\n",
    "import matplotlib.pyplot as plt\n",
    "from sklearn.impute import SimpleImputer\n",
    "from sklearn.preprocessing import LabelEncoder, OneHotEncoder, StandardScaler\n",
    "from sklearn.compose import ColumnTransformer\n",
    "from sklearn.model_selection import train_test_split, cross_val_score\n",
    "from sklearn.preprocessing import StandardScaler\n",
    "from sklearn.metrics import confusion_matrix, accuracy_score, silhouette_score\n",
    "from xgboost import XGBClassifier\n",
    "from sklearn.cluster import KMeans"
   ]
  },
  {
   "cell_type": "markdown",
   "id": "b6d941d0",
   "metadata": {},
   "source": [
    "## 2. Reading the datasets "
   ]
  },
  {
   "cell_type": "code",
   "execution_count": 2,
   "id": "9e31ab97",
   "metadata": {},
   "outputs": [],
   "source": [
    "train = pd.read_csv('../00_data/train.csv')\n",
    "test = pd.read_csv('../00_data/test.csv')"
   ]
  },
  {
   "cell_type": "markdown",
   "id": "5dc5c297",
   "metadata": {},
   "source": [
    "## 3. Exploring the datasets"
   ]
  },
  {
   "cell_type": "markdown",
   "id": "18ee3805",
   "metadata": {},
   "source": [
    "### 3.1 Training set"
   ]
  },
  {
   "cell_type": "code",
   "execution_count": 3,
   "id": "6ed21fe0",
   "metadata": {},
   "outputs": [
    {
     "name": "stdout",
     "output_type": "stream",
     "text": [
      "   PassengerId  Survived  Pclass  \\\n",
      "0            1         0       3   \n",
      "1            2         1       1   \n",
      "2            3         1       3   \n",
      "3            4         1       1   \n",
      "4            5         0       3   \n",
      "\n",
      "                                                Name     Sex   Age  SibSp  \\\n",
      "0                            Braund, Mr. Owen Harris    male  22.0      1   \n",
      "1  Cumings, Mrs. John Bradley (Florence Briggs Th...  female  38.0      1   \n",
      "2                             Heikkinen, Miss. Laina  female  26.0      0   \n",
      "3       Futrelle, Mrs. Jacques Heath (Lily May Peel)  female  35.0      1   \n",
      "4                           Allen, Mr. William Henry    male  35.0      0   \n",
      "\n",
      "   Parch            Ticket     Fare Cabin Embarked  \n",
      "0      0         A/5 21171   7.2500   NaN        S  \n",
      "1      0          PC 17599  71.2833   C85        C  \n",
      "2      0  STON/O2. 3101282   7.9250   NaN        S  \n",
      "3      0            113803  53.1000  C123        S  \n",
      "4      0            373450   8.0500   NaN        S  \n"
     ]
    }
   ],
   "source": [
    "print(train.head())"
   ]
  },
  {
   "cell_type": "code",
   "execution_count": 4,
   "id": "7b5d134b",
   "metadata": {},
   "outputs": [
    {
     "name": "stdout",
     "output_type": "stream",
     "text": [
      "<class 'pandas.core.frame.DataFrame'>\n",
      "RangeIndex: 891 entries, 0 to 890\n",
      "Data columns (total 12 columns):\n",
      " #   Column       Non-Null Count  Dtype  \n",
      "---  ------       --------------  -----  \n",
      " 0   PassengerId  891 non-null    int64  \n",
      " 1   Survived     891 non-null    int64  \n",
      " 2   Pclass       891 non-null    int64  \n",
      " 3   Name         891 non-null    object \n",
      " 4   Sex          891 non-null    object \n",
      " 5   Age          714 non-null    float64\n",
      " 6   SibSp        891 non-null    int64  \n",
      " 7   Parch        891 non-null    int64  \n",
      " 8   Ticket       891 non-null    object \n",
      " 9   Fare         891 non-null    float64\n",
      " 10  Cabin        204 non-null    object \n",
      " 11  Embarked     889 non-null    object \n",
      "dtypes: float64(2), int64(5), object(5)\n",
      "memory usage: 83.7+ KB\n",
      "None\n"
     ]
    }
   ],
   "source": [
    "print(train.info())"
   ]
  },
  {
   "cell_type": "markdown",
   "id": "77f2e4ed",
   "metadata": {},
   "source": [
    "##### Explore missing data "
   ]
  },
  {
   "cell_type": "code",
   "execution_count": 5,
   "id": "c659af0a",
   "metadata": {},
   "outputs": [
    {
     "name": "stdout",
     "output_type": "stream",
     "text": [
      "PassengerId      0\n",
      "Survived         0\n",
      "Pclass           0\n",
      "Name             0\n",
      "Sex              0\n",
      "Age            177\n",
      "SibSp            0\n",
      "Parch            0\n",
      "Ticket           0\n",
      "Fare             0\n",
      "Cabin          687\n",
      "Embarked         2\n",
      "dtype: int64\n"
     ]
    }
   ],
   "source": [
    "print(train.isna().sum())"
   ]
  },
  {
   "cell_type": "markdown",
   "id": "bd5b8051",
   "metadata": {},
   "source": [
    "##### Missing data in Age"
   ]
  },
  {
   "cell_type": "code",
   "execution_count": 6,
   "id": "2b6c177d",
   "metadata": {},
   "outputs": [
    {
     "name": "stdout",
     "output_type": "stream",
     "text": [
      "     PassengerId  Survived  Pclass                                      Name  \\\n",
      "5              6         0       3                          Moran, Mr. James   \n",
      "17            18         1       2              Williams, Mr. Charles Eugene   \n",
      "19            20         1       3                   Masselmani, Mrs. Fatima   \n",
      "26            27         0       3                   Emir, Mr. Farred Chehab   \n",
      "28            29         1       3             O'Dwyer, Miss. Ellen \"Nellie\"   \n",
      "..           ...       ...     ...                                       ...   \n",
      "859          860         0       3                          Razi, Mr. Raihed   \n",
      "863          864         0       3         Sage, Miss. Dorothy Edith \"Dolly\"   \n",
      "868          869         0       3               van Melkebeke, Mr. Philemon   \n",
      "878          879         0       3                        Laleff, Mr. Kristo   \n",
      "888          889         0       3  Johnston, Miss. Catherine Helen \"Carrie\"   \n",
      "\n",
      "        Sex  Age  SibSp  Parch      Ticket     Fare Cabin Embarked  \n",
      "5      male  NaN      0      0      330877   8.4583   NaN        Q  \n",
      "17     male  NaN      0      0      244373  13.0000   NaN        S  \n",
      "19   female  NaN      0      0        2649   7.2250   NaN        C  \n",
      "26     male  NaN      0      0        2631   7.2250   NaN        C  \n",
      "28   female  NaN      0      0      330959   7.8792   NaN        Q  \n",
      "..      ...  ...    ...    ...         ...      ...   ...      ...  \n",
      "859    male  NaN      0      0        2629   7.2292   NaN        C  \n",
      "863  female  NaN      8      2    CA. 2343  69.5500   NaN        S  \n",
      "868    male  NaN      0      0      345777   9.5000   NaN        S  \n",
      "878    male  NaN      0      0      349217   7.8958   NaN        S  \n",
      "888  female  NaN      1      2  W./C. 6607  23.4500   NaN        S  \n",
      "\n",
      "[177 rows x 12 columns]\n"
     ]
    }
   ],
   "source": [
    "train_missing_age = train[train['Age'].isna()]\n",
    "print(train_missing_age)"
   ]
  },
  {
   "cell_type": "markdown",
   "id": "9daa3a58",
   "metadata": {},
   "source": [
    "##### Missing data in Cabin"
   ]
  },
  {
   "cell_type": "code",
   "execution_count": 7,
   "id": "f7ce64cf",
   "metadata": {},
   "outputs": [
    {
     "name": "stdout",
     "output_type": "stream",
     "text": [
      "     PassengerId  Survived  Pclass                                      Name  \\\n",
      "0              1         0       3                   Braund, Mr. Owen Harris   \n",
      "2              3         1       3                    Heikkinen, Miss. Laina   \n",
      "4              5         0       3                  Allen, Mr. William Henry   \n",
      "5              6         0       3                          Moran, Mr. James   \n",
      "7              8         0       3            Palsson, Master. Gosta Leonard   \n",
      "..           ...       ...     ...                                       ...   \n",
      "884          885         0       3                    Sutehall, Mr. Henry Jr   \n",
      "885          886         0       3      Rice, Mrs. William (Margaret Norton)   \n",
      "886          887         0       2                     Montvila, Rev. Juozas   \n",
      "888          889         0       3  Johnston, Miss. Catherine Helen \"Carrie\"   \n",
      "890          891         0       3                       Dooley, Mr. Patrick   \n",
      "\n",
      "        Sex   Age  SibSp  Parch            Ticket     Fare Cabin Embarked  \n",
      "0      male  22.0      1      0         A/5 21171   7.2500   NaN        S  \n",
      "2    female  26.0      0      0  STON/O2. 3101282   7.9250   NaN        S  \n",
      "4      male  35.0      0      0            373450   8.0500   NaN        S  \n",
      "5      male   NaN      0      0            330877   8.4583   NaN        Q  \n",
      "7      male   2.0      3      1            349909  21.0750   NaN        S  \n",
      "..      ...   ...    ...    ...               ...      ...   ...      ...  \n",
      "884    male  25.0      0      0   SOTON/OQ 392076   7.0500   NaN        S  \n",
      "885  female  39.0      0      5            382652  29.1250   NaN        Q  \n",
      "886    male  27.0      0      0            211536  13.0000   NaN        S  \n",
      "888  female   NaN      1      2        W./C. 6607  23.4500   NaN        S  \n",
      "890    male  32.0      0      0            370376   7.7500   NaN        Q  \n",
      "\n",
      "[687 rows x 12 columns]\n"
     ]
    }
   ],
   "source": [
    "train_missing_cabin = train[train['Cabin'].isna()]\n",
    "print(train_missing_cabin)"
   ]
  },
  {
   "cell_type": "markdown",
   "id": "0fe2e0b2",
   "metadata": {},
   "source": [
    "##### Missing data in Cabin grouped by Pclass"
   ]
  },
  {
   "cell_type": "code",
   "execution_count": 8,
   "id": "2cefe582",
   "metadata": {},
   "outputs": [
    {
     "name": "stdout",
     "output_type": "stream",
     "text": [
      "Pclass\n",
      "1     40\n",
      "2    168\n",
      "3    479\n",
      "Name: PassengerId, dtype: int64\n"
     ]
    }
   ],
   "source": [
    "print(train_missing_cabin.groupby(['Pclass']).count()['PassengerId'])"
   ]
  },
  {
   "cell_type": "markdown",
   "id": "ae325105",
   "metadata": {},
   "source": [
    "It seems that a missing value in Cabin number is correlated with Pclass as it occurs more often for Pclass 3 and 2."
   ]
  },
  {
   "cell_type": "markdown",
   "id": "151c0232",
   "metadata": {},
   "source": [
    "##### Missing data in Cabin and survival"
   ]
  },
  {
   "cell_type": "code",
   "execution_count": 9,
   "id": "47d8de5a",
   "metadata": {},
   "outputs": [
    {
     "name": "stdout",
     "output_type": "stream",
     "text": [
      "Survived\n",
      "0    481\n",
      "1    206\n",
      "Name: PassengerId, dtype: int64\n"
     ]
    }
   ],
   "source": [
    "print(train_missing_cabin.groupby(['Survived']).count()['PassengerId'])"
   ]
  },
  {
   "cell_type": "markdown",
   "id": "c9e7e44f",
   "metadata": {},
   "source": [
    "### 3.2 Test set"
   ]
  },
  {
   "cell_type": "code",
   "execution_count": 10,
   "id": "98e79137",
   "metadata": {},
   "outputs": [
    {
     "name": "stdout",
     "output_type": "stream",
     "text": [
      "   PassengerId  Pclass                                          Name     Sex  \\\n",
      "0          892       3                              Kelly, Mr. James    male   \n",
      "1          893       3              Wilkes, Mrs. James (Ellen Needs)  female   \n",
      "2          894       2                     Myles, Mr. Thomas Francis    male   \n",
      "3          895       3                              Wirz, Mr. Albert    male   \n",
      "4          896       3  Hirvonen, Mrs. Alexander (Helga E Lindqvist)  female   \n",
      "\n",
      "    Age  SibSp  Parch   Ticket     Fare Cabin Embarked  \n",
      "0  34.5      0      0   330911   7.8292   NaN        Q  \n",
      "1  47.0      1      0   363272   7.0000   NaN        S  \n",
      "2  62.0      0      0   240276   9.6875   NaN        Q  \n",
      "3  27.0      0      0   315154   8.6625   NaN        S  \n",
      "4  22.0      1      1  3101298  12.2875   NaN        S  \n"
     ]
    }
   ],
   "source": [
    "print(test.head())"
   ]
  },
  {
   "cell_type": "code",
   "execution_count": 11,
   "id": "ae64f8a9",
   "metadata": {},
   "outputs": [
    {
     "name": "stdout",
     "output_type": "stream",
     "text": [
      "<class 'pandas.core.frame.DataFrame'>\n",
      "RangeIndex: 418 entries, 0 to 417\n",
      "Data columns (total 11 columns):\n",
      " #   Column       Non-Null Count  Dtype  \n",
      "---  ------       --------------  -----  \n",
      " 0   PassengerId  418 non-null    int64  \n",
      " 1   Pclass       418 non-null    int64  \n",
      " 2   Name         418 non-null    object \n",
      " 3   Sex          418 non-null    object \n",
      " 4   Age          332 non-null    float64\n",
      " 5   SibSp        418 non-null    int64  \n",
      " 6   Parch        418 non-null    int64  \n",
      " 7   Ticket       418 non-null    object \n",
      " 8   Fare         417 non-null    float64\n",
      " 9   Cabin        91 non-null     object \n",
      " 10  Embarked     418 non-null    object \n",
      "dtypes: float64(2), int64(4), object(5)\n",
      "memory usage: 36.0+ KB\n",
      "None\n"
     ]
    }
   ],
   "source": [
    "print(test.info())"
   ]
  },
  {
   "cell_type": "code",
   "execution_count": 12,
   "id": "76f0907b",
   "metadata": {},
   "outputs": [
    {
     "name": "stdout",
     "output_type": "stream",
     "text": [
      "PassengerId      0\n",
      "Pclass           0\n",
      "Name             0\n",
      "Sex              0\n",
      "Age             86\n",
      "SibSp            0\n",
      "Parch            0\n",
      "Ticket           0\n",
      "Fare             1\n",
      "Cabin          327\n",
      "Embarked         0\n",
      "dtype: int64\n"
     ]
    }
   ],
   "source": [
    "print(test.isna().sum())"
   ]
  },
  {
   "cell_type": "markdown",
   "id": "160a5d2e",
   "metadata": {},
   "source": [
    "## 4. Preprocessing"
   ]
  },
  {
   "cell_type": "markdown",
   "id": "e9c16898",
   "metadata": {},
   "source": [
    "### 4.1 Feature Engineering"
   ]
  },
  {
   "cell_type": "code",
   "execution_count": 13,
   "id": "dcbe1c10",
   "metadata": {},
   "outputs": [],
   "source": [
    "def drop_columns(df_list, col_list):\n",
    "    for df in df_list:\n",
    "        print(f'drop {col_list} from {df.to_string}')\n",
    "        df.drop(columns=col_list, inplace=True)"
   ]
  },
  {
   "cell_type": "markdown",
   "id": "83b75d00",
   "metadata": {},
   "source": [
    "#### 4.1.1 Drop unnecessary columns on Training set"
   ]
  },
  {
   "cell_type": "code",
   "execution_count": 14,
   "id": "33d10c8d",
   "metadata": {},
   "outputs": [
    {
     "name": "stdout",
     "output_type": "stream",
     "text": [
      "0             A/5 21171\n",
      "1              PC 17599\n",
      "2      STON/O2. 3101282\n",
      "3                113803\n",
      "4                373450\n",
      "             ...       \n",
      "886              211536\n",
      "887              112053\n",
      "888          W./C. 6607\n",
      "889              111369\n",
      "890              370376\n",
      "Name: Ticket, Length: 891, dtype: object\n",
      "681\n"
     ]
    }
   ],
   "source": [
    "print(train['Ticket'])\n",
    "print(train['Ticket'].nunique())"
   ]
  },
  {
   "cell_type": "markdown",
   "id": "1225fc94",
   "metadata": {},
   "source": [
    "Drop PassengerId, Name, Ticket and Embarked as these features don't supply useful information for the prediction of survival."
   ]
  },
  {
   "cell_type": "code",
   "execution_count": 15,
   "id": "73071f7c",
   "metadata": {},
   "outputs": [
    {
     "name": "stdout",
     "output_type": "stream",
     "text": [
      "drop ['PassengerId', 'Name', 'Ticket', 'Embarked'] from <bound method DataFrame.to_string of      PassengerId  Survived  Pclass  \\\n",
      "0              1         0       3   \n",
      "1              2         1       1   \n",
      "2              3         1       3   \n",
      "3              4         1       1   \n",
      "4              5         0       3   \n",
      "..           ...       ...     ...   \n",
      "886          887         0       2   \n",
      "887          888         1       1   \n",
      "888          889         0       3   \n",
      "889          890         1       1   \n",
      "890          891         0       3   \n",
      "\n",
      "                                                  Name     Sex   Age  SibSp  \\\n",
      "0                              Braund, Mr. Owen Harris    male  22.0      1   \n",
      "1    Cumings, Mrs. John Bradley (Florence Briggs Th...  female  38.0      1   \n",
      "2                               Heikkinen, Miss. Laina  female  26.0      0   \n",
      "3         Futrelle, Mrs. Jacques Heath (Lily May Peel)  female  35.0      1   \n",
      "4                             Allen, Mr. William Henry    male  35.0      0   \n",
      "..                                                 ...     ...   ...    ...   \n",
      "886                              Montvila, Rev. Juozas    male  27.0      0   \n",
      "887                       Graham, Miss. Margaret Edith  female  19.0      0   \n",
      "888           Johnston, Miss. Catherine Helen \"Carrie\"  female   NaN      1   \n",
      "889                              Behr, Mr. Karl Howell    male  26.0      0   \n",
      "890                                Dooley, Mr. Patrick    male  32.0      0   \n",
      "\n",
      "     Parch            Ticket     Fare Cabin Embarked  \n",
      "0        0         A/5 21171   7.2500   NaN        S  \n",
      "1        0          PC 17599  71.2833   C85        C  \n",
      "2        0  STON/O2. 3101282   7.9250   NaN        S  \n",
      "3        0            113803  53.1000  C123        S  \n",
      "4        0            373450   8.0500   NaN        S  \n",
      "..     ...               ...      ...   ...      ...  \n",
      "886      0            211536  13.0000   NaN        S  \n",
      "887      0            112053  30.0000   B42        S  \n",
      "888      2        W./C. 6607  23.4500   NaN        S  \n",
      "889      0            111369  30.0000  C148        C  \n",
      "890      0            370376   7.7500   NaN        Q  \n",
      "\n",
      "[891 rows x 12 columns]>\n"
     ]
    }
   ],
   "source": [
    "drop_columns([train], ['PassengerId', 'Name', 'Ticket', 'Embarked'])"
   ]
  },
  {
   "cell_type": "markdown",
   "id": "293984b8",
   "metadata": {},
   "source": [
    "#### 4.1.2 Drop unnecessary columns on Test set"
   ]
  },
  {
   "cell_type": "markdown",
   "id": "97babbfa",
   "metadata": {},
   "source": [
    "For the test set we keep the PassengerId, as we need it for the construction of the result dataframe containing the predictions for survival of a passenger made by the model."
   ]
  },
  {
   "cell_type": "code",
   "execution_count": 16,
   "id": "cdb1f8b1",
   "metadata": {},
   "outputs": [
    {
     "name": "stdout",
     "output_type": "stream",
     "text": [
      "drop ['Name', 'Ticket', 'Embarked'] from <bound method DataFrame.to_string of      PassengerId  Pclass                                          Name  \\\n",
      "0            892       3                              Kelly, Mr. James   \n",
      "1            893       3              Wilkes, Mrs. James (Ellen Needs)   \n",
      "2            894       2                     Myles, Mr. Thomas Francis   \n",
      "3            895       3                              Wirz, Mr. Albert   \n",
      "4            896       3  Hirvonen, Mrs. Alexander (Helga E Lindqvist)   \n",
      "..           ...     ...                                           ...   \n",
      "413         1305       3                            Spector, Mr. Woolf   \n",
      "414         1306       1                  Oliva y Ocana, Dona. Fermina   \n",
      "415         1307       3                  Saether, Mr. Simon Sivertsen   \n",
      "416         1308       3                           Ware, Mr. Frederick   \n",
      "417         1309       3                      Peter, Master. Michael J   \n",
      "\n",
      "        Sex   Age  SibSp  Parch              Ticket      Fare Cabin Embarked  \n",
      "0      male  34.5      0      0              330911    7.8292   NaN        Q  \n",
      "1    female  47.0      1      0              363272    7.0000   NaN        S  \n",
      "2      male  62.0      0      0              240276    9.6875   NaN        Q  \n",
      "3      male  27.0      0      0              315154    8.6625   NaN        S  \n",
      "4    female  22.0      1      1             3101298   12.2875   NaN        S  \n",
      "..      ...   ...    ...    ...                 ...       ...   ...      ...  \n",
      "413    male   NaN      0      0           A.5. 3236    8.0500   NaN        S  \n",
      "414  female  39.0      0      0            PC 17758  108.9000  C105        C  \n",
      "415    male  38.5      0      0  SOTON/O.Q. 3101262    7.2500   NaN        S  \n",
      "416    male   NaN      0      0              359309    8.0500   NaN        S  \n",
      "417    male   NaN      1      1                2668   22.3583   NaN        C  \n",
      "\n",
      "[418 rows x 11 columns]>\n"
     ]
    }
   ],
   "source": [
    "drop_columns([test], ['Name', 'Ticket', 'Embarked'])"
   ]
  },
  {
   "cell_type": "markdown",
   "id": "fc7d2509",
   "metadata": {},
   "source": [
    "#### 4.1.3 Cabin - Add a new column Cabin_Prefix to Training Set and Test Set"
   ]
  },
  {
   "cell_type": "code",
   "execution_count": 17,
   "id": "79eb3589",
   "metadata": {},
   "outputs": [],
   "source": [
    "def insert_cabin_prefix(*df_list):\n",
    "    for df in df_list:\n",
    "        print(len(df.columns))\n",
    "        #df.insert(len(df.columns), 'Cabin_Prefix', [get_cabin_prefix(val) for val in df['Cabin']])\n",
    "        df.insert(len(df.columns), 'Cabin_Prefix', df['Cabin'].apply(lambda s: s[0] if isinstance(s, str) and len(s) > 0 else '_'))\n",
    "        print(len(df.columns))\n",
    "        print(df)"
   ]
  },
  {
   "cell_type": "code",
   "execution_count": 18,
   "id": "a2c3b87f",
   "metadata": {},
   "outputs": [
    {
     "name": "stdout",
     "output_type": "stream",
     "text": [
      "8\n",
      "9\n",
      "     Survived  Pclass     Sex   Age  SibSp  Parch     Fare Cabin Cabin_Prefix\n",
      "0           0       3    male  22.0      1      0   7.2500   NaN            _\n",
      "1           1       1  female  38.0      1      0  71.2833   C85            C\n",
      "2           1       3  female  26.0      0      0   7.9250   NaN            _\n",
      "3           1       1  female  35.0      1      0  53.1000  C123            C\n",
      "4           0       3    male  35.0      0      0   8.0500   NaN            _\n",
      "..        ...     ...     ...   ...    ...    ...      ...   ...          ...\n",
      "886         0       2    male  27.0      0      0  13.0000   NaN            _\n",
      "887         1       1  female  19.0      0      0  30.0000   B42            B\n",
      "888         0       3  female   NaN      1      2  23.4500   NaN            _\n",
      "889         1       1    male  26.0      0      0  30.0000  C148            C\n",
      "890         0       3    male  32.0      0      0   7.7500   NaN            _\n",
      "\n",
      "[891 rows x 9 columns]\n",
      "8\n",
      "9\n",
      "     PassengerId  Pclass     Sex   Age  SibSp  Parch      Fare Cabin  \\\n",
      "0            892       3    male  34.5      0      0    7.8292   NaN   \n",
      "1            893       3  female  47.0      1      0    7.0000   NaN   \n",
      "2            894       2    male  62.0      0      0    9.6875   NaN   \n",
      "3            895       3    male  27.0      0      0    8.6625   NaN   \n",
      "4            896       3  female  22.0      1      1   12.2875   NaN   \n",
      "..           ...     ...     ...   ...    ...    ...       ...   ...   \n",
      "413         1305       3    male   NaN      0      0    8.0500   NaN   \n",
      "414         1306       1  female  39.0      0      0  108.9000  C105   \n",
      "415         1307       3    male  38.5      0      0    7.2500   NaN   \n",
      "416         1308       3    male   NaN      0      0    8.0500   NaN   \n",
      "417         1309       3    male   NaN      1      1   22.3583   NaN   \n",
      "\n",
      "    Cabin_Prefix  \n",
      "0              _  \n",
      "1              _  \n",
      "2              _  \n",
      "3              _  \n",
      "4              _  \n",
      "..           ...  \n",
      "413            _  \n",
      "414            C  \n",
      "415            _  \n",
      "416            _  \n",
      "417            _  \n",
      "\n",
      "[418 rows x 9 columns]\n"
     ]
    }
   ],
   "source": [
    "insert_cabin_prefix(train, test)"
   ]
  },
  {
   "cell_type": "code",
   "execution_count": 19,
   "id": "b81f9d4e",
   "metadata": {},
   "outputs": [
    {
     "name": "stdout",
     "output_type": "stream",
     "text": [
      "Cabin_Prefix\n",
      "A     15\n",
      "B     47\n",
      "C     59\n",
      "D     33\n",
      "E     32\n",
      "F     13\n",
      "G      4\n",
      "T      1\n",
      "_    687\n",
      "Name: Pclass, dtype: int64\n"
     ]
    }
   ],
   "source": [
    "print(train.groupby('Cabin_Prefix').count()['Pclass'])"
   ]
  },
  {
   "cell_type": "markdown",
   "id": "762e406e",
   "metadata": {},
   "source": [
    "#### 4.1.4 Cabin - Drop column Cabin"
   ]
  },
  {
   "cell_type": "code",
   "execution_count": 20,
   "id": "1c85e0f2",
   "metadata": {},
   "outputs": [
    {
     "name": "stdout",
     "output_type": "stream",
     "text": [
      "drop ['Cabin'] from <bound method DataFrame.to_string of      Survived  Pclass     Sex   Age  SibSp  Parch     Fare Cabin Cabin_Prefix\n",
      "0           0       3    male  22.0      1      0   7.2500   NaN            _\n",
      "1           1       1  female  38.0      1      0  71.2833   C85            C\n",
      "2           1       3  female  26.0      0      0   7.9250   NaN            _\n",
      "3           1       1  female  35.0      1      0  53.1000  C123            C\n",
      "4           0       3    male  35.0      0      0   8.0500   NaN            _\n",
      "..        ...     ...     ...   ...    ...    ...      ...   ...          ...\n",
      "886         0       2    male  27.0      0      0  13.0000   NaN            _\n",
      "887         1       1  female  19.0      0      0  30.0000   B42            B\n",
      "888         0       3  female   NaN      1      2  23.4500   NaN            _\n",
      "889         1       1    male  26.0      0      0  30.0000  C148            C\n",
      "890         0       3    male  32.0      0      0   7.7500   NaN            _\n",
      "\n",
      "[891 rows x 9 columns]>\n",
      "drop ['Cabin'] from <bound method DataFrame.to_string of      PassengerId  Pclass     Sex   Age  SibSp  Parch      Fare Cabin  \\\n",
      "0            892       3    male  34.5      0      0    7.8292   NaN   \n",
      "1            893       3  female  47.0      1      0    7.0000   NaN   \n",
      "2            894       2    male  62.0      0      0    9.6875   NaN   \n",
      "3            895       3    male  27.0      0      0    8.6625   NaN   \n",
      "4            896       3  female  22.0      1      1   12.2875   NaN   \n",
      "..           ...     ...     ...   ...    ...    ...       ...   ...   \n",
      "413         1305       3    male   NaN      0      0    8.0500   NaN   \n",
      "414         1306       1  female  39.0      0      0  108.9000  C105   \n",
      "415         1307       3    male  38.5      0      0    7.2500   NaN   \n",
      "416         1308       3    male   NaN      0      0    8.0500   NaN   \n",
      "417         1309       3    male   NaN      1      1   22.3583   NaN   \n",
      "\n",
      "    Cabin_Prefix  \n",
      "0              _  \n",
      "1              _  \n",
      "2              _  \n",
      "3              _  \n",
      "4              _  \n",
      "..           ...  \n",
      "413            _  \n",
      "414            C  \n",
      "415            _  \n",
      "416            _  \n",
      "417            _  \n",
      "\n",
      "[418 rows x 9 columns]>\n"
     ]
    }
   ],
   "source": [
    "drop_columns([train, test], ['Cabin'])"
   ]
  },
  {
   "cell_type": "code",
   "execution_count": 21,
   "id": "575fdc90",
   "metadata": {},
   "outputs": [
    {
     "name": "stdout",
     "output_type": "stream",
     "text": [
      "   Survived  Pclass     Sex   Age  SibSp  Parch     Fare Cabin_Prefix\n",
      "0         0       3    male  22.0      1      0   7.2500            _\n",
      "1         1       1  female  38.0      1      0  71.2833            C\n",
      "2         1       3  female  26.0      0      0   7.9250            _\n",
      "3         1       1  female  35.0      1      0  53.1000            C\n",
      "4         0       3    male  35.0      0      0   8.0500            _\n",
      "   PassengerId  Pclass     Sex   Age  SibSp  Parch     Fare Cabin_Prefix\n",
      "0          892       3    male  34.5      0      0   7.8292            _\n",
      "1          893       3  female  47.0      1      0   7.0000            _\n",
      "2          894       2    male  62.0      0      0   9.6875            _\n",
      "3          895       3    male  27.0      0      0   8.6625            _\n",
      "4          896       3  female  22.0      1      1  12.2875            _\n"
     ]
    }
   ],
   "source": [
    "print(train.head())\n",
    "print(test.head())"
   ]
  },
  {
   "cell_type": "markdown",
   "id": "6086572a",
   "metadata": {},
   "source": [
    "#### 4.1.5 Identify childs and add a new feature Person (with values male - female - child)"
   ]
  },
  {
   "cell_type": "code",
   "execution_count": 22,
   "id": "e5740396",
   "metadata": {},
   "outputs": [],
   "source": [
    "def male_female_child(passenger):\n",
    "    age, sex = passenger\n",
    "    if age < 16:\n",
    "        return \"child\"\n",
    "    else:\n",
    "        return sex"
   ]
  },
  {
   "cell_type": "code",
   "execution_count": 23,
   "id": "6d732716",
   "metadata": {},
   "outputs": [],
   "source": [
    "train['Person'] = train[['Age','Sex']].apply(male_female_child,axis=1)\n",
    "test['Person'] = test[['Age','Sex']].apply(male_female_child,axis=1)"
   ]
  },
  {
   "cell_type": "code",
   "execution_count": 24,
   "id": "c892a6d5",
   "metadata": {},
   "outputs": [
    {
     "name": "stdout",
     "output_type": "stream",
     "text": [
      "   Survived  Pclass     Sex   Age  SibSp  Parch     Fare Cabin_Prefix  Person\n",
      "0         0       3    male  22.0      1      0   7.2500            _    male\n",
      "1         1       1  female  38.0      1      0  71.2833            C  female\n",
      "2         1       3  female  26.0      0      0   7.9250            _  female\n",
      "3         1       1  female  35.0      1      0  53.1000            C  female\n",
      "4         0       3    male  35.0      0      0   8.0500            _    male\n",
      "   PassengerId  Pclass     Sex   Age  SibSp  Parch     Fare Cabin_Prefix  \\\n",
      "0          892       3    male  34.5      0      0   7.8292            _   \n",
      "1          893       3  female  47.0      1      0   7.0000            _   \n",
      "2          894       2    male  62.0      0      0   9.6875            _   \n",
      "3          895       3    male  27.0      0      0   8.6625            _   \n",
      "4          896       3  female  22.0      1      1  12.2875            _   \n",
      "\n",
      "   Person  \n",
      "0    male  \n",
      "1  female  \n",
      "2    male  \n",
      "3    male  \n",
      "4  female  \n"
     ]
    }
   ],
   "source": [
    "print(train.head())\n",
    "print(test.head())"
   ]
  },
  {
   "cell_type": "markdown",
   "id": "e77a2096",
   "metadata": {},
   "source": [
    "#### 4.1.6 Identify family size and add a new feature Family_Size"
   ]
  },
  {
   "cell_type": "code",
   "execution_count": 25,
   "id": "c30453d0",
   "metadata": {},
   "outputs": [],
   "source": [
    "train['Family_Size'] = train['SibSp'] + train['Parch']\n",
    "test['Family_Size'] = test['SibSp'] + test['Parch']"
   ]
  },
  {
   "cell_type": "code",
   "execution_count": 26,
   "id": "8e109fb1",
   "metadata": {},
   "outputs": [
    {
     "name": "stdout",
     "output_type": "stream",
     "text": [
      "   Survived  Pclass     Sex   Age  SibSp  Parch     Fare Cabin_Prefix  Person  \\\n",
      "0         0       3    male  22.0      1      0   7.2500            _    male   \n",
      "1         1       1  female  38.0      1      0  71.2833            C  female   \n",
      "2         1       3  female  26.0      0      0   7.9250            _  female   \n",
      "3         1       1  female  35.0      1      0  53.1000            C  female   \n",
      "4         0       3    male  35.0      0      0   8.0500            _    male   \n",
      "\n",
      "   Family_Size  \n",
      "0            1  \n",
      "1            1  \n",
      "2            0  \n",
      "3            1  \n",
      "4            0  \n",
      "   PassengerId  Pclass     Sex   Age  SibSp  Parch     Fare Cabin_Prefix  \\\n",
      "0          892       3    male  34.5      0      0   7.8292            _   \n",
      "1          893       3  female  47.0      1      0   7.0000            _   \n",
      "2          894       2    male  62.0      0      0   9.6875            _   \n",
      "3          895       3    male  27.0      0      0   8.6625            _   \n",
      "4          896       3  female  22.0      1      1  12.2875            _   \n",
      "\n",
      "   Person  Family_Size  \n",
      "0    male            0  \n",
      "1  female            1  \n",
      "2    male            0  \n",
      "3    male            0  \n",
      "4  female            2  \n"
     ]
    }
   ],
   "source": [
    "print(train.head())\n",
    "print(test.head())"
   ]
  },
  {
   "cell_type": "markdown",
   "id": "c387b13a",
   "metadata": {},
   "source": [
    "#### 4.1.6 Remove columns SibSp and Parch"
   ]
  },
  {
   "cell_type": "code",
   "execution_count": 27,
   "id": "ad07171d",
   "metadata": {},
   "outputs": [
    {
     "name": "stdout",
     "output_type": "stream",
     "text": [
      "drop ['SibSp', 'Parch'] from <bound method DataFrame.to_string of      Survived  Pclass     Sex   Age  SibSp  Parch     Fare Cabin_Prefix  \\\n",
      "0           0       3    male  22.0      1      0   7.2500            _   \n",
      "1           1       1  female  38.0      1      0  71.2833            C   \n",
      "2           1       3  female  26.0      0      0   7.9250            _   \n",
      "3           1       1  female  35.0      1      0  53.1000            C   \n",
      "4           0       3    male  35.0      0      0   8.0500            _   \n",
      "..        ...     ...     ...   ...    ...    ...      ...          ...   \n",
      "886         0       2    male  27.0      0      0  13.0000            _   \n",
      "887         1       1  female  19.0      0      0  30.0000            B   \n",
      "888         0       3  female   NaN      1      2  23.4500            _   \n",
      "889         1       1    male  26.0      0      0  30.0000            C   \n",
      "890         0       3    male  32.0      0      0   7.7500            _   \n",
      "\n",
      "     Person  Family_Size  \n",
      "0      male            1  \n",
      "1    female            1  \n",
      "2    female            0  \n",
      "3    female            1  \n",
      "4      male            0  \n",
      "..      ...          ...  \n",
      "886    male            0  \n",
      "887  female            0  \n",
      "888  female            3  \n",
      "889    male            0  \n",
      "890    male            0  \n",
      "\n",
      "[891 rows x 10 columns]>\n",
      "drop ['SibSp', 'Parch'] from <bound method DataFrame.to_string of      PassengerId  Pclass     Sex   Age  SibSp  Parch      Fare Cabin_Prefix  \\\n",
      "0            892       3    male  34.5      0      0    7.8292            _   \n",
      "1            893       3  female  47.0      1      0    7.0000            _   \n",
      "2            894       2    male  62.0      0      0    9.6875            _   \n",
      "3            895       3    male  27.0      0      0    8.6625            _   \n",
      "4            896       3  female  22.0      1      1   12.2875            _   \n",
      "..           ...     ...     ...   ...    ...    ...       ...          ...   \n",
      "413         1305       3    male   NaN      0      0    8.0500            _   \n",
      "414         1306       1  female  39.0      0      0  108.9000            C   \n",
      "415         1307       3    male  38.5      0      0    7.2500            _   \n",
      "416         1308       3    male   NaN      0      0    8.0500            _   \n",
      "417         1309       3    male   NaN      1      1   22.3583            _   \n",
      "\n",
      "     Person  Family_Size  \n",
      "0      male            0  \n",
      "1    female            1  \n",
      "2      male            0  \n",
      "3      male            0  \n",
      "4    female            2  \n",
      "..      ...          ...  \n",
      "413    male            0  \n",
      "414  female            0  \n",
      "415    male            0  \n",
      "416    male            0  \n",
      "417    male            2  \n",
      "\n",
      "[418 rows x 10 columns]>\n"
     ]
    }
   ],
   "source": [
    "drop_columns([train, test], ['SibSp', 'Parch'])"
   ]
  },
  {
   "cell_type": "markdown",
   "id": "8dbcb0be",
   "metadata": {},
   "source": [
    "#### 4.1.7 Remove column Sex"
   ]
  },
  {
   "cell_type": "code",
   "execution_count": 28,
   "id": "7d4737f9",
   "metadata": {},
   "outputs": [
    {
     "name": "stdout",
     "output_type": "stream",
     "text": [
      "drop ['Sex'] from <bound method DataFrame.to_string of      Survived  Pclass     Sex   Age     Fare Cabin_Prefix  Person  Family_Size\n",
      "0           0       3    male  22.0   7.2500            _    male            1\n",
      "1           1       1  female  38.0  71.2833            C  female            1\n",
      "2           1       3  female  26.0   7.9250            _  female            0\n",
      "3           1       1  female  35.0  53.1000            C  female            1\n",
      "4           0       3    male  35.0   8.0500            _    male            0\n",
      "..        ...     ...     ...   ...      ...          ...     ...          ...\n",
      "886         0       2    male  27.0  13.0000            _    male            0\n",
      "887         1       1  female  19.0  30.0000            B  female            0\n",
      "888         0       3  female   NaN  23.4500            _  female            3\n",
      "889         1       1    male  26.0  30.0000            C    male            0\n",
      "890         0       3    male  32.0   7.7500            _    male            0\n",
      "\n",
      "[891 rows x 8 columns]>\n",
      "drop ['Sex'] from <bound method DataFrame.to_string of      PassengerId  Pclass     Sex   Age      Fare Cabin_Prefix  Person  \\\n",
      "0            892       3    male  34.5    7.8292            _    male   \n",
      "1            893       3  female  47.0    7.0000            _  female   \n",
      "2            894       2    male  62.0    9.6875            _    male   \n",
      "3            895       3    male  27.0    8.6625            _    male   \n",
      "4            896       3  female  22.0   12.2875            _  female   \n",
      "..           ...     ...     ...   ...       ...          ...     ...   \n",
      "413         1305       3    male   NaN    8.0500            _    male   \n",
      "414         1306       1  female  39.0  108.9000            C  female   \n",
      "415         1307       3    male  38.5    7.2500            _    male   \n",
      "416         1308       3    male   NaN    8.0500            _    male   \n",
      "417         1309       3    male   NaN   22.3583            _    male   \n",
      "\n",
      "     Family_Size  \n",
      "0              0  \n",
      "1              1  \n",
      "2              0  \n",
      "3              0  \n",
      "4              2  \n",
      "..           ...  \n",
      "413            0  \n",
      "414            0  \n",
      "415            0  \n",
      "416            0  \n",
      "417            2  \n",
      "\n",
      "[418 rows x 8 columns]>\n"
     ]
    }
   ],
   "source": [
    "drop_columns([train, test], ['Sex'])"
   ]
  },
  {
   "cell_type": "markdown",
   "id": "7d58fbf7",
   "metadata": {},
   "source": [
    "#### 4.1.8 Reorder columns"
   ]
  },
  {
   "cell_type": "code",
   "execution_count": 29,
   "id": "a623c1c7",
   "metadata": {},
   "outputs": [
    {
     "name": "stdout",
     "output_type": "stream",
     "text": [
      "<class 'pandas.core.frame.DataFrame'>\n",
      "RangeIndex: 891 entries, 0 to 890\n",
      "Data columns (total 7 columns):\n",
      " #   Column        Non-Null Count  Dtype  \n",
      "---  ------        --------------  -----  \n",
      " 0   Survived      891 non-null    int64  \n",
      " 1   Pclass        891 non-null    int64  \n",
      " 2   Age           714 non-null    float64\n",
      " 3   Fare          891 non-null    float64\n",
      " 4   Cabin_Prefix  891 non-null    object \n",
      " 5   Person        891 non-null    object \n",
      " 6   Family_Size   891 non-null    int64  \n",
      "dtypes: float64(2), int64(3), object(2)\n",
      "memory usage: 48.9+ KB\n",
      "None\n"
     ]
    }
   ],
   "source": [
    "print(train.info())"
   ]
  },
  {
   "cell_type": "code",
   "execution_count": 30,
   "id": "48197bae",
   "metadata": {},
   "outputs": [
    {
     "name": "stdout",
     "output_type": "stream",
     "text": [
      "<class 'pandas.core.frame.DataFrame'>\n",
      "RangeIndex: 418 entries, 0 to 417\n",
      "Data columns (total 7 columns):\n",
      " #   Column        Non-Null Count  Dtype  \n",
      "---  ------        --------------  -----  \n",
      " 0   PassengerId   418 non-null    int64  \n",
      " 1   Pclass        418 non-null    int64  \n",
      " 2   Age           332 non-null    float64\n",
      " 3   Fare          417 non-null    float64\n",
      " 4   Cabin_Prefix  418 non-null    object \n",
      " 5   Person        418 non-null    object \n",
      " 6   Family_Size   418 non-null    int64  \n",
      "dtypes: float64(2), int64(3), object(2)\n",
      "memory usage: 23.0+ KB\n",
      "None\n"
     ]
    }
   ],
   "source": [
    "print(test.info())"
   ]
  },
  {
   "cell_type": "code",
   "execution_count": 31,
   "id": "9855373f",
   "metadata": {},
   "outputs": [],
   "source": [
    "train = train[['Survived', 'Pclass', 'Person', 'Cabin_Prefix', 'Age', 'Fare', 'Family_Size']]\n",
    "test = test[['PassengerId', 'Pclass', 'Person', 'Cabin_Prefix', 'Age', 'Fare', 'Family_Size']]"
   ]
  },
  {
   "cell_type": "code",
   "execution_count": 32,
   "id": "272a41b9",
   "metadata": {},
   "outputs": [
    {
     "name": "stdout",
     "output_type": "stream",
     "text": [
      "<class 'pandas.core.frame.DataFrame'>\n",
      "RangeIndex: 891 entries, 0 to 890\n",
      "Data columns (total 7 columns):\n",
      " #   Column        Non-Null Count  Dtype  \n",
      "---  ------        --------------  -----  \n",
      " 0   Survived      891 non-null    int64  \n",
      " 1   Pclass        891 non-null    int64  \n",
      " 2   Person        891 non-null    object \n",
      " 3   Cabin_Prefix  891 non-null    object \n",
      " 4   Age           714 non-null    float64\n",
      " 5   Fare          891 non-null    float64\n",
      " 6   Family_Size   891 non-null    int64  \n",
      "dtypes: float64(2), int64(3), object(2)\n",
      "memory usage: 48.9+ KB\n",
      "None\n",
      "<class 'pandas.core.frame.DataFrame'>\n",
      "RangeIndex: 418 entries, 0 to 417\n",
      "Data columns (total 7 columns):\n",
      " #   Column        Non-Null Count  Dtype  \n",
      "---  ------        --------------  -----  \n",
      " 0   PassengerId   418 non-null    int64  \n",
      " 1   Pclass        418 non-null    int64  \n",
      " 2   Person        418 non-null    object \n",
      " 3   Cabin_Prefix  418 non-null    object \n",
      " 4   Age           332 non-null    float64\n",
      " 5   Fare          417 non-null    float64\n",
      " 6   Family_Size   418 non-null    int64  \n",
      "dtypes: float64(2), int64(3), object(2)\n",
      "memory usage: 23.0+ KB\n",
      "None\n"
     ]
    }
   ],
   "source": [
    "print(train.info())\n",
    "print(test.info())"
   ]
  },
  {
   "cell_type": "markdown",
   "id": "0c72d896",
   "metadata": {},
   "source": [
    "### 4.2 Splitting the Training set in train and test data"
   ]
  },
  {
   "cell_type": "code",
   "execution_count": 33,
   "id": "0d11b629",
   "metadata": {},
   "outputs": [],
   "source": [
    "train_train, train_test = train_test_split(train, test_size=0.2, random_state=0)"
   ]
  },
  {
   "cell_type": "markdown",
   "id": "f35516a6",
   "metadata": {},
   "source": [
    "### 4.3 Creating X and y for model development"
   ]
  },
  {
   "cell_type": "code",
   "execution_count": 34,
   "id": "adf8a09b",
   "metadata": {},
   "outputs": [
    {
     "data": {
      "text/html": [
       "<div>\n",
       "<style scoped>\n",
       "    .dataframe tbody tr th:only-of-type {\n",
       "        vertical-align: middle;\n",
       "    }\n",
       "\n",
       "    .dataframe tbody tr th {\n",
       "        vertical-align: top;\n",
       "    }\n",
       "\n",
       "    .dataframe thead th {\n",
       "        text-align: right;\n",
       "    }\n",
       "</style>\n",
       "<table border=\"1\" class=\"dataframe\">\n",
       "  <thead>\n",
       "    <tr style=\"text-align: right;\">\n",
       "      <th></th>\n",
       "      <th>Survived</th>\n",
       "      <th>Pclass</th>\n",
       "      <th>Person</th>\n",
       "      <th>Cabin_Prefix</th>\n",
       "      <th>Age</th>\n",
       "      <th>Fare</th>\n",
       "      <th>Family_Size</th>\n",
       "    </tr>\n",
       "  </thead>\n",
       "  <tbody>\n",
       "    <tr>\n",
       "      <th>140</th>\n",
       "      <td>0</td>\n",
       "      <td>3</td>\n",
       "      <td>female</td>\n",
       "      <td>_</td>\n",
       "      <td>NaN</td>\n",
       "      <td>15.2458</td>\n",
       "      <td>2</td>\n",
       "    </tr>\n",
       "    <tr>\n",
       "      <th>439</th>\n",
       "      <td>0</td>\n",
       "      <td>2</td>\n",
       "      <td>male</td>\n",
       "      <td>_</td>\n",
       "      <td>31.0</td>\n",
       "      <td>10.5000</td>\n",
       "      <td>0</td>\n",
       "    </tr>\n",
       "    <tr>\n",
       "      <th>817</th>\n",
       "      <td>0</td>\n",
       "      <td>2</td>\n",
       "      <td>male</td>\n",
       "      <td>_</td>\n",
       "      <td>31.0</td>\n",
       "      <td>37.0042</td>\n",
       "      <td>2</td>\n",
       "    </tr>\n",
       "    <tr>\n",
       "      <th>378</th>\n",
       "      <td>0</td>\n",
       "      <td>3</td>\n",
       "      <td>male</td>\n",
       "      <td>_</td>\n",
       "      <td>20.0</td>\n",
       "      <td>4.0125</td>\n",
       "      <td>0</td>\n",
       "    </tr>\n",
       "    <tr>\n",
       "      <th>491</th>\n",
       "      <td>0</td>\n",
       "      <td>3</td>\n",
       "      <td>male</td>\n",
       "      <td>_</td>\n",
       "      <td>21.0</td>\n",
       "      <td>7.2500</td>\n",
       "      <td>0</td>\n",
       "    </tr>\n",
       "  </tbody>\n",
       "</table>\n",
       "</div>"
      ],
      "text/plain": [
       "     Survived  Pclass  Person Cabin_Prefix   Age     Fare  Family_Size\n",
       "140         0       3  female            _   NaN  15.2458            2\n",
       "439         0       2    male            _  31.0  10.5000            0\n",
       "817         0       2    male            _  31.0  37.0042            2\n",
       "378         0       3    male            _  20.0   4.0125            0\n",
       "491         0       3    male            _  21.0   7.2500            0"
      ]
     },
     "execution_count": 34,
     "metadata": {},
     "output_type": "execute_result"
    }
   ],
   "source": [
    "train_train.head()"
   ]
  },
  {
   "cell_type": "code",
   "execution_count": 35,
   "id": "b3cbc87e",
   "metadata": {},
   "outputs": [],
   "source": [
    "X_train = train_train.iloc[:, 1:].values\n",
    "y_train = train_train.iloc[:, 0].values"
   ]
  },
  {
   "cell_type": "code",
   "execution_count": 36,
   "id": "8a7d60e9",
   "metadata": {},
   "outputs": [
    {
     "name": "stdout",
     "output_type": "stream",
     "text": [
      "[[3 'female' '_' nan 15.2458 2]\n",
      " [2 'male' '_' 31.0 10.5 0]\n",
      " [2 'male' '_' 31.0 37.0042 2]\n",
      " ...\n",
      " [3 'male' '_' nan 7.7333 0]\n",
      " [3 'female' '_' 36.0 17.4 1]\n",
      " [2 'male' '_' 60.0 39.0 2]]\n",
      "[0 0 0 0 0 0 0 1 0 0 1 0 0 1 1 0 0 0 1 1 0 1 0 0 1 1 0 0 0 1 0 0 1 0 0 0 0\n",
      " 0 1 0 1 0 1 1 0 1 0 0 1 1 0 0 1 1 0 0 0 1 1 1 0 0 1 0 0 1 1 0 0 0 1 0 0 0\n",
      " 0 0 0 1 1 1 0 0 0 0 0 0 0 1 0 1 1 0 0 0 1 0 0 0 1 1 0 0 1 0 1 0 0 0 0 0 0\n",
      " 1 0 1 1 1 0 0 0 1 0 1 0 0 1 1 1 0 0 1 0 1 0 0 0 0 1 0 1 0 1 0 1 1 1 0 0 0\n",
      " 0 0 0 1 0 1 0 0 0 1 0 1 0 0 0 1 0 1 1 1 0 0 0 1 1 0 0 1 0 1 0 0 0 0 1 1 1\n",
      " 0 1 0 1 0 1 0 0 1 0 0 0 0 0 1 0 1 0 1 0 0 0 0 0 1 0 0 1 0 0 0 1 0 0 1 0 0\n",
      " 1 0 1 0 0 0 0 1 0 0 0 1 0 0 0 0 0 0 0 0 0 1 1 0 0 0 1 0 0 0 0 1 1 0 1 0 1\n",
      " 0 0 0 1 1 0 0 0 0 0 0 1 0 0 1 1 0 0 0 1 0 1 0 0 1 0 0 1 1 0 0 1 1 1 0 1 0\n",
      " 0 1 0 0 0 0 0 1 0 0 0 1 0 0 1 1 0 0 0 0 0 0 1 0 0 0 0 0 1 0 0 0 1 0 1 0 0\n",
      " 1 0 1 0 1 0 0 0 1 1 1 1 0 0 0 0 0 0 0 1 1 1 0 0 0 1 0 1 1 1 0 0 0 0 1 1 0\n",
      " 0 1 0 1 1 0 0 0 0 1 1 0 1 0 1 0 1 0 0 0 1 0 0 0 1 0 0 0 0 0 1 1 0 0 0 0 1\n",
      " 1 0 0 0 1 0 0 0 1 1 0 0 1 0 0 0 0 0 0 1 1 1 1 1 1 1 1 0 0 0 1 1 0 0 1 1 0\n",
      " 0 0 0 0 0 0 1 1 1 0 0 0 0 1 1 0 0 0 1 0 1 0 1 0 1 1 1 1 0 0 1 0 1 0 0 1 1\n",
      " 1 0 0 0 1 0 0 1 0 0 0 0 0 0 0 0 0 0 0 0 0 0 0 1 1 0 0 0 1 1 0 0 1 1 1 0 0\n",
      " 0 1 0 0 1 0 1 0 1 0 0 1 0 0 0 0 0 1 0 0 0 0 1 1 1 0 0 1 1 1 0 1 1 0 0 0 0\n",
      " 1 0 0 1 1 0 0 0 1 1 0 1 0 1 1 1 0 1 1 1 0 0 0 1 0 0 0 1 0 0 1 0 0 0 1 0 0\n",
      " 1 1 1 0 1 1 0 1 0 1 1 0 0 0 0 0 0 1 1 0 0 0 0 0 1 0 0 0 1 1 1 0 0 1 0 0 0\n",
      " 0 0 1 1 1 0 1 0 0 1 0 0 0 0 0 0 0 0 0 1 1 1 1 1 1 1 0 1 0 1 0 0 1 0 0 1 0\n",
      " 1 0 0 0 1 1 0 0 0 1 1 0 1 1 0 1 0 0 1 1 1 1 0 0 0 1 0 0 0 1 1 0 1 1 1 0 0\n",
      " 1 1 1 1 1 1 0 1 0]\n"
     ]
    }
   ],
   "source": [
    "print(X_train)\n",
    "print(y_train)"
   ]
  },
  {
   "cell_type": "code",
   "execution_count": 37,
   "id": "d2068a8d",
   "metadata": {},
   "outputs": [],
   "source": [
    "X_test = train_test.iloc[:, 1:].values\n",
    "y_test = train_test.iloc[:, 0].values"
   ]
  },
  {
   "cell_type": "code",
   "execution_count": 38,
   "id": "f2e93207",
   "metadata": {},
   "outputs": [
    {
     "name": "stdout",
     "output_type": "stream",
     "text": [
      "[[3 'male' '_' nan 14.4583 0]\n",
      " [3 'male' '_' nan 7.55 0]\n",
      " [3 'child' '_' 7.0 29.125 5]\n",
      " ...\n",
      " [1 'female' 'D' 31.0 113.275 1]\n",
      " [3 'male' '_' 23.0 7.8542 0]\n",
      " [3 'male' '_' 19.0 8.05 0]]\n",
      "[0 0 0 1 1 1 1 1 1 1 0 1 0 1 1 0 0 0 0 1 0 1 0 0 0 1 0 1 1 0 0 1 0 1 0 1 0\n",
      " 0 0 0 1 0 0 0 1 0 0 1 0 0 1 1 1 0 1 0 0 0 0 1 0 0 1 0 1 0 1 0 1 1 1 1 0 0\n",
      " 0 1 0 0 0 0 0 1 0 0 0 1 1 1 1 0 0 0 1 1 0 0 1 0 0 1 0 0 0 0 0 1 1 0 0 1 0\n",
      " 1 1 0 1 1 1 1 0 1 1 0 0 0 0 0 0 1 0 0 0 0 0 0 0 0 0 0 0 0 0 1 0 0 1 0 0 1\n",
      " 1 0 0 1 0 0 1 0 0 1 0 1 0 1 1 1 0 0 0 0 0 0 0 1 0 0 1 0 1 0 0]\n"
     ]
    }
   ],
   "source": [
    "print(X_test)\n",
    "print(y_test)"
   ]
  },
  {
   "cell_type": "markdown",
   "id": "e81a47ba",
   "metadata": {},
   "source": [
    "### 4.4 Creating X as input for prediction"
   ]
  },
  {
   "cell_type": "code",
   "execution_count": 39,
   "id": "26493256",
   "metadata": {},
   "outputs": [
    {
     "name": "stdout",
     "output_type": "stream",
     "text": [
      "   PassengerId  Pclass  Person Cabin_Prefix   Age     Fare  Family_Size\n",
      "0          892       3    male            _  34.5   7.8292            0\n",
      "1          893       3  female            _  47.0   7.0000            1\n",
      "2          894       2    male            _  62.0   9.6875            0\n",
      "3          895       3    male            _  27.0   8.6625            0\n",
      "4          896       3  female            _  22.0  12.2875            2\n"
     ]
    }
   ],
   "source": [
    "print(test.head())"
   ]
  },
  {
   "cell_type": "code",
   "execution_count": 40,
   "id": "71534b34",
   "metadata": {},
   "outputs": [],
   "source": [
    "X_pred = test.iloc[:, 1:].values"
   ]
  },
  {
   "cell_type": "code",
   "execution_count": 41,
   "id": "e518491b",
   "metadata": {},
   "outputs": [
    {
     "name": "stdout",
     "output_type": "stream",
     "text": [
      "[[3 'male' '_' 34.5 7.8292 0]\n",
      " [3 'female' '_' 47.0 7.0 1]\n",
      " [2 'male' '_' 62.0 9.6875 0]\n",
      " ...\n",
      " [3 'male' '_' 38.5 7.25 0]\n",
      " [3 'male' '_' nan 8.05 0]\n",
      " [3 'male' '_' nan 22.3583 2]]\n"
     ]
    }
   ],
   "source": [
    "print(X_pred)"
   ]
  },
  {
   "cell_type": "markdown",
   "id": "e9e95565",
   "metadata": {},
   "source": [
    "### 4.5 Handle missing data "
   ]
  },
  {
   "cell_type": "markdown",
   "id": "3e24461b",
   "metadata": {},
   "source": [
    "#### 4.5.1 Training set (model development)"
   ]
  },
  {
   "cell_type": "code",
   "execution_count": 42,
   "id": "72e2fc62",
   "metadata": {},
   "outputs": [
    {
     "name": "stdout",
     "output_type": "stream",
     "text": [
      "Survived          0\n",
      "Pclass            0\n",
      "Person            0\n",
      "Cabin_Prefix      0\n",
      "Age             141\n",
      "Fare              0\n",
      "Family_Size       0\n",
      "dtype: int64\n"
     ]
    }
   ],
   "source": [
    "print(train_train.isna().sum())"
   ]
  },
  {
   "cell_type": "markdown",
   "id": "9034afd6",
   "metadata": {},
   "source": [
    "##### Calculate treshold for missing values"
   ]
  },
  {
   "cell_type": "code",
   "execution_count": 43,
   "id": "41b38a18",
   "metadata": {},
   "outputs": [
    {
     "name": "stdout",
     "output_type": "stream",
     "text": [
      "35.6\n",
      "712\n"
     ]
    }
   ],
   "source": [
    "treshold = len(train_train) * 0.05\n",
    "print(treshold)\n",
    "print(len(train_train))"
   ]
  },
  {
   "cell_type": "markdown",
   "id": "4ba38545",
   "metadata": {},
   "source": [
    "As it is already obvious, the number of missing values in Age is far above the treshold so we cannot simply drop them. "
   ]
  },
  {
   "cell_type": "markdown",
   "id": "9d4fc5b2",
   "metadata": {},
   "source": [
    "We have now two options: \n",
    "- drop feature Age as there are many missing values in it\n",
    "- handle missing data by imputing mean e.g."
   ]
  },
  {
   "cell_type": "markdown",
   "id": "6df30f14",
   "metadata": {},
   "source": [
    "First we try building the model with feature Age and imputed values. "
   ]
  },
  {
   "cell_type": "markdown",
   "id": "1547f4f9",
   "metadata": {},
   "source": [
    "##### Keep Age and impute missing values"
   ]
  },
  {
   "cell_type": "code",
   "execution_count": 44,
   "id": "bde147bd",
   "metadata": {},
   "outputs": [
    {
     "name": "stdout",
     "output_type": "stream",
     "text": [
      "<class 'pandas.core.frame.DataFrame'>\n",
      "Int64Index: 712 entries, 140 to 684\n",
      "Data columns (total 7 columns):\n",
      " #   Column        Non-Null Count  Dtype  \n",
      "---  ------        --------------  -----  \n",
      " 0   Survived      712 non-null    int64  \n",
      " 1   Pclass        712 non-null    int64  \n",
      " 2   Person        712 non-null    object \n",
      " 3   Cabin_Prefix  712 non-null    object \n",
      " 4   Age           571 non-null    float64\n",
      " 5   Fare          712 non-null    float64\n",
      " 6   Family_Size   712 non-null    int64  \n",
      "dtypes: float64(2), int64(3), object(2)\n",
      "memory usage: 44.5+ KB\n",
      "None\n"
     ]
    }
   ],
   "source": [
    "print(train_train.info())"
   ]
  },
  {
   "cell_type": "code",
   "execution_count": 45,
   "id": "73285c69",
   "metadata": {},
   "outputs": [],
   "source": [
    "imputer = SimpleImputer(missing_values=np.nan, strategy='most_frequent')\n",
    "imputer.fit(np.reshape(X_train[:, 3], (len(X_train[:, 3]), 1)))\n",
    "X_train[:, 3] = imputer.transform(np.reshape(X_train[:, 3], (len(X_train[:, 3]), 1))).reshape(-1)"
   ]
  },
  {
   "cell_type": "code",
   "execution_count": 46,
   "id": "000ee84d",
   "metadata": {},
   "outputs": [
    {
     "name": "stdout",
     "output_type": "stream",
     "text": [
      "[[3 'female' '_' 24.0 15.2458 2]\n",
      " [2 'male' '_' 31.0 10.5 0]\n",
      " [2 'male' '_' 31.0 37.0042 2]\n",
      " ...\n",
      " [3 'male' '_' 24.0 7.7333 0]\n",
      " [3 'female' '_' 36.0 17.4 1]\n",
      " [2 'male' '_' 60.0 39.0 2]]\n"
     ]
    }
   ],
   "source": [
    "print(X_train)"
   ]
  },
  {
   "cell_type": "markdown",
   "id": "ca548c96",
   "metadata": {},
   "source": [
    "#### 4.5.2 Test set (model development)"
   ]
  },
  {
   "cell_type": "code",
   "execution_count": 47,
   "id": "4fa1685f",
   "metadata": {},
   "outputs": [
    {
     "name": "stdout",
     "output_type": "stream",
     "text": [
      "Survived         0\n",
      "Pclass           0\n",
      "Person           0\n",
      "Cabin_Prefix     0\n",
      "Age             36\n",
      "Fare             0\n",
      "Family_Size      0\n",
      "dtype: int64\n"
     ]
    }
   ],
   "source": [
    "print(train_test.isna().sum())"
   ]
  },
  {
   "cell_type": "code",
   "execution_count": 48,
   "id": "f462577b",
   "metadata": {},
   "outputs": [],
   "source": [
    "X_test[:, 3] = imputer.transform(np.reshape(X_test[:, 3], (len(X_test[:, 3]), 1))).reshape(-1)"
   ]
  },
  {
   "cell_type": "code",
   "execution_count": 49,
   "id": "404a3821",
   "metadata": {},
   "outputs": [
    {
     "name": "stdout",
     "output_type": "stream",
     "text": [
      "[[3 'male' '_' 24.0 14.4583 0]\n",
      " [3 'male' '_' 24.0 7.55 0]\n",
      " [3 'child' '_' 7.0 29.125 5]\n",
      " ...\n",
      " [1 'female' 'D' 31.0 113.275 1]\n",
      " [3 'male' '_' 23.0 7.8542 0]\n",
      " [3 'male' '_' 19.0 8.05 0]]\n"
     ]
    }
   ],
   "source": [
    "print(X_test)"
   ]
  },
  {
   "cell_type": "markdown",
   "id": "dcddf240",
   "metadata": {},
   "source": [
    "#### 4.5.3 Test set (test set to predict)"
   ]
  },
  {
   "cell_type": "code",
   "execution_count": 50,
   "id": "3c48c444",
   "metadata": {},
   "outputs": [
    {
     "name": "stdout",
     "output_type": "stream",
     "text": [
      "PassengerId      0\n",
      "Pclass           0\n",
      "Person           0\n",
      "Cabin_Prefix     0\n",
      "Age             86\n",
      "Fare             1\n",
      "Family_Size      0\n",
      "dtype: int64\n"
     ]
    }
   ],
   "source": [
    "print(test.isna().sum())"
   ]
  },
  {
   "cell_type": "markdown",
   "id": "327d55e9",
   "metadata": {},
   "source": [
    "Here we have one additional column with missing values in Fare."
   ]
  },
  {
   "cell_type": "markdown",
   "id": "0c410c6f",
   "metadata": {},
   "source": [
    "##### Calculate treshold for missing values"
   ]
  },
  {
   "cell_type": "code",
   "execution_count": 51,
   "id": "01698014",
   "metadata": {},
   "outputs": [
    {
     "name": "stdout",
     "output_type": "stream",
     "text": [
      "20.900000000000002\n",
      "418\n"
     ]
    }
   ],
   "source": [
    "treshold = len(test) * 0.05\n",
    "print(treshold)\n",
    "print(len(test))"
   ]
  },
  {
   "cell_type": "markdown",
   "id": "b6c2b80e",
   "metadata": {},
   "source": [
    "The missing value in Fare is below the treshold and the observation could be dropped. But as this observation belongs to the test set to predict, we have to deal with it and impute the missing value instead. The missing values in Age are filled by the imputer used for the training set."
   ]
  },
  {
   "cell_type": "markdown",
   "id": "f6c046eb",
   "metadata": {},
   "source": [
    "##### Impute missing values for Age"
   ]
  },
  {
   "cell_type": "code",
   "execution_count": 52,
   "id": "9e7139e8",
   "metadata": {},
   "outputs": [],
   "source": [
    "X_pred[:, 3] = imputer.transform(np.reshape(X_pred[:, 3], (len(X_pred[:, 3]), 1))).reshape(-1)"
   ]
  },
  {
   "cell_type": "code",
   "execution_count": 53,
   "id": "2b091bc9",
   "metadata": {},
   "outputs": [
    {
     "name": "stdout",
     "output_type": "stream",
     "text": [
      "[[3 'male' '_' 34.5 7.8292 0]\n",
      " [3 'female' '_' 47.0 7.0 1]\n",
      " [2 'male' '_' 62.0 9.6875 0]\n",
      " ...\n",
      " [3 'male' '_' 38.5 7.25 0]\n",
      " [3 'male' '_' 24.0 8.05 0]\n",
      " [3 'male' '_' 24.0 22.3583 2]]\n"
     ]
    }
   ],
   "source": [
    "print(X_pred)"
   ]
  },
  {
   "cell_type": "markdown",
   "id": "0b8677f1",
   "metadata": {},
   "source": [
    "##### Impute missing values for Fare"
   ]
  },
  {
   "cell_type": "code",
   "execution_count": 54,
   "id": "95c42931",
   "metadata": {},
   "outputs": [],
   "source": [
    "imputer_fare = SimpleImputer(missing_values=np.nan, strategy='most_frequent')\n",
    "imputer_fare.fit(np.reshape(X_pred[:, 4], (len(X_pred[:, 4]), 1)))\n",
    "X_pred[:, 4] = imputer_fare.transform(np.reshape(X_pred[:, 4], (len(X_pred[:, 4]), 1))).reshape(-1)"
   ]
  },
  {
   "cell_type": "markdown",
   "id": "aa253daa",
   "metadata": {},
   "source": [
    "### 4.6 Encode categorical values"
   ]
  },
  {
   "cell_type": "markdown",
   "id": "12ae374a",
   "metadata": {},
   "source": [
    "#### 4.6.1 Training set (model development)"
   ]
  },
  {
   "cell_type": "code",
   "execution_count": 55,
   "id": "3c1ed06b",
   "metadata": {},
   "outputs": [
    {
     "name": "stdout",
     "output_type": "stream",
     "text": [
      "<class 'pandas.core.frame.DataFrame'>\n",
      "RangeIndex: 891 entries, 0 to 890\n",
      "Data columns (total 7 columns):\n",
      " #   Column        Non-Null Count  Dtype  \n",
      "---  ------        --------------  -----  \n",
      " 0   Survived      891 non-null    int64  \n",
      " 1   Pclass        891 non-null    int64  \n",
      " 2   Person        891 non-null    object \n",
      " 3   Cabin_Prefix  891 non-null    object \n",
      " 4   Age           714 non-null    float64\n",
      " 5   Fare          891 non-null    float64\n",
      " 6   Family_Size   891 non-null    int64  \n",
      "dtypes: float64(2), int64(3), object(2)\n",
      "memory usage: 48.9+ KB\n",
      "None\n"
     ]
    }
   ],
   "source": [
    "print(train.info())"
   ]
  },
  {
   "cell_type": "code",
   "execution_count": 56,
   "id": "72b595d1",
   "metadata": {},
   "outputs": [
    {
     "name": "stdout",
     "output_type": "stream",
     "text": [
      "[[3 'female' '_' 24.0 15.2458 2]\n",
      " [2 'male' '_' 31.0 10.5 0]\n",
      " [2 'male' '_' 31.0 37.0042 2]\n",
      " ...\n",
      " [3 'male' '_' 24.0 7.7333 0]\n",
      " [3 'female' '_' 36.0 17.4 1]\n",
      " [2 'male' '_' 60.0 39.0 2]]\n",
      "(712, 6)\n",
      "[3 'female' '_' 24.0 15.2458 2]\n"
     ]
    }
   ],
   "source": [
    "print(X_train)\n",
    "print(np.shape(X_train))\n",
    "print(X_train[0])"
   ]
  },
  {
   "cell_type": "markdown",
   "id": "53fc95d3",
   "metadata": {},
   "source": [
    "Encode values in PClass (col 0), Person (col 1) and Cabin_Prefix (col 2)"
   ]
  },
  {
   "cell_type": "code",
   "execution_count": 57,
   "id": "3598f7d1",
   "metadata": {},
   "outputs": [],
   "source": [
    "ct_X = ColumnTransformer(transformers=[('encoder', OneHotEncoder(handle_unknown='ignore'), [0, 1, 2])], remainder='passthrough')\n",
    "ct_X.fit(X_train)\n",
    "X_train = ct_X.transform(X_train)"
   ]
  },
  {
   "cell_type": "code",
   "execution_count": 58,
   "id": "b99d7a1b",
   "metadata": {},
   "outputs": [
    {
     "name": "stdout",
     "output_type": "stream",
     "text": [
      "[[0.0 0.0 1.0 ... 24.0 15.2458 2]\n",
      " [0.0 1.0 0.0 ... 31.0 10.5 0]\n",
      " [0.0 1.0 0.0 ... 31.0 37.0042 2]\n",
      " ...\n",
      " [0.0 0.0 1.0 ... 24.0 7.7333 0]\n",
      " [0.0 0.0 1.0 ... 36.0 17.4 1]\n",
      " [0.0 1.0 0.0 ... 60.0 39.0 2]]\n",
      "(712, 18)\n",
      "[0.0 0.0 1.0 0.0 1.0 0.0 0.0 0.0 0.0 0.0 0.0 0.0 0.0 0.0 1.0 24.0 15.2458\n",
      " 2]\n"
     ]
    }
   ],
   "source": [
    "print(X_train)\n",
    "print(np.shape(X_train))\n",
    "print(X_train[0])"
   ]
  },
  {
   "cell_type": "markdown",
   "id": "6f16824f",
   "metadata": {},
   "source": [
    "#### 4.6.2 Test set (model input)"
   ]
  },
  {
   "cell_type": "code",
   "execution_count": 59,
   "id": "cd145d81",
   "metadata": {},
   "outputs": [],
   "source": [
    "X_test = ct_X.transform(X_test)"
   ]
  },
  {
   "cell_type": "code",
   "execution_count": 60,
   "id": "9fd056cc",
   "metadata": {},
   "outputs": [
    {
     "name": "stdout",
     "output_type": "stream",
     "text": [
      "[[0.0 0.0 1.0 ... 24.0 14.4583 0]\n",
      " [0.0 0.0 1.0 ... 24.0 7.55 0]\n",
      " [0.0 0.0 1.0 ... 7.0 29.125 5]\n",
      " ...\n",
      " [1.0 0.0 0.0 ... 31.0 113.275 1]\n",
      " [0.0 0.0 1.0 ... 23.0 7.8542 0]\n",
      " [0.0 0.0 1.0 ... 19.0 8.05 0]]\n"
     ]
    }
   ],
   "source": [
    "print(X_test)"
   ]
  },
  {
   "cell_type": "markdown",
   "id": "683b3857",
   "metadata": {},
   "source": [
    "#### 4.6.3 Test set (test set to predict)"
   ]
  },
  {
   "cell_type": "code",
   "execution_count": 61,
   "id": "a5cd3de1",
   "metadata": {},
   "outputs": [],
   "source": [
    "X_pred = ct_X.transform(X_pred)"
   ]
  },
  {
   "cell_type": "code",
   "execution_count": 62,
   "id": "96dad7d4",
   "metadata": {},
   "outputs": [
    {
     "name": "stdout",
     "output_type": "stream",
     "text": [
      "[[0.0 0.0 1.0 ... 34.5 7.8292 0]\n",
      " [0.0 0.0 1.0 ... 47.0 7.0 1]\n",
      " [0.0 1.0 0.0 ... 62.0 9.6875 0]\n",
      " ...\n",
      " [0.0 0.0 1.0 ... 38.5 7.25 0]\n",
      " [0.0 0.0 1.0 ... 24.0 8.05 0]\n",
      " [0.0 0.0 1.0 ... 24.0 22.3583 2]]\n"
     ]
    }
   ],
   "source": [
    "print(X_pred)"
   ]
  },
  {
   "cell_type": "markdown",
   "id": "305244db",
   "metadata": {},
   "source": [
    "### 4.7 Feature Scaling"
   ]
  },
  {
   "cell_type": "markdown",
   "id": "29a2a413",
   "metadata": {},
   "source": [
    "#### 4.7.1 Training set (model development)"
   ]
  },
  {
   "cell_type": "code",
   "execution_count": 63,
   "id": "62932a9f",
   "metadata": {},
   "outputs": [
    {
     "name": "stdout",
     "output_type": "stream",
     "text": [
      "<class 'pandas.core.frame.DataFrame'>\n",
      "RangeIndex: 891 entries, 0 to 890\n",
      "Data columns (total 7 columns):\n",
      " #   Column        Non-Null Count  Dtype  \n",
      "---  ------        --------------  -----  \n",
      " 0   Survived      891 non-null    int64  \n",
      " 1   Pclass        891 non-null    int64  \n",
      " 2   Person        891 non-null    object \n",
      " 3   Cabin_Prefix  891 non-null    object \n",
      " 4   Age           714 non-null    float64\n",
      " 5   Fare          891 non-null    float64\n",
      " 6   Family_Size   891 non-null    int64  \n",
      "dtypes: float64(2), int64(3), object(2)\n",
      "memory usage: 48.9+ KB\n",
      "None\n"
     ]
    }
   ],
   "source": [
    "print(train.info())"
   ]
  },
  {
   "cell_type": "markdown",
   "id": "49fcaa25",
   "metadata": {},
   "source": [
    "Scale numerical columns (col 3, col 4 , col 5)"
   ]
  },
  {
   "cell_type": "code",
   "execution_count": 64,
   "id": "372f9cf9",
   "metadata": {},
   "outputs": [],
   "source": [
    "sc = StandardScaler()\n",
    "X_train[:, 3:] = sc.fit_transform(X_train[:, 3:])"
   ]
  },
  {
   "cell_type": "code",
   "execution_count": 65,
   "id": "95a968bc",
   "metadata": {},
   "outputs": [
    {
     "name": "stdout",
     "output_type": "stream",
     "text": [
      "[[0.0 0.0 1.0 ... -0.346968750123903 -0.3316790433256366\n",
      "  0.6485339277429727]\n",
      " [0.0 1.0 0.0 ... 0.18017413986772474 -0.4264054204191258\n",
      "  -0.5539560632804559]\n",
      " [0.0 1.0 0.0 ... 0.18017413986772474 0.10261957931985559\n",
      "  0.6485339277429727]\n",
      " ...\n",
      " [0.0 0.0 1.0 ... -0.346968750123903 -0.4816288743161625\n",
      "  -0.5539560632804559]\n",
      " [0.0 0.0 1.0 ... 0.5567047755760303 -0.2886811164145163\n",
      "  0.04728893223125841]\n",
      " [0.0 1.0 0.0 ... 2.364051826975897 0.1424558352520875 0.6485339277429727]]\n"
     ]
    }
   ],
   "source": [
    "print(X_train)"
   ]
  },
  {
   "cell_type": "markdown",
   "id": "636017cf",
   "metadata": {},
   "source": [
    "#### 4.7.2 Test set (model development)"
   ]
  },
  {
   "cell_type": "code",
   "execution_count": 66,
   "id": "f58c2161",
   "metadata": {},
   "outputs": [],
   "source": [
    "X_test[:, 3:] = sc.transform(X_test[:, 3:])"
   ]
  },
  {
   "cell_type": "code",
   "execution_count": 67,
   "id": "83dda8c5",
   "metadata": {},
   "outputs": [
    {
     "name": "stdout",
     "output_type": "stream",
     "text": [
      "[[0.0 0.0 1.0 ... -0.346968750123903 -0.3473975780218148\n",
      "  -0.5539560632804559]\n",
      " [0.0 0.0 1.0 ... -0.346968750123903 -0.485287550392111\n",
      "  -0.5539560632804559]\n",
      " [0.0 0.0 1.0 ... -1.6271729115321418 -0.05464959982697327\n",
      "  2.4522689142781156]\n",
      " ...\n",
      " [1.0 0.0 0.0 ... 0.18017413986772474 1.6249881077075041\n",
      "  0.04728893223125841]\n",
      " [0.0 0.0 1.0 ... -0.4222748772655641 -0.4792157049894731\n",
      "  -0.5539560632804559]\n",
      " [0.0 0.0 1.0 ... -0.7234993858322085 -0.4753075283627915\n",
      "  -0.5539560632804559]]\n"
     ]
    }
   ],
   "source": [
    "print(X_test)"
   ]
  },
  {
   "cell_type": "markdown",
   "id": "f70e8448",
   "metadata": {},
   "source": [
    "#### 4.7.3 Test set (test set to predict)"
   ]
  },
  {
   "cell_type": "code",
   "execution_count": 68,
   "id": "64a9ee6e",
   "metadata": {},
   "outputs": [],
   "source": [
    "X_pred[:, 3:] = sc.transform(X_pred[:, 3:])"
   ]
  },
  {
   "cell_type": "code",
   "execution_count": 69,
   "id": "c9582eb2",
   "metadata": {},
   "outputs": [
    {
     "name": "stdout",
     "output_type": "stream",
     "text": [
      "[[0.0 0.0 1.0 ... 0.4437455848635386 -0.479714706090939\n",
      "  -0.5539560632804559]\n",
      " [0.0 0.0 1.0 ... 1.3850721741343024 -0.49626557462436255\n",
      "  0.04728893223125841]\n",
      " [0.0 1.0 0.0 ... 2.5146640812592187 -0.44262295621677006\n",
      "  -0.5539560632804559]\n",
      " ...\n",
      " [0.0 0.0 1.0 ... 0.7449700934301831 -0.49127556360970276\n",
      "  -0.5539560632804559]\n",
      " [0.0 0.0 1.0 ... -0.346968750123903 -0.4753075283627915\n",
      "  -0.5539560632804559]\n",
      " [0.0 0.0 1.0 ... -0.346968750123903 -0.1897132299585662\n",
      "  0.6485339277429727]]\n"
     ]
    }
   ],
   "source": [
    "print(X_pred)"
   ]
  },
  {
   "cell_type": "markdown",
   "id": "85307607",
   "metadata": {},
   "source": [
    "### 4.8 Find clusters with K_Means"
   ]
  },
  {
   "cell_type": "markdown",
   "id": "6d515619",
   "metadata": {},
   "source": [
    "#### 4.8.1 Using the elbow method and silhouette_score to find the optimal number of clusters"
   ]
  },
  {
   "cell_type": "code",
   "execution_count": 70,
   "id": "d7a33ee3",
   "metadata": {},
   "outputs": [],
   "source": [
    "wcss = []\n",
    "silhouette_scores = []\n",
    "for i in range(2, 11):\n",
    "    kmeans = KMeans(n_clusters=i, init='k-means++', random_state=42)\n",
    "    kmeans.fit(X_train)\n",
    "    wcss.append(kmeans.inertia_)\n",
    "    silhouette_scores.append(silhouette_score(X_train, kmeans.labels_))"
   ]
  },
  {
   "cell_type": "code",
   "execution_count": 71,
   "id": "33ee2559",
   "metadata": {},
   "outputs": [
    {
     "data": {
      "image/png": "[encoded data removed]",
      "text/plain": [
       "<Figure size 720x288 with 2 Axes>"
      ]
     },
     "metadata": {
      "needs_background": "light"
     },
     "output_type": "display_data"
    }
   ],
   "source": [
    "plt.figure(figsize=(10, 4))\n",
    "\n",
    "plt.subplot(1, 2, 1)\n",
    "plt.plot(range(2, 11), wcss)\n",
    "plt.title('The Elbow Method')\n",
    "plt.xlabel('Number of clusters')\n",
    "plt.ylabel('WCSS')\n",
    "\n",
    "plt.subplot(1, 2, 2)\n",
    "plt.plot(range(2, 11), silhouette_scores)\n",
    "plt.title('Silhouette Score')\n",
    "plt.xlabel('Number of clusters')\n",
    "plt.ylabel('Silhouette Score')\n",
    "\n",
    "plt.tight_layout()\n",
    "plt.show()"
   ]
  },
  {
   "cell_type": "markdown",
   "id": "7e7c930c",
   "metadata": {},
   "source": [
    "The elbow method doesn't provide a good hint for selecting the best cluster size. The silhouette score is difficult to interpret because the score increases with cluster size, but it's obvious that the too much clustering doesn't make sense for our problem. So we choose 2 as cluster size which would conform with our classification problem and the clustering in 'Survived' and 'Not survived'."
   ]
  },
  {
   "cell_type": "markdown",
   "id": "013fc7d8",
   "metadata": {},
   "source": [
    "#### 4.8.2 Training the K-Means model on the train dataset"
   ]
  },
  {
   "cell_type": "code",
   "execution_count": 72,
   "id": "5c42c5d9",
   "metadata": {},
   "outputs": [
    {
     "name": "stdout",
     "output_type": "stream",
     "text": [
      "[0 0 0 0 0 1 0 0 0 0 0 0 1 0 0 0 1 0 0 0 0 0 0 0 0 0 0 0 0 0 0 0 1 0 0 0 0\n",
      " 0 0 0 0 0 1 0 0 0 0 0 0 0 0 0 0 0 0 0 0 1 0 0 0 0 1 0 0 1 0 0 0 0 1 0 0 1\n",
      " 0 0 0 0 0 0 0 0 0 0 1 0 0 0 0 1 1 0 1 0 0 1 0 0 0 0 0 0 0 1 1 0 0 0 0 0 1\n",
      " 0 0 0 0 1 0 0 1 0 0 1 0 0 0 1 0 1 0 0 0 1 0 0 0 0 1 0 0 0 0 0 0 1 0 1 0 1\n",
      " 0 0 0 0 0 0 0 0 0 0 1 1 0 0 0 0 0 1 1 1 0 0 1 1 0 0 0 0 0 0 0 0 0 0 0 1 1\n",
      " 0 1 0 0 0 1 0 0 0 1 0 1 1 0 0 0 1 0 0 0 0 0 0 0 0 0 0 1 0 0 0 1 0 0 0 0 0\n",
      " 0 1 1 0 0 1 0 0 0 0 0 0 0 0 0 0 0 0 1 1 0 1 0 0 0 0 0 0 0 0 0 1 0 1 0 0 0\n",
      " 1 0 0 1 0 1 1 0 0 0 0 0 0 0 0 0 0 0 0 0 0 1 0 0 1 0 1 1 0 0 0 1 0 1 0 1 0\n",
      " 0 0 0 0 0 0 0 0 0 0 0 0 0 0 0 1 0 1 1 0 0 0 1 0 0 0 0 0 0 0 0 0 0 0 0 0 0\n",
      " 0 0 0 1 1 1 0 0 1 0 1 0 0 0 0 0 1 0 0 0 0 1 0 0 0 1 0 1 0 1 0 0 1 0 1 0 0\n",
      " 0 1 0 0 1 0 0 0 0 0 0 0 1 0 1 0 1 0 0 0 0 0 1 0 0 0 0 1 0 0 0 1 0 0 0 0 0\n",
      " 1 0 1 0 0 0 0 0 1 1 0 1 0 0 0 0 0 0 0 0 0 0 0 0 1 0 1 0 0 0 0 0 0 0 0 0 0\n",
      " 0 0 0 0 0 0 0 0 1 0 0 0 0 1 0 0 0 0 0 0 1 0 1 0 1 0 1 1 0 0 1 0 0 1 0 1 0\n",
      " 0 0 0 1 0 0 0 1 0 0 0 0 0 0 0 0 1 1 0 0 0 0 0 0 0 0 0 0 1 0 1 0 0 1 1 1 0\n",
      " 0 0 0 0 0 0 0 0 1 0 0 0 1 0 0 0 0 1 0 0 1 0 0 0 1 0 0 0 0 0 0 1 0 0 1 0 0\n",
      " 0 0 0 0 0 0 0 1 1 1 0 0 0 1 1 0 0 0 1 0 0 0 0 1 1 0 0 1 0 0 0 1 0 1 1 0 0\n",
      " 1 1 0 0 0 0 0 0 1 1 0 0 0 0 0 0 0 1 1 0 0 0 0 0 0 0 0 0 0 0 0 0 0 0 0 0 0\n",
      " 0 0 0 1 1 0 1 0 0 1 0 0 0 0 0 0 1 0 0 1 0 0 1 1 0 0 0 0 0 1 0 0 0 1 0 0 0\n",
      " 0 0 0 1 0 0 1 0 0 0 0 0 0 0 0 0 0 0 0 0 1 0 1 0 0 1 0 0 0 0 0 0 1 0 0 0 0\n",
      " 0 0 1 1 1 0 0 0 0]\n"
     ]
    }
   ],
   "source": [
    "kmeans_train = KMeans(n_clusters=2, init='k-means++', random_state=42)\n",
    "y_train_kmeans = kmeans_train.fit_predict(X_train)\n",
    "print(y_train_kmeans)"
   ]
  },
  {
   "cell_type": "markdown",
   "id": "52a7629c",
   "metadata": {},
   "source": [
    "#### 4.8.3 Adding the cluster number as new feature on the train dataset"
   ]
  },
  {
   "cell_type": "code",
   "execution_count": 73,
   "id": "d647f4f1",
   "metadata": {},
   "outputs": [],
   "source": [
    "y_train_kmeans = y_train_kmeans[:, np.newaxis]\n",
    "X_train = np.concatenate((X_train, y_train_kmeans), axis=1)"
   ]
  },
  {
   "cell_type": "code",
   "execution_count": 74,
   "id": "ec659f52",
   "metadata": {},
   "outputs": [
    {
     "name": "stdout",
     "output_type": "stream",
     "text": [
      "(712, 19)\n",
      "[[0.0 0.0 1.0 ... -0.3316790433256366 0.6485339277429727 0]\n",
      " [0.0 1.0 0.0 ... -0.4264054204191258 -0.5539560632804559 0]\n",
      " [0.0 1.0 0.0 ... 0.10261957931985559 0.6485339277429727 0]\n",
      " ...\n",
      " [0.0 0.0 1.0 ... -0.4816288743161625 -0.5539560632804559 0]\n",
      " [0.0 0.0 1.0 ... -0.2886811164145163 0.04728893223125841 0]\n",
      " [0.0 1.0 0.0 ... 0.1424558352520875 0.6485339277429727 0]]\n"
     ]
    }
   ],
   "source": [
    "print(np.shape(X_train))\n",
    "print(X_train)"
   ]
  },
  {
   "cell_type": "markdown",
   "id": "e0c1784f",
   "metadata": {},
   "source": [
    "#### 4.8.4 Predict and add the cluster number as new feature on the test dataset"
   ]
  },
  {
   "cell_type": "code",
   "execution_count": 75,
   "id": "54a98288",
   "metadata": {},
   "outputs": [],
   "source": [
    "y_test_kmeans = kmeans_train.predict(X_test)\n",
    "y_test_kmeans = y_test_kmeans[:, np.newaxis]\n",
    "X_test = np.concatenate((X_test, y_test_kmeans), axis=1)"
   ]
  },
  {
   "cell_type": "markdown",
   "id": "1ebc60de",
   "metadata": {},
   "source": [
    "#### 4.8.5 Predict and add the cluster number as new feature on the prediction dataset"
   ]
  },
  {
   "cell_type": "code",
   "execution_count": 76,
   "id": "17008b69",
   "metadata": {},
   "outputs": [],
   "source": [
    "y_pred_kmeans = kmeans_train.predict(X_pred)\n",
    "y_pred_kmeans = y_pred_kmeans[:, np.newaxis]\n",
    "X_pred = np.concatenate((X_pred, y_pred_kmeans), axis=1)"
   ]
  },
  {
   "cell_type": "markdown",
   "id": "af979277",
   "metadata": {},
   "source": []
  },
  {
   "cell_type": "markdown",
   "id": "c0b3b75a",
   "metadata": {},
   "source": [
    "### 4.9 Build the XGBoost model"
   ]
  },
  {
   "cell_type": "code",
   "execution_count": 77,
   "id": "3396085e",
   "metadata": {},
   "outputs": [
    {
     "name": "stdout",
     "output_type": "stream",
     "text": [
      "[0]\tvalidation_0-logloss:0.67350\n",
      "[1]\tvalidation_0-logloss:0.65546\n",
      "[2]\tvalidation_0-logloss:0.63808\n",
      "[3]\tvalidation_0-logloss:0.62524\n",
      "[4]\tvalidation_0-logloss:0.61005\n",
      "[5]\tvalidation_0-logloss:0.59849\n",
      "[6]\tvalidation_0-logloss:0.58392\n",
      "[7]\tvalidation_0-logloss:0.57217\n",
      "[8]\tvalidation_0-logloss:0.56203\n",
      "[9]\tvalidation_0-logloss:0.55310\n",
      "[10]\tvalidation_0-logloss:0.54494\n",
      "[11]\tvalidation_0-logloss:0.53558\n",
      "[12]\tvalidation_0-logloss:0.52957\n",
      "[13]\tvalidation_0-logloss:0.52276\n",
      "[14]\tvalidation_0-logloss:0.51559\n",
      "[15]\tvalidation_0-logloss:0.51034\n",
      "[16]\tvalidation_0-logloss:0.50326\n",
      "[17]\tvalidation_0-logloss:0.49714\n",
      "[18]\tvalidation_0-logloss:0.49077\n",
      "[19]\tvalidation_0-logloss:0.48547\n",
      "[20]\tvalidation_0-logloss:0.47888\n",
      "[21]\tvalidation_0-logloss:0.47366\n",
      "[22]\tvalidation_0-logloss:0.46919\n",
      "[23]\tvalidation_0-logloss:0.46649\n",
      "[24]\tvalidation_0-logloss:0.46291\n",
      "[25]\tvalidation_0-logloss:0.46039\n",
      "[26]\tvalidation_0-logloss:0.45790\n",
      "[27]\tvalidation_0-logloss:0.45349\n",
      "[28]\tvalidation_0-logloss:0.45027\n",
      "[29]\tvalidation_0-logloss:0.44645\n",
      "[30]\tvalidation_0-logloss:0.44342\n",
      "[31]\tvalidation_0-logloss:0.44007\n",
      "[32]\tvalidation_0-logloss:0.43799\n",
      "[33]\tvalidation_0-logloss:0.43615\n",
      "[34]\tvalidation_0-logloss:0.43255\n",
      "[35]\tvalidation_0-logloss:0.43163\n",
      "[36]\tvalidation_0-logloss:0.42903\n"
     ]
    },
    {
     "name": "stderr",
     "output_type": "stream",
     "text": [
      "C:\\ProgramData\\Anaconda3\\lib\\site-packages\\xgboost\\sklearn.py:835: UserWarning: `early_stopping_rounds` in `fit` method is deprecated for better compatibility with scikit-learn, use `early_stopping_rounds` in constructor or`set_params` instead.\n",
      "  warnings.warn(\n"
     ]
    },
    {
     "name": "stdout",
     "output_type": "stream",
     "text": [
      "[37]\tvalidation_0-logloss:0.42716\n",
      "[38]\tvalidation_0-logloss:0.42580\n",
      "[39]\tvalidation_0-logloss:0.42345\n",
      "[40]\tvalidation_0-logloss:0.42194\n",
      "[41]\tvalidation_0-logloss:0.42156\n",
      "[42]\tvalidation_0-logloss:0.42071\n",
      "[43]\tvalidation_0-logloss:0.41837\n",
      "[44]\tvalidation_0-logloss:0.41796\n",
      "[45]\tvalidation_0-logloss:0.41581\n",
      "[46]\tvalidation_0-logloss:0.41560\n",
      "[47]\tvalidation_0-logloss:0.41318\n",
      "[48]\tvalidation_0-logloss:0.41364\n",
      "[49]\tvalidation_0-logloss:0.41325\n",
      "[50]\tvalidation_0-logloss:0.41316\n",
      "[51]\tvalidation_0-logloss:0.41221\n",
      "[52]\tvalidation_0-logloss:0.41147\n",
      "[53]\tvalidation_0-logloss:0.40975\n",
      "[54]\tvalidation_0-logloss:0.40865\n",
      "[55]\tvalidation_0-logloss:0.40604\n",
      "[56]\tvalidation_0-logloss:0.40550\n",
      "[57]\tvalidation_0-logloss:0.40520\n",
      "[58]\tvalidation_0-logloss:0.40426\n",
      "[59]\tvalidation_0-logloss:0.40433\n",
      "[60]\tvalidation_0-logloss:0.40400\n",
      "[61]\tvalidation_0-logloss:0.40239\n",
      "[62]\tvalidation_0-logloss:0.40084\n",
      "[63]\tvalidation_0-logloss:0.40039\n",
      "[64]\tvalidation_0-logloss:0.39942\n",
      "[65]\tvalidation_0-logloss:0.39839\n",
      "[66]\tvalidation_0-logloss:0.39738\n",
      "[67]\tvalidation_0-logloss:0.39783\n",
      "[68]\tvalidation_0-logloss:0.39784\n",
      "[69]\tvalidation_0-logloss:0.39798\n",
      "[70]\tvalidation_0-logloss:0.39740\n",
      "[71]\tvalidation_0-logloss:0.39653\n",
      "[72]\tvalidation_0-logloss:0.39663\n",
      "[73]\tvalidation_0-logloss:0.39594\n",
      "[74]\tvalidation_0-logloss:0.39532\n",
      "[75]\tvalidation_0-logloss:0.39476\n",
      "[76]\tvalidation_0-logloss:0.39400\n",
      "[77]\tvalidation_0-logloss:0.39375\n",
      "[78]\tvalidation_0-logloss:0.39293\n",
      "[79]\tvalidation_0-logloss:0.39286\n",
      "[80]\tvalidation_0-logloss:0.39207\n",
      "[81]\tvalidation_0-logloss:0.39152\n",
      "[82]\tvalidation_0-logloss:0.39074\n",
      "[83]\tvalidation_0-logloss:0.39023\n",
      "[84]\tvalidation_0-logloss:0.39003\n",
      "[85]\tvalidation_0-logloss:0.38977\n",
      "[86]\tvalidation_0-logloss:0.38854\n",
      "[87]\tvalidation_0-logloss:0.38846\n",
      "[88]\tvalidation_0-logloss:0.38865\n",
      "[89]\tvalidation_0-logloss:0.38807\n",
      "[90]\tvalidation_0-logloss:0.38765\n",
      "[91]\tvalidation_0-logloss:0.38740\n",
      "[92]\tvalidation_0-logloss:0.38668\n",
      "[93]\tvalidation_0-logloss:0.38629\n",
      "[94]\tvalidation_0-logloss:0.38589\n",
      "[95]\tvalidation_0-logloss:0.38527\n",
      "[96]\tvalidation_0-logloss:0.38515\n",
      "[97]\tvalidation_0-logloss:0.38487\n",
      "[98]\tvalidation_0-logloss:0.38471\n",
      "[99]\tvalidation_0-logloss:0.38412\n",
      "[100]\tvalidation_0-logloss:0.38374\n",
      "[101]\tvalidation_0-logloss:0.38397\n",
      "[102]\tvalidation_0-logloss:0.38447\n",
      "[103]\tvalidation_0-logloss:0.38463\n",
      "[104]\tvalidation_0-logloss:0.38396\n",
      "[105]\tvalidation_0-logloss:0.38348\n",
      "[106]\tvalidation_0-logloss:0.38438\n",
      "[107]\tvalidation_0-logloss:0.38486\n",
      "[108]\tvalidation_0-logloss:0.38486\n",
      "[109]\tvalidation_0-logloss:0.38491\n",
      "[110]\tvalidation_0-logloss:0.38476\n"
     ]
    },
    {
     "data": {
      "text/plain": [
       "XGBClassifier(base_score=None, booster=None, callbacks=None,\n",
       "              colsample_bylevel=None, colsample_bynode=None,\n",
       "              colsample_bytree=None, early_stopping_rounds=None,\n",
       "              enable_categorical=False, eval_metric=None, feature_types=None,\n",
       "              gamma=None, gpu_id=None, grow_policy=None, importance_type=None,\n",
       "              interaction_constraints=None, learning_rate=0.05, max_bin=None,\n",
       "              max_cat_threshold=None, max_cat_to_onehot=None,\n",
       "              max_delta_step=None, max_depth=None, max_leaves=None,\n",
       "              min_child_weight=None, missing=nan, monotone_constraints=None,\n",
       "              n_estimators=1000, n_jobs=None, num_parallel_tree=None,\n",
       "              predictor=None, random_state=None, ...)"
      ]
     },
     "execution_count": 77,
     "metadata": {},
     "output_type": "execute_result"
    }
   ],
   "source": [
    "classifier = XGBClassifier(n_estimators=1000, learning_rate=0.05, subsample=0.3, reg_alpha=3)\n",
    "classifier.fit(X_train, y_train, early_stopping_rounds=5, eval_set=[(X_test, y_test)])"
   ]
  },
  {
   "cell_type": "markdown",
   "id": "b746e244",
   "metadata": {},
   "source": [
    "### 4.10. Predict Test set (model development )"
   ]
  },
  {
   "cell_type": "code",
   "execution_count": 78,
   "id": "22c74ebd",
   "metadata": {},
   "outputs": [],
   "source": [
    "y_model_pred = classifier.predict(X_test)"
   ]
  },
  {
   "cell_type": "code",
   "execution_count": 79,
   "id": "4d2112cd",
   "metadata": {},
   "outputs": [
    {
     "name": "stdout",
     "output_type": "stream",
     "text": [
      "[[0 0]\n",
      " [0 0]\n",
      " [0 0]\n",
      " [1 1]\n",
      " [0 1]\n",
      " [0 1]\n",
      " [1 1]\n",
      " [1 1]\n",
      " [0 1]\n",
      " [1 1]\n",
      " [0 0]\n",
      " [1 1]\n",
      " [0 0]\n",
      " [1 1]\n",
      " [1 1]\n",
      " [1 0]\n",
      " [0 0]\n",
      " [0 0]\n",
      " [0 0]\n",
      " [1 1]\n",
      " [0 0]\n",
      " [1 1]\n",
      " [0 0]\n",
      " [0 0]\n",
      " [1 0]\n",
      " [1 1]\n",
      " [0 0]\n",
      " [1 1]\n",
      " [1 1]\n",
      " [0 0]\n",
      " [0 0]\n",
      " [1 1]\n",
      " [0 0]\n",
      " [0 1]\n",
      " [0 0]\n",
      " [0 1]\n",
      " [0 0]\n",
      " [0 0]\n",
      " [0 0]\n",
      " [0 0]\n",
      " [0 1]\n",
      " [0 0]\n",
      " [0 0]\n",
      " [0 0]\n",
      " [1 1]\n",
      " [0 0]\n",
      " [0 0]\n",
      " [1 1]\n",
      " [0 0]\n",
      " [0 0]\n",
      " [0 1]\n",
      " [0 1]\n",
      " [1 1]\n",
      " [0 0]\n",
      " [0 1]\n",
      " [0 0]\n",
      " [0 0]\n",
      " [0 0]\n",
      " [0 0]\n",
      " [0 1]\n",
      " [0 0]\n",
      " [0 0]\n",
      " [1 1]\n",
      " [0 0]\n",
      " [1 1]\n",
      " [0 0]\n",
      " [1 1]\n",
      " [0 0]\n",
      " [1 1]\n",
      " [1 1]\n",
      " [1 1]\n",
      " [0 1]\n",
      " [0 0]\n",
      " [0 0]\n",
      " [0 0]\n",
      " [1 1]\n",
      " [0 0]\n",
      " [0 0]\n",
      " [0 0]\n",
      " [0 0]\n",
      " [0 0]\n",
      " [1 1]\n",
      " [1 0]\n",
      " [0 0]\n",
      " [0 0]\n",
      " [1 1]\n",
      " [1 1]\n",
      " [0 1]\n",
      " [1 1]\n",
      " [0 0]\n",
      " [0 0]\n",
      " [0 0]\n",
      " [1 1]\n",
      " [1 1]\n",
      " [0 0]\n",
      " [0 0]\n",
      " [1 1]\n",
      " [0 0]\n",
      " [0 0]\n",
      " [0 1]\n",
      " [0 0]\n",
      " [0 0]\n",
      " [0 0]\n",
      " [0 0]\n",
      " [1 0]\n",
      " [1 1]\n",
      " [1 1]\n",
      " [0 0]\n",
      " [0 0]\n",
      " [1 1]\n",
      " [0 0]\n",
      " [1 1]\n",
      " [0 1]\n",
      " [1 0]\n",
      " [0 1]\n",
      " [1 1]\n",
      " [1 1]\n",
      " [1 1]\n",
      " [0 0]\n",
      " [1 1]\n",
      " [0 1]\n",
      " [0 0]\n",
      " [0 0]\n",
      " [0 0]\n",
      " [0 0]\n",
      " [0 0]\n",
      " [0 0]\n",
      " [0 1]\n",
      " [0 0]\n",
      " [0 0]\n",
      " [1 0]\n",
      " [0 0]\n",
      " [0 0]\n",
      " [1 0]\n",
      " [0 0]\n",
      " [0 0]\n",
      " [0 0]\n",
      " [0 0]\n",
      " [0 0]\n",
      " [0 0]\n",
      " [0 0]\n",
      " [1 1]\n",
      " [0 0]\n",
      " [1 0]\n",
      " [1 1]\n",
      " [1 0]\n",
      " [0 0]\n",
      " [1 1]\n",
      " [1 1]\n",
      " [0 0]\n",
      " [0 0]\n",
      " [1 1]\n",
      " [1 0]\n",
      " [0 0]\n",
      " [1 1]\n",
      " [0 0]\n",
      " [0 0]\n",
      " [0 1]\n",
      " [1 0]\n",
      " [1 1]\n",
      " [0 0]\n",
      " [0 1]\n",
      " [1 1]\n",
      " [0 1]\n",
      " [1 0]\n",
      " [0 0]\n",
      " [0 0]\n",
      " [0 0]\n",
      " [0 0]\n",
      " [0 0]\n",
      " [0 0]\n",
      " [1 1]\n",
      " [0 0]\n",
      " [0 0]\n",
      " [1 1]\n",
      " [0 0]\n",
      " [1 1]\n",
      " [0 0]\n",
      " [0 0]]\n"
     ]
    }
   ],
   "source": [
    "print(np.concatenate((y_model_pred.reshape(len(y_model_pred),1), y_test.reshape(len(y_test),1)),1))"
   ]
  },
  {
   "cell_type": "markdown",
   "id": "391e42d2",
   "metadata": {},
   "source": [
    "### 4.11. Print Confusion Matrix"
   ]
  },
  {
   "cell_type": "code",
   "execution_count": 80,
   "id": "e73e21c9",
   "metadata": {},
   "outputs": [
    {
     "name": "stdout",
     "output_type": "stream",
     "text": [
      "[[98 12]\n",
      " [20 49]]\n"
     ]
    }
   ],
   "source": [
    "print(confusion_matrix(y_test, y_model_pred))"
   ]
  },
  {
   "cell_type": "code",
   "execution_count": 81,
   "id": "fa6b096b",
   "metadata": {},
   "outputs": [
    {
     "name": "stdout",
     "output_type": "stream",
     "text": [
      "82.12290502793296\n"
     ]
    }
   ],
   "source": [
    "print(accuracy_score(y_test, y_model_pred) * 100)"
   ]
  },
  {
   "cell_type": "markdown",
   "id": "ee814175",
   "metadata": {},
   "source": [
    "### 4.12. Applying k-Fold Cross Validation"
   ]
  },
  {
   "cell_type": "code",
   "execution_count": 82,
   "id": "e48f0f59",
   "metadata": {},
   "outputs": [
    {
     "name": "stdout",
     "output_type": "stream",
     "text": [
      "Accuracy: 83.86 %\n",
      "Standard Deviation: 2.40 %\n"
     ]
    }
   ],
   "source": [
    "accuracies = cross_val_score(estimator = classifier, X = X_train, y = y_train, cv = 10)\n",
    "print(\"Accuracy: {:.2f} %\".format(accuracies.mean()*100))\n",
    "print(\"Standard Deviation: {:.2f} %\".format(accuracies.std()*100))"
   ]
  },
  {
   "cell_type": "markdown",
   "id": "f66ad118",
   "metadata": {},
   "source": [
    "### 4.13. Predict Test set (with unknown results)"
   ]
  },
  {
   "cell_type": "code",
   "execution_count": 83,
   "id": "6731b1d4",
   "metadata": {},
   "outputs": [],
   "source": [
    "y_pred = classifier.predict(X_pred)"
   ]
  },
  {
   "cell_type": "code",
   "execution_count": 84,
   "id": "d627f12d",
   "metadata": {},
   "outputs": [
    {
     "name": "stdout",
     "output_type": "stream",
     "text": [
      "[0 0 0 0 1 1 1 0 1 0 0 0 1 0 1 1 0 0 1 1 0 1 1 0 1 0 1 0 0 0 0 0 0 0 0 0 1\n",
      " 1 0 0 0 0 0 1 1 0 0 0 1 0 0 0 1 1 0 0 0 0 0 1 0 0 0 1 1 1 1 0 0 1 1 0 1 0\n",
      " 1 0 0 1 0 1 1 0 0 0 0 0 1 1 1 1 1 0 1 0 0 0 1 0 1 0 1 0 0 0 1 0 0 0 0 0 0\n",
      " 1 1 1 1 0 0 1 0 1 1 0 1 0 0 1 0 1 0 0 0 0 0 0 0 0 0 0 1 0 0 1 0 0 0 0 0 0\n",
      " 0 0 1 0 0 0 0 0 1 1 0 1 1 1 1 0 0 1 0 0 1 1 0 0 0 0 0 1 1 0 1 1 0 1 1 0 1\n",
      " 0 1 0 0 0 0 0 1 0 1 0 1 1 0 1 1 1 0 1 0 0 1 0 1 0 0 0 0 1 0 0 1 0 1 0 1 0\n",
      " 1 0 1 1 0 1 0 0 1 1 0 0 0 0 0 0 1 1 1 1 0 0 0 0 1 0 1 1 1 0 0 0 0 0 0 0 1\n",
      " 0 0 0 1 1 0 0 0 0 1 0 0 0 1 1 0 1 0 0 0 0 1 1 1 1 1 0 0 0 0 0 0 1 0 0 0 0\n",
      " 1 0 0 0 0 0 0 0 1 1 0 1 0 0 0 0 0 1 1 1 0 0 0 0 0 0 0 0 1 0 1 0 0 0 1 0 0\n",
      " 1 0 0 0 0 0 0 0 0 0 1 0 1 0 1 0 1 1 0 0 0 1 0 1 0 0 1 0 1 1 0 1 0 0 1 1 0\n",
      " 0 1 0 0 1 1 1 0 0 0 0 0 1 1 0 1 0 0 0 0 0 1 1 0 0 1 0 1 0 0 1 0 1 0 0 0 0\n",
      " 0 1 1 1 1 1 0 1 0 0 0]\n"
     ]
    }
   ],
   "source": [
    "print(y_pred)"
   ]
  },
  {
   "cell_type": "markdown",
   "id": "e1cdf2b6",
   "metadata": {},
   "source": [
    "### 4.14. Create result dataframe and print it to csv"
   ]
  },
  {
   "cell_type": "code",
   "execution_count": 85,
   "id": "43a2f9b6",
   "metadata": {},
   "outputs": [
    {
     "name": "stdout",
     "output_type": "stream",
     "text": [
      "418\n"
     ]
    }
   ],
   "source": [
    "print(len(y_pred))"
   ]
  },
  {
   "cell_type": "code",
   "execution_count": 86,
   "id": "951cf8ec",
   "metadata": {},
   "outputs": [
    {
     "name": "stdout",
     "output_type": "stream",
     "text": [
      "     PassengerId  Survived\n",
      "0            892         0\n",
      "1            893         0\n",
      "2            894         0\n",
      "3            895         0\n",
      "4            896         1\n",
      "..           ...       ...\n",
      "413         1305         0\n",
      "414         1306         1\n",
      "415         1307         0\n",
      "416         1308         0\n",
      "417         1309         0\n",
      "\n",
      "[418 rows x 2 columns]\n"
     ]
    }
   ],
   "source": [
    "result = pd.DataFrame({'PassengerId': test['PassengerId'], 'Survived': y_pred})\n",
    "print(result)"
   ]
  },
  {
   "cell_type": "code",
   "execution_count": 87,
   "id": "22f733bc",
   "metadata": {},
   "outputs": [],
   "source": [
    "result.to_csv('../00_data/xgboost_12.csv', index=False)"
   ]
  },
  {
   "cell_type": "code",
   "execution_count": null,
   "id": "52ca1a99",
   "metadata": {},
   "outputs": [],
   "source": []
  }
 ],
 "metadata": {
  "kernelspec": {
   "display_name": "Python 3 (ipykernel)",
   "language": "python",
   "name": "python3"
  },
  "language_info": {
   "codemirror_mode": {
    "name": "ipython",
    "version": 3
   },
   "file_extension": ".py",
   "mimetype": "text/x-python",
   "name": "python",
   "nbconvert_exporter": "python",
   "pygments_lexer": "ipython3",
   "version": "3.9.7"
  }
 },
 "nbformat": 4,
 "nbformat_minor": 5
}
